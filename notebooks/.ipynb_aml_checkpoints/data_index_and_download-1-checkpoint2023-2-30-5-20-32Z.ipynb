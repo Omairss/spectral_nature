{
  "cells": [
    {
      "cell_type": "code",
      "source": [
        "!pip install fredapi"
      ],
      "outputs": [
        {
          "output_type": "stream",
          "name": "stdout",
          "text": "Requirement already satisfied: fredapi in /anaconda/envs/azureml_py38/lib/python3.8/site-packages (0.5.0)\r\nRequirement already satisfied: pandas in /anaconda/envs/azureml_py38/lib/python3.8/site-packages (from fredapi) (1.1.5)\r\nRequirement already satisfied: numpy>=1.15.4 in /anaconda/envs/azureml_py38/lib/python3.8/site-packages (from pandas->fredapi) (1.21.6)\r\nRequirement already satisfied: pytz>=2017.2 in /anaconda/envs/azureml_py38/lib/python3.8/site-packages (from pandas->fredapi) (2022.5)\r\nRequirement already satisfied: python-dateutil>=2.7.3 in /anaconda/envs/azureml_py38/lib/python3.8/site-packages (from pandas->fredapi) (2.8.2)\r\nRequirement already satisfied: six>=1.5 in /anaconda/envs/azureml_py38/lib/python3.8/site-packages (from python-dateutil>=2.7.3->pandas->fredapi) (1.16.0)\r\n"
        }
      ],
      "execution_count": 1,
      "metadata": {}
    },
    {
      "cell_type": "code",
      "source": [
        "import os\n",
        "from datetime import datetime"
      ],
      "outputs": [],
      "execution_count": 3,
      "metadata": {
        "jupyter": {
          "source_hidden": false,
          "outputs_hidden": false
        },
        "nteract": {
          "transient": {
            "deleting": false
          }
        },
        "gather": {
          "logged": 1680151693758
        }
      }
    },
    {
      "cell_type": "code",
      "source": [
        "SECRET_PATH = '../secrets'\n",
        "DATA_PATH = '../data'"
      ],
      "outputs": [],
      "execution_count": 4,
      "metadata": {
        "jupyter": {
          "source_hidden": false,
          "outputs_hidden": false
        },
        "nteract": {
          "transient": {
            "deleting": false
          }
        },
        "gather": {
          "logged": 1680151694031
        }
      }
    },
    {
      "cell_type": "markdown",
      "source": [],
      "metadata": {
        "nteract": {
          "transient": {
            "deleting": false
          }
        }
      }
    },
    {
      "cell_type": "code",
      "source": [
        "\n"
      ],
      "outputs": [],
      "execution_count": 5,
      "metadata": {
        "jupyter": {
          "source_hidden": false,
          "outputs_hidden": false
        },
        "nteract": {
          "transient": {
            "deleting": false
          }
        },
        "gather": {
          "logged": 1680151698171
        }
      }
    },
    {
      "cell_type": "code",
      "source": [
        "from fredapi import Fred\n",
        "import pandas as pd\n",
        "\n",
        "# Initialize the FRED API client with your API key\n",
        "fred = Fred(api_key=fred_api_key)\n",
        "\n",
        "# Define the FRED series IDs for the data you want to download\n",
        "series_ids = [\n",
        "    'UNRATE',  # Unemployment rate\n",
        "    'GDP',     # Gross domestic product\n",
        "    'CPALTT01USM657N',  # Consumer Price Index for All Urban Consumers: All Items\n",
        "]\n",
        "\n",
        "# Download the FRED data for the specified series IDs\n",
        "data = {}\n",
        "for series_id in series_ids:\n",
        "    series = fred.get_series(series_id)\n",
        "    data[series_id] = series\n",
        "\n",
        "# Combine the data into a single dataframe and save it to a CSV file\n",
        "df = pd.DataFrame(data)\n",
        "\n",
        "try:\n",
        "    df.to_csv(os.path.join(DATA_PATH, formatted_date_time, 'fred_data.csv'), index=False)\n",
        "except FileNotFoundError as e:\n",
        "    os.mkdir(os.path.join(DATA_PATH, formatted_date_time))\n",
        "    df.to_csv(os.path.join(DATA_PATH, formatted_date_time, 'fred_data.csv'), index=False)\n"
      ],
      "outputs": [],
      "execution_count": 17,
      "metadata": {
        "jupyter": {
          "source_hidden": false,
          "outputs_hidden": false
        },
        "nteract": {
          "transient": {
            "deleting": false
          }
        },
        "gather": {
          "logged": 1680151839543
        }
      }
    },
    {
      "cell_type": "code",
      "source": [
        "import os\n",
        "from datetime import datetime, timedelta\n",
        "import pandas as pd\n",
        "from fredapi import Fred\n",
        "\n",
        "\n",
        "def get_fred_data(api_key, series_ids):\n",
        "    csv_filename = 'fred_data.csv'\n",
        "    csv_filename_path = os.path.join(DATA_PATH, csv_filename)\n",
        "\n",
        "    # Check if cached data exists and is less than a month old\n",
        "    if os.path.exists(csv_filename):\n",
        "        file_age = datetime.now() - datetime.fromtimestamp(os.path.getmtime(csv_filename))\n",
        "        if file_age < timedelta(days=30):\n",
        "            # Read data from CSV file\n",
        "            df = pd.read_csv(csv_filename)\n",
        "            return df[df['series_id'].isin(series_ids)]\n",
        "\n",
        "    # Read data from FRED API\n",
        "    fred = Fred(api_key=api_key)\n",
        "    df = pd.DataFrame()\n",
        "    for series_id in series_ids:\n",
        "        data = fred.get_series(series_id)\n",
        "        df = df.append(pd.DataFrame({'series_id': [series_id] * len(data), 'date': data.index, 'value': data.values}))\n",
        "    try:\n",
        "        df.to_csv(csv_filename_path, index=False)\n",
        "    except FileNotFoundError as e:\n",
        "        os.mkdir(csv_filename)\n",
        "        df.to_csv(csv_filename_path, index=False)\n",
        "\n",
        "    return df"
      ],
      "outputs": [],
      "execution_count": 20,
      "metadata": {
        "jupyter": {
          "source_hidden": false,
          "outputs_hidden": false
        },
        "nteract": {
          "transient": {
            "deleting": false
          }
        },
        "gather": {
          "logged": 1680153125351
        }
      }
    },
    {
      "cell_type": "code",
      "source": [
        "def main():\n",
        "\n",
        "    with open(os.path.join(SECRET_PATH,'fred_api_key.txt')) as f:\n",
        "        fred_api_key = f.read()\n",
        "\n",
        "    series_ids_df = pd.read_csv('../metadata/fred_series_ids.txt')\n",
        "    \n",
        "    fred_df = get_fred_data(fred_api_key, series_ids)\n",
        "    \n",
        "    return fred_df\n",
        "\n",
        "fred_df = main()"
      ],
      "outputs": [],
      "execution_count": 29,
      "metadata": {
        "jupyter": {
          "source_hidden": false,
          "outputs_hidden": false
        },
        "nteract": {
          "transient": {
            "deleting": false
          }
        },
        "gather": {
          "logged": 1680153539116
        }
      }
    },
    {
      "cell_type": "code",
      "source": [
        "fred_df.pivot(index='date', columns = 'series_id')"
      ],
      "outputs": [
        {
          "output_type": "execute_result",
          "execution_count": 31,
          "data": {
            "text/plain": "                     value                  \nseries_id  CPALTT01USM657N        GDP UNRATE\ndate                                        \n1946-01-01             NaN        NaN    NaN\n1946-04-01             NaN        NaN    NaN\n1946-07-01             NaN        NaN    NaN\n1946-10-01             NaN        NaN    NaN\n1947-01-01             NaN    243.164    NaN\n...                    ...        ...    ...\n2022-10-01        0.405649  26144.956    3.7\n2022-11-01       -0.101003        NaN    3.6\n2022-12-01       -0.307009        NaN    3.5\n2023-01-01        0.799536        NaN    3.4\n2023-02-01             NaN        NaN    3.6\n\n[910 rows x 3 columns]",
            "text/html": "<div>\n<style scoped>\n    .dataframe tbody tr th:only-of-type {\n        vertical-align: middle;\n    }\n\n    .dataframe tbody tr th {\n        vertical-align: top;\n    }\n\n    .dataframe thead tr th {\n        text-align: left;\n    }\n\n    .dataframe thead tr:last-of-type th {\n        text-align: right;\n    }\n</style>\n<table border=\"1\" class=\"dataframe\">\n  <thead>\n    <tr>\n      <th></th>\n      <th colspan=\"3\" halign=\"left\">value</th>\n    </tr>\n    <tr>\n      <th>series_id</th>\n      <th>CPALTT01USM657N</th>\n      <th>GDP</th>\n      <th>UNRATE</th>\n    </tr>\n    <tr>\n      <th>date</th>\n      <th></th>\n      <th></th>\n      <th></th>\n    </tr>\n  </thead>\n  <tbody>\n    <tr>\n      <th>1946-01-01</th>\n      <td>NaN</td>\n      <td>NaN</td>\n      <td>NaN</td>\n    </tr>\n    <tr>\n      <th>1946-04-01</th>\n      <td>NaN</td>\n      <td>NaN</td>\n      <td>NaN</td>\n    </tr>\n    <tr>\n      <th>1946-07-01</th>\n      <td>NaN</td>\n      <td>NaN</td>\n      <td>NaN</td>\n    </tr>\n    <tr>\n      <th>1946-10-01</th>\n      <td>NaN</td>\n      <td>NaN</td>\n      <td>NaN</td>\n    </tr>\n    <tr>\n      <th>1947-01-01</th>\n      <td>NaN</td>\n      <td>243.164</td>\n      <td>NaN</td>\n    </tr>\n    <tr>\n      <th>...</th>\n      <td>...</td>\n      <td>...</td>\n      <td>...</td>\n    </tr>\n    <tr>\n      <th>2022-10-01</th>\n      <td>0.405649</td>\n      <td>26144.956</td>\n      <td>3.7</td>\n    </tr>\n    <tr>\n      <th>2022-11-01</th>\n      <td>-0.101003</td>\n      <td>NaN</td>\n      <td>3.6</td>\n    </tr>\n    <tr>\n      <th>2022-12-01</th>\n      <td>-0.307009</td>\n      <td>NaN</td>\n      <td>3.5</td>\n    </tr>\n    <tr>\n      <th>2023-01-01</th>\n      <td>0.799536</td>\n      <td>NaN</td>\n      <td>3.4</td>\n    </tr>\n    <tr>\n      <th>2023-02-01</th>\n      <td>NaN</td>\n      <td>NaN</td>\n      <td>3.6</td>\n    </tr>\n  </tbody>\n</table>\n<p>910 rows × 3 columns</p>\n</div>"
          },
          "metadata": {}
        }
      ],
      "execution_count": 31,
      "metadata": {
        "jupyter": {
          "source_hidden": false,
          "outputs_hidden": false
        },
        "nteract": {
          "transient": {
            "deleting": false
          }
        },
        "gather": {
          "logged": 1680153585097
        }
      }
    },
    {
      "cell_type": "code",
      "source": [],
      "outputs": [],
      "execution_count": null,
      "metadata": {
        "jupyter": {
          "source_hidden": false,
          "outputs_hidden": false
        },
        "nteract": {
          "transient": {
            "deleting": false
          }
        }
      }
    }
  ],
  "metadata": {
    "kernelspec": {
      "name": "python38-azureml",
      "language": "python",
      "display_name": "Python 3.8 - AzureML"
    },
    "language_info": {
      "name": "python",
      "version": "3.8.10",
      "mimetype": "text/x-python",
      "codemirror_mode": {
        "name": "ipython",
        "version": 3
      },
      "pygments_lexer": "ipython3",
      "nbconvert_exporter": "python",
      "file_extension": ".py"
    },
    "microsoft": {
      "ms_spell_check": {
        "ms_spell_check_language": "en"
      },
      "host": {
        "AzureML": {
          "notebookHasBeenCompleted": true
        }
      }
    },
    "kernel_info": {
      "name": "python38-azureml"
    },
    "nteract": {
      "version": "nteract-front-end@1.0.0"
    }
  },
  "nbformat": 4,
  "nbformat_minor": 2
}