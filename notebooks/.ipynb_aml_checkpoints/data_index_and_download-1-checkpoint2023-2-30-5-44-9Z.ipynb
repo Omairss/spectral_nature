{
  "cells": [
    {
      "cell_type": "code",
      "source": [
        "#!pip install fredapi\n",
        "!pip install tqdm"
      ],
      "outputs": [
        {
          "output_type": "stream",
          "name": "stdout",
          "text": "Requirement already satisfied: tqdm in /anaconda/envs/azureml_py38/lib/python3.8/site-packages (4.64.1)\r\n"
        }
      ],
      "execution_count": 53,
      "metadata": {
        "gather": {
          "logged": 1680154521797
        }
      }
    },
    {
      "cell_type": "code",
      "source": [
        "import os\n",
        "import time\n",
        "from tqdm.notebook import tqdm_notebook as tqdm\n",
        "from datetime import datetime"
      ],
      "outputs": [],
      "execution_count": 56,
      "metadata": {
        "jupyter": {
          "source_hidden": false,
          "outputs_hidden": false
        },
        "nteract": {
          "transient": {
            "deleting": false
          }
        },
        "gather": {
          "logged": 1680154593642
        }
      }
    },
    {
      "cell_type": "code",
      "source": [
        "SECRET_PATH = '../secrets'\n",
        "DATA_PATH = '../data'"
      ],
      "outputs": [],
      "execution_count": 4,
      "metadata": {
        "jupyter": {
          "source_hidden": false,
          "outputs_hidden": false
        },
        "nteract": {
          "transient": {
            "deleting": false
          }
        },
        "gather": {
          "logged": 1680151694031
        }
      }
    },
    {
      "cell_type": "markdown",
      "source": [],
      "metadata": {
        "nteract": {
          "transient": {
            "deleting": false
          }
        }
      }
    },
    {
      "cell_type": "code",
      "source": [
        "\n"
      ],
      "outputs": [],
      "execution_count": 5,
      "metadata": {
        "jupyter": {
          "source_hidden": false,
          "outputs_hidden": false
        },
        "nteract": {
          "transient": {
            "deleting": false
          }
        },
        "gather": {
          "logged": 1680151698171
        }
      }
    },
    {
      "cell_type": "code",
      "source": [
        "from fredapi import Fred\n",
        "import pandas as pd\n",
        "\n",
        "# Initialize the FRED API client with your API key\n",
        "fred = Fred(api_key=fred_api_key)\n",
        "\n",
        "# Define the FRED series IDs for the data you want to download\n",
        "series_ids = [\n",
        "    'UNRATE',  # Unemployment rate\n",
        "    'GDP',     # Gross domestic product\n",
        "    'CPALTT01USM657N',  # Consumer Price Index for All Urban Consumers: All Items\n",
        "]\n",
        "\n",
        "# Download the FRED data for the specified series IDs\n",
        "data = {}\n",
        "for series_id in series_ids:\n",
        "    series = fred.get_series(series_id)\n",
        "    data[series_id] = series\n",
        "\n",
        "# Combine the data into a single dataframe and save it to a CSV file\n",
        "df = pd.DataFrame(data)\n",
        "\n",
        "try:\n",
        "    df.to_csv(os.path.join(DATA_PATH, formatted_date_time, 'fred_data.csv'), index=False)\n",
        "except FileNotFoundError as e:\n",
        "    os.mkdir(os.path.join(DATA_PATH, formatted_date_time))\n",
        "    df.to_csv(os.path.join(DATA_PATH, formatted_date_time, 'fred_data.csv'), index=False)\n"
      ],
      "outputs": [],
      "execution_count": 17,
      "metadata": {
        "jupyter": {
          "source_hidden": false,
          "outputs_hidden": false
        },
        "nteract": {
          "transient": {
            "deleting": false
          }
        },
        "gather": {
          "logged": 1680151839543
        }
      }
    },
    {
      "cell_type": "code",
      "source": [
        "import os\n",
        "from datetime import datetime, timedelta\n",
        "import pandas as pd\n",
        "from fredapi import Fred\n",
        "\n",
        "\n",
        "def get_fred_data(api_key, series_ids):\n",
        "    csv_filename = 'fred_data.csv'\n",
        "    csv_filename_path = os.path.join(DATA_PATH, csv_filename)\n",
        "\n",
        "    # Check if cached data exists and is less than a month old\n",
        "    if os.path.exists(csv_filename):\n",
        "        file_age = datetime.now() - datetime.fromtimestamp(os.path.getmtime(csv_filename))\n",
        "        if file_age < timedelta(days=30):\n",
        "            # Read data from CSV file\n",
        "            df = pd.read_csv(csv_filename)\n",
        "            return df[df['series_id'].isin(series_ids)]\n",
        "\n",
        "    # Read data from FRED API\n",
        "    fred = Fred(api_key=api_key)\n",
        "    df = pd.DataFrame()\n",
        "    for series_id in tqdm(series_ids):\n",
        "        time.sleep(0.5)\n",
        "        try:\n",
        "            data = fred.get_series(series_id)\n",
        "            df = df.append(pd.DataFrame({'series_id': [series_id] * len(data), 'date': data.index, 'value': data.values}))\n",
        "        except Exception as e:\n",
        "            print(series_id + str(e))\n",
        "    try:\n",
        "        df.to_csv(csv_filename_path, index=False)\n",
        "    except FileNotFoundError as e:\n",
        "        os.mkdir(csv_filename)\n",
        "        df.to_csv(csv_filename_path, index=False)\n",
        "\n",
        "    return df\n",
        "\n",
        "\n",
        "import os\n",
        "import requests\n",
        "import pandas as pd\n",
        "from datetime import datetime, timedelta\n",
        "\n",
        "def get_stock_data(api_key, symbol, interval='1min', outputsize='compact'):\n",
        "    csv_filename = f'{symbol}.csv'\n",
        "    url = f'https://www.alphavantage.co/query?function=TIME_SERIES_INTRADAY&symbol={symbol}&interval={interval}&outputsize={outputsize}&apikey={api_key}'\n",
        "\n",
        "    # Check if cached data exists and is less than a day old\n",
        "    if os.path.exists(csv_filename):\n",
        "        file_age = datetime.now() - datetime.fromtimestamp(os.path.getmtime(csv_filename))\n",
        "        if file_age < timedelta(days=1):\n",
        "            # Read data from CSV file\n",
        "            df = pd.read_csv(csv_filename)\n",
        "            return df\n",
        "\n",
        "    # Fetch data from API\n",
        "    response = requests.get(url)\n",
        "    if response.status_code == 200:\n",
        "        data = response.json()['Time Series (1min)']\n",
        "        df = pd.DataFrame.from_dict(data, orient='index')\n",
        "        df.index = pd.to_datetime(df.index)\n",
        "        df.sort_index(inplace=True)\n",
        "        df.to_csv(csv_filename)  # Cache data to CSV file\n",
        "        return df\n",
        "    else:\n",
        "        print(f'Error fetching data for {symbol}')\n",
        "        return None"
      ],
      "outputs": [],
      "execution_count": 59,
      "metadata": {
        "jupyter": {
          "source_hidden": false,
          "outputs_hidden": false
        },
        "nteract": {
          "transient": {
            "deleting": false
          }
        },
        "gather": {
          "logged": 1680154662855
        }
      }
    },
    {
      "cell_type": "code",
      "source": [
        "def main():\n",
        "\n",
        "    with open(os.path.join(SECRET_PATH,'fred_api_key.txt')) as f:\n",
        "        fred_api_key = f.read()\n",
        "\n",
        "    with open(os.path.join(SECRET_PATH,'alpha_vantage_api_key.txt')) as f:\n",
        "        av_api_key = f.read()\n",
        "\n",
        "    series_ids_df = pd.read_csv('../metadata/fred_series_ids.txt')\n",
        "    \n",
        "    fred_df = get_fred_data(fred_api_key, list(series_ids_df['Series ID']))\n",
        "    \n",
        "    return fred_df\n",
        "\n",
        "fred_df = main()"
      ],
      "outputs": [
        {
          "output_type": "display_data",
          "data": {
            "text/plain": "  0%|          | 0/30 [00:00<?, ?it/s]",
            "application/vnd.jupyter.widget-view+json": {
              "version_major": 2,
              "version_minor": 0,
              "model_id": "d93c91e5dc1f4c94bc7b770e45c13492"
            }
          },
          "metadata": {}
        },
        {
          "output_type": "stream",
          "name": "stdout",
          "text": "WTIBad Request.  The series does not exist.\nDTWEXBPABad Request.  The series does not exist.\nSP500DIVBad Request.  The series does not exist.\nCPILTT01USM657NBad Request.  The series does not exist.\nDSPIC96TBad Request.  The series does not exist.\n"
        }
      ],
      "execution_count": 60,
      "metadata": {
        "jupyter": {
          "source_hidden": false,
          "outputs_hidden": false
        },
        "nteract": {
          "transient": {
            "deleting": false
          }
        },
        "gather": {
          "logged": 1680154693701
        }
      }
    },
    {
      "cell_type": "code",
      "source": [
        "fred_df"
      ],
      "outputs": [
        {
          "output_type": "execute_result",
          "execution_count": 61,
          "data": {
            "text/plain": "      series_id       date    value\n0           GDP 1946-01-01      NaN\n1           GDP 1946-04-01      NaN\n2           GDP 1946-07-01      NaN\n3           GDP 1946-10-01      NaN\n4           GDP 1947-01-01  243.164\n...         ...        ...      ...\n12026     DGS30 2023-03-22    3.680\n12027     DGS30 2023-03-23    3.660\n12028     DGS30 2023-03-24    3.640\n12029     DGS30 2023-03-27    3.770\n12030     DGS30 2023-03-28    3.770\n\n[94335 rows x 3 columns]",
            "text/html": "<div>\n<style scoped>\n    .dataframe tbody tr th:only-of-type {\n        vertical-align: middle;\n    }\n\n    .dataframe tbody tr th {\n        vertical-align: top;\n    }\n\n    .dataframe thead th {\n        text-align: right;\n    }\n</style>\n<table border=\"1\" class=\"dataframe\">\n  <thead>\n    <tr style=\"text-align: right;\">\n      <th></th>\n      <th>series_id</th>\n      <th>date</th>\n      <th>value</th>\n    </tr>\n  </thead>\n  <tbody>\n    <tr>\n      <th>0</th>\n      <td>GDP</td>\n      <td>1946-01-01</td>\n      <td>NaN</td>\n    </tr>\n    <tr>\n      <th>1</th>\n      <td>GDP</td>\n      <td>1946-04-01</td>\n      <td>NaN</td>\n    </tr>\n    <tr>\n      <th>2</th>\n      <td>GDP</td>\n      <td>1946-07-01</td>\n      <td>NaN</td>\n    </tr>\n    <tr>\n      <th>3</th>\n      <td>GDP</td>\n      <td>1946-10-01</td>\n      <td>NaN</td>\n    </tr>\n    <tr>\n      <th>4</th>\n      <td>GDP</td>\n      <td>1947-01-01</td>\n      <td>243.164</td>\n    </tr>\n    <tr>\n      <th>...</th>\n      <td>...</td>\n      <td>...</td>\n      <td>...</td>\n    </tr>\n    <tr>\n      <th>12026</th>\n      <td>DGS30</td>\n      <td>2023-03-22</td>\n      <td>3.680</td>\n    </tr>\n    <tr>\n      <th>12027</th>\n      <td>DGS30</td>\n      <td>2023-03-23</td>\n      <td>3.660</td>\n    </tr>\n    <tr>\n      <th>12028</th>\n      <td>DGS30</td>\n      <td>2023-03-24</td>\n      <td>3.640</td>\n    </tr>\n    <tr>\n      <th>12029</th>\n      <td>DGS30</td>\n      <td>2023-03-27</td>\n      <td>3.770</td>\n    </tr>\n    <tr>\n      <th>12030</th>\n      <td>DGS30</td>\n      <td>2023-03-28</td>\n      <td>3.770</td>\n    </tr>\n  </tbody>\n</table>\n<p>94335 rows × 3 columns</p>\n</div>"
          },
          "metadata": {}
        }
      ],
      "execution_count": 61,
      "metadata": {
        "jupyter": {
          "source_hidden": false,
          "outputs_hidden": false
        },
        "nteract": {
          "transient": {
            "deleting": false
          }
        },
        "gather": {
          "logged": 1680154779510
        }
      }
    },
    {
      "cell_type": "code",
      "source": [
        "fred_df.pivot(index='date', columns = 'series_id', values = 'value')"
      ],
      "outputs": [
        {
          "output_type": "execute_result",
          "execution_count": 62,
          "data": {
            "text/plain": "series_id   A191RL1Q225SBEA  BAMLH0A0HYM2  CPIAUCSL  CPILFESL  DCOILWTICO  \\\ndate                                                                        \n1919-01-01              NaN           NaN       NaN       NaN         NaN   \n1919-02-01              NaN           NaN       NaN       NaN         NaN   \n1919-03-01              NaN           NaN       NaN       NaN         NaN   \n1919-04-01              NaN           NaN       NaN       NaN         NaN   \n1919-05-01              NaN           NaN       NaN       NaN         NaN   \n...                     ...           ...       ...       ...         ...   \n2023-03-23              NaN          5.10       NaN       NaN       69.77   \n2023-03-24              NaN          5.22       NaN       NaN       69.22   \n2023-03-27              NaN          5.03       NaN       NaN       72.87   \n2023-03-28              NaN          5.01       NaN       NaN         NaN   \n2023-03-29              NaN           NaN       NaN       NaN         NaN   \n\nseries_id   DGS10  DGS30  DSPIC96  DTWEXB  DTWEXEMEGS  ...  M2SL  \\\ndate                                                   ...         \n1919-01-01    NaN    NaN      NaN     NaN         NaN  ...   NaN   \n1919-02-01    NaN    NaN      NaN     NaN         NaN  ...   NaN   \n1919-03-01    NaN    NaN      NaN     NaN         NaN  ...   NaN   \n1919-04-01    NaN    NaN      NaN     NaN         NaN  ...   NaN   \n1919-05-01    NaN    NaN      NaN     NaN         NaN  ...   NaN   \n...           ...    ...      ...     ...         ...  ...   ...   \n2023-03-23   3.38   3.66      NaN     NaN    126.6667  ...   NaN   \n2023-03-24   3.38   3.64      NaN     NaN    127.1277  ...   NaN   \n2023-03-27   3.53   3.77      NaN     NaN         NaN  ...   NaN   \n2023-03-28   3.55   3.77      NaN     NaN         NaN  ...   NaN   \n2023-03-29    NaN    NaN      NaN     NaN         NaN  ...   NaN   \n\nseries_id   MORTGAGE30US  PAYEMS  PCE  PCETRIM12M159SFRBDAL    SP500  T10Y3M  \\\ndate                                                                           \n1919-01-01           NaN     NaN  NaN                   NaN      NaN     NaN   \n1919-02-01           NaN     NaN  NaN                   NaN      NaN     NaN   \n1919-03-01           NaN     NaN  NaN                   NaN      NaN     NaN   \n1919-04-01           NaN     NaN  NaN                   NaN      NaN     NaN   \n1919-05-01           NaN     NaN  NaN                   NaN      NaN     NaN   \n...                  ...     ...  ...                   ...      ...     ...   \n2023-03-23          6.42     NaN  NaN                   NaN  3948.72   -1.35   \n2023-03-24           NaN     NaN  NaN                   NaN  3970.99   -1.36   \n2023-03-27           NaN     NaN  NaN                   NaN  3977.53   -1.38   \n2023-03-28           NaN     NaN  NaN                   NaN  3971.27   -1.25   \n2023-03-29           NaN     NaN  NaN                   NaN  4027.81   -1.23   \n\nseries_id   UNRATE  VIXCLS  WTISPLC  \ndate                                 \n1919-01-01     NaN     NaN      NaN  \n1919-02-01     NaN     NaN      NaN  \n1919-03-01     NaN     NaN      NaN  \n1919-04-01     NaN     NaN      NaN  \n1919-05-01     NaN     NaN      NaN  \n...            ...     ...      ...  \n2023-03-23     NaN   22.61      NaN  \n2023-03-24     NaN   21.74      NaN  \n2023-03-27     NaN   20.60      NaN  \n2023-03-28     NaN   19.97      NaN  \n2023-03-29     NaN     NaN      NaN  \n\n[17169 rows x 25 columns]",
            "text/html": "<div>\n<style scoped>\n    .dataframe tbody tr th:only-of-type {\n        vertical-align: middle;\n    }\n\n    .dataframe tbody tr th {\n        vertical-align: top;\n    }\n\n    .dataframe thead th {\n        text-align: right;\n    }\n</style>\n<table border=\"1\" class=\"dataframe\">\n  <thead>\n    <tr style=\"text-align: right;\">\n      <th>series_id</th>\n      <th>A191RL1Q225SBEA</th>\n      <th>BAMLH0A0HYM2</th>\n      <th>CPIAUCSL</th>\n      <th>CPILFESL</th>\n      <th>DCOILWTICO</th>\n      <th>DGS10</th>\n      <th>DGS30</th>\n      <th>DSPIC96</th>\n      <th>DTWEXB</th>\n      <th>DTWEXEMEGS</th>\n      <th>...</th>\n      <th>M2SL</th>\n      <th>MORTGAGE30US</th>\n      <th>PAYEMS</th>\n      <th>PCE</th>\n      <th>PCETRIM12M159SFRBDAL</th>\n      <th>SP500</th>\n      <th>T10Y3M</th>\n      <th>UNRATE</th>\n      <th>VIXCLS</th>\n      <th>WTISPLC</th>\n    </tr>\n    <tr>\n      <th>date</th>\n      <th></th>\n      <th></th>\n      <th></th>\n      <th></th>\n      <th></th>\n      <th></th>\n      <th></th>\n      <th></th>\n      <th></th>\n      <th></th>\n      <th></th>\n      <th></th>\n      <th></th>\n      <th></th>\n      <th></th>\n      <th></th>\n      <th></th>\n      <th></th>\n      <th></th>\n      <th></th>\n      <th></th>\n    </tr>\n  </thead>\n  <tbody>\n    <tr>\n      <th>1919-01-01</th>\n      <td>NaN</td>\n      <td>NaN</td>\n      <td>NaN</td>\n      <td>NaN</td>\n      <td>NaN</td>\n      <td>NaN</td>\n      <td>NaN</td>\n      <td>NaN</td>\n      <td>NaN</td>\n      <td>NaN</td>\n      <td>...</td>\n      <td>NaN</td>\n      <td>NaN</td>\n      <td>NaN</td>\n      <td>NaN</td>\n      <td>NaN</td>\n      <td>NaN</td>\n      <td>NaN</td>\n      <td>NaN</td>\n      <td>NaN</td>\n      <td>NaN</td>\n    </tr>\n    <tr>\n      <th>1919-02-01</th>\n      <td>NaN</td>\n      <td>NaN</td>\n      <td>NaN</td>\n      <td>NaN</td>\n      <td>NaN</td>\n      <td>NaN</td>\n      <td>NaN</td>\n      <td>NaN</td>\n      <td>NaN</td>\n      <td>NaN</td>\n      <td>...</td>\n      <td>NaN</td>\n      <td>NaN</td>\n      <td>NaN</td>\n      <td>NaN</td>\n      <td>NaN</td>\n      <td>NaN</td>\n      <td>NaN</td>\n      <td>NaN</td>\n      <td>NaN</td>\n      <td>NaN</td>\n    </tr>\n    <tr>\n      <th>1919-03-01</th>\n      <td>NaN</td>\n      <td>NaN</td>\n      <td>NaN</td>\n      <td>NaN</td>\n      <td>NaN</td>\n      <td>NaN</td>\n      <td>NaN</td>\n      <td>NaN</td>\n      <td>NaN</td>\n      <td>NaN</td>\n      <td>...</td>\n      <td>NaN</td>\n      <td>NaN</td>\n      <td>NaN</td>\n      <td>NaN</td>\n      <td>NaN</td>\n      <td>NaN</td>\n      <td>NaN</td>\n      <td>NaN</td>\n      <td>NaN</td>\n      <td>NaN</td>\n    </tr>\n    <tr>\n      <th>1919-04-01</th>\n      <td>NaN</td>\n      <td>NaN</td>\n      <td>NaN</td>\n      <td>NaN</td>\n      <td>NaN</td>\n      <td>NaN</td>\n      <td>NaN</td>\n      <td>NaN</td>\n      <td>NaN</td>\n      <td>NaN</td>\n      <td>...</td>\n      <td>NaN</td>\n      <td>NaN</td>\n      <td>NaN</td>\n      <td>NaN</td>\n      <td>NaN</td>\n      <td>NaN</td>\n      <td>NaN</td>\n      <td>NaN</td>\n      <td>NaN</td>\n      <td>NaN</td>\n    </tr>\n    <tr>\n      <th>1919-05-01</th>\n      <td>NaN</td>\n      <td>NaN</td>\n      <td>NaN</td>\n      <td>NaN</td>\n      <td>NaN</td>\n      <td>NaN</td>\n      <td>NaN</td>\n      <td>NaN</td>\n      <td>NaN</td>\n      <td>NaN</td>\n      <td>...</td>\n      <td>NaN</td>\n      <td>NaN</td>\n      <td>NaN</td>\n      <td>NaN</td>\n      <td>NaN</td>\n      <td>NaN</td>\n      <td>NaN</td>\n      <td>NaN</td>\n      <td>NaN</td>\n      <td>NaN</td>\n    </tr>\n    <tr>\n      <th>...</th>\n      <td>...</td>\n      <td>...</td>\n      <td>...</td>\n      <td>...</td>\n      <td>...</td>\n      <td>...</td>\n      <td>...</td>\n      <td>...</td>\n      <td>...</td>\n      <td>...</td>\n      <td>...</td>\n      <td>...</td>\n      <td>...</td>\n      <td>...</td>\n      <td>...</td>\n      <td>...</td>\n      <td>...</td>\n      <td>...</td>\n      <td>...</td>\n      <td>...</td>\n      <td>...</td>\n    </tr>\n    <tr>\n      <th>2023-03-23</th>\n      <td>NaN</td>\n      <td>5.10</td>\n      <td>NaN</td>\n      <td>NaN</td>\n      <td>69.77</td>\n      <td>3.38</td>\n      <td>3.66</td>\n      <td>NaN</td>\n      <td>NaN</td>\n      <td>126.6667</td>\n      <td>...</td>\n      <td>NaN</td>\n      <td>6.42</td>\n      <td>NaN</td>\n      <td>NaN</td>\n      <td>NaN</td>\n      <td>3948.72</td>\n      <td>-1.35</td>\n      <td>NaN</td>\n      <td>22.61</td>\n      <td>NaN</td>\n    </tr>\n    <tr>\n      <th>2023-03-24</th>\n      <td>NaN</td>\n      <td>5.22</td>\n      <td>NaN</td>\n      <td>NaN</td>\n      <td>69.22</td>\n      <td>3.38</td>\n      <td>3.64</td>\n      <td>NaN</td>\n      <td>NaN</td>\n      <td>127.1277</td>\n      <td>...</td>\n      <td>NaN</td>\n      <td>NaN</td>\n      <td>NaN</td>\n      <td>NaN</td>\n      <td>NaN</td>\n      <td>3970.99</td>\n      <td>-1.36</td>\n      <td>NaN</td>\n      <td>21.74</td>\n      <td>NaN</td>\n    </tr>\n    <tr>\n      <th>2023-03-27</th>\n      <td>NaN</td>\n      <td>5.03</td>\n      <td>NaN</td>\n      <td>NaN</td>\n      <td>72.87</td>\n      <td>3.53</td>\n      <td>3.77</td>\n      <td>NaN</td>\n      <td>NaN</td>\n      <td>NaN</td>\n      <td>...</td>\n      <td>NaN</td>\n      <td>NaN</td>\n      <td>NaN</td>\n      <td>NaN</td>\n      <td>NaN</td>\n      <td>3977.53</td>\n      <td>-1.38</td>\n      <td>NaN</td>\n      <td>20.60</td>\n      <td>NaN</td>\n    </tr>\n    <tr>\n      <th>2023-03-28</th>\n      <td>NaN</td>\n      <td>5.01</td>\n      <td>NaN</td>\n      <td>NaN</td>\n      <td>NaN</td>\n      <td>3.55</td>\n      <td>3.77</td>\n      <td>NaN</td>\n      <td>NaN</td>\n      <td>NaN</td>\n      <td>...</td>\n      <td>NaN</td>\n      <td>NaN</td>\n      <td>NaN</td>\n      <td>NaN</td>\n      <td>NaN</td>\n      <td>3971.27</td>\n      <td>-1.25</td>\n      <td>NaN</td>\n      <td>19.97</td>\n      <td>NaN</td>\n    </tr>\n    <tr>\n      <th>2023-03-29</th>\n      <td>NaN</td>\n      <td>NaN</td>\n      <td>NaN</td>\n      <td>NaN</td>\n      <td>NaN</td>\n      <td>NaN</td>\n      <td>NaN</td>\n      <td>NaN</td>\n      <td>NaN</td>\n      <td>NaN</td>\n      <td>...</td>\n      <td>NaN</td>\n      <td>NaN</td>\n      <td>NaN</td>\n      <td>NaN</td>\n      <td>NaN</td>\n      <td>4027.81</td>\n      <td>-1.23</td>\n      <td>NaN</td>\n      <td>NaN</td>\n      <td>NaN</td>\n    </tr>\n  </tbody>\n</table>\n<p>17169 rows × 25 columns</p>\n</div>"
          },
          "metadata": {}
        }
      ],
      "execution_count": 62,
      "metadata": {
        "jupyter": {
          "source_hidden": false,
          "outputs_hidden": false
        },
        "nteract": {
          "transient": {
            "deleting": false
          }
        },
        "gather": {
          "logged": 1680154781307
        }
      }
    },
    {
      "cell_type": "code",
      "source": [],
      "outputs": [],
      "execution_count": null,
      "metadata": {
        "jupyter": {
          "source_hidden": false,
          "outputs_hidden": false
        },
        "nteract": {
          "transient": {
            "deleting": false
          }
        }
      }
    }
  ],
  "metadata": {
    "kernelspec": {
      "name": "python38-azureml",
      "language": "python",
      "display_name": "Python 3.8 - AzureML"
    },
    "language_info": {
      "name": "python",
      "version": "3.8.10",
      "mimetype": "text/x-python",
      "codemirror_mode": {
        "name": "ipython",
        "version": 3
      },
      "pygments_lexer": "ipython3",
      "nbconvert_exporter": "python",
      "file_extension": ".py"
    },
    "microsoft": {
      "ms_spell_check": {
        "ms_spell_check_language": "en"
      },
      "host": {
        "AzureML": {
          "notebookHasBeenCompleted": true
        }
      }
    },
    "kernel_info": {
      "name": "python38-azureml"
    },
    "nteract": {
      "version": "nteract-front-end@1.0.0"
    }
  },
  "nbformat": 4,
  "nbformat_minor": 2
}