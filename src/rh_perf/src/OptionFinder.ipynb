{
 "cells": [
  {
   "cell_type": "code",
   "execution_count": 11,
   "metadata": {},
   "outputs": [],
   "source": [
    "import robin_stocks.robinhood as r\n",
    "import pandas as pd\n",
    "import seaborn as sns\n",
    "import plotly.express as px\n",
    "\n",
    "def authenticate_robinhood(username, password):\n",
    "    \"\"\"\n",
    "    Logs into Robinhood account using provided username and password.\n",
    "    \n",
    "    Parameters:\n",
    "    username (str): Robinhood account username\n",
    "    password (str): Robinhood account password\n",
    "    \n",
    "    Returns:\n",
    "    dict: Login result containing access token and other details\n",
    "    \"\"\"\n",
    "    login_result = r.login(username, password)\n",
    "    return login_result\n",
    "\n",
    "def find_optimal_option(r, ticker):\n",
    "    # Fetch current price\n",
    "    quote_data = r.stocks.get_quotes(ticker)[0]\n",
    "    current_price = float(quote_data['last_trade_price'])\n",
    "    \n",
    "    # Retrieve option chains\n",
    "    chain_id = r.options.get_chains(ticker)['id']\n",
    "    options = r.options.get_option_market_data_by_id(chain_id)\n",
    "    \n",
    "    # Build a DataFrame\n",
    "    df = pd.DataFrame(options)\n",
    "    print(df)\n",
    "    df['strike_price'] = df['strike_price'].astype(float)\n",
    "    \n",
    "    # Calculate distance from current price\n",
    "    df['distance'] = abs(df['strike_price'] - current_price)\n",
    "    \n",
    "    # Get Greek data\n",
    "    market_data = [r.options.get_option_market_data_by_id(opt['id'])[0] for opt in options]\n",
    "    market_df = pd.DataFrame(market_data)\n",
    "    df['gamma'] = market_df['gamma'].astype(float)\n",
    "    df['theta'] = market_df['theta'].astype(float)\n",
    "    df['iv'] = market_df['implied_volatility'].astype(float)\n",
    "    \n",
    "    # Define a simple metric to find the \"optimal\" option\n",
    "    df['score'] = (\n",
    "        (1 / (1 + df['distance'])) \n",
    "        + (df['gamma'] / (1 + abs(df['theta']))) \n",
    "        - (df['iv'] / 100)\n",
    "    )\n",
    "    \n",
    "    # Pick option with highest score\n",
    "    optimal = df.loc[df['score'].idxmax()]\n",
    "    \n",
    "    # Create interactive scatter plot\n",
    "    fig_scatter = px.scatter(df, x=\"distance\", y=\"score\", title=\"Score vs Distance\")\n",
    "    fig_scatter.show()\n",
    "\n",
    "    # Create interactive correlation heatmap\n",
    "    corr = df[[\"distance\", \"gamma\", \"theta\", \"iv\", \"score\"]].corr()\n",
    "    fig_heatmap = px.imshow(corr, text_auto=True, color_continuous_scale='RdBu_r', title=\"Correlation Heatmap\")\n",
    "    fig_heatmap.show()\n",
    "    \n",
    "    return optimal\n"
   ]
  },
  {
   "cell_type": "code",
   "execution_count": null,
   "metadata": {},
   "outputs": [],
   "source": [
    "\n",
    "# Example usage\n",
    "username = input(\"Enter your Robinhood username: \")\n",
    "password = input(\"Enter your Robinhood password: \")\n",
    "login_result = authenticate_robinhood(username, password)\n",
    "\n",
    "ticker = \"AAPL\"\n"
   ]
  },
  {
   "cell_type": "code",
   "execution_count": 18,
   "metadata": {},
   "outputs": [
    {
     "name": "stdout",
     "output_type": "stream",
     "text": [
      "{'1_week': datetime.date(2025, 2, 7), '1_month': datetime.date(2025, 2, 28), '1_year': datetime.date(2026, 1, 16)}\n"
     ]
    }
   ],
   "source": [
    "import datetime\n",
    "\n",
    "def get_closest_dates(ticker):\n",
    "    # Get the current date\n",
    "    current_date = datetime.date.today()\n",
    "    \n",
    "    # Get the expiration dates from Robinhood\n",
    "    options_chain = r.options.get_chains(ticker)\n",
    "    expiration_dates = options_chain['expiration_dates']\n",
    "    \n",
    "    # Convert expiration dates to datetime.date objects\n",
    "    expiration_dates = [datetime.datetime.strptime(date, '%Y-%m-%d').date() for date in expiration_dates]\n",
    "    \n",
    "    # Define target dates\n",
    "    target_dates = {\n",
    "        '1_week': current_date + datetime.timedelta(weeks=1),\n",
    "        '1_month': current_date + datetime.timedelta(days=30),\n",
    "        '1_year': current_date + datetime.timedelta(days=365)\n",
    "    }\n",
    "    \n",
    "    # Function to find the closest date\n",
    "    def find_closest_date(target_date):\n",
    "        closest_date = min(expiration_dates, key=lambda x: abs(x - target_date), default=None)\n",
    "        return closest_date if closest_date else None\n",
    "    \n",
    "    # Find the closest dates\n",
    "    closest_dates = {key: find_closest_date(target_date) for key, target_date in target_dates.items()}\n",
    "    \n",
    "    return closest_dates\n",
    "\n",
    "# Example usage\n",
    "ticker = 'AAPL'\n",
    "closest_dates = get_closest_dates(ticker)\n",
    "print(closest_dates)"
   ]
  },
  {
   "cell_type": "code",
   "execution_count": 19,
   "metadata": {},
   "outputs": [
    {
     "name": "stdout",
     "output_type": "stream",
     "text": [
      "Loading Market Data Loading Market Data Loading Market Data Loading Market Data Loading Market Data Loading Market Data Loading Market Data Loading Market Data Loading Market Data Loading Market Data {'1_week': {'call': {'5%_call': [], '10%_call': [{'chain_id': '7dd906e5-7d4b-4161-a3fe-2c3b62038482', 'chain_symbol': 'AAPL', 'created_at': '2025-01-03T02:04:18.778282Z', 'expiration_date': '2025-02-07', 'id': '8692cc9b-13ff-4fa1-8abd-65cf1de30a06', 'issue_date': '2025-01-03', 'min_ticks': {'above_tick': '0.05', 'below_tick': '0.01', 'cutoff_price': '3.00'}, 'rhs_tradability': 'tradable', 'state': 'active', 'strike_price': '165.0000', 'tradability': 'tradable', 'type': 'call', 'updated_at': '2025-01-31T20:59:48.0714304Z', 'url': 'https://api.robinhood.com/options/instruments/8692cc9b-13ff-4fa1-8abd-65cf1de30a06/', 'sellout_datetime': '2025-02-07T20:30:00+00:00', 'long_strategy_code': '8692cc9b-13ff-4fa1-8abd-65cf1de30a06_L1', 'short_strategy_code': '8692cc9b-13ff-4fa1-8abd-65cf1de30a06_S1', 'underlying_type': 'equity', 'adjusted_mark_price': '71.100000', 'adjusted_mark_price_round_down': '71.100000', 'ask_price': '71.650000', 'ask_size': 102, 'bid_price': '70.550000', 'bid_size': 102, 'break_even_price': '236.100000', 'high_price': None, 'instrument': 'https://api.robinhood.com/options/instruments/8692cc9b-13ff-4fa1-8abd-65cf1de30a06/', 'instrument_id': '8692cc9b-13ff-4fa1-8abd-65cf1de30a06', 'last_trade_price': '75.100000', 'last_trade_size': 1, 'low_price': None, 'mark_price': '71.100000', 'open_interest': 7, 'previous_close_date': '2025-01-30', 'previous_close_price': '72.800000', 'volume': 0, 'symbol': 'AAPL', 'occ_symbol': 'AAPL  250207C00165000', 'chance_of_profit_long': '0.468626', 'chance_of_profit_short': '0.531374', 'delta': '0.991614', 'gamma': '0.000624', 'implied_volatility': '1.146421', 'rho': '0.029654', 'theta': '-0.082449', 'vega': '0.007273', 'pricing_model': 'Bjerksund-Stensland 1993', 'high_fill_rate_buy_price': '71.369000', 'high_fill_rate_sell_price': '70.830000', 'low_fill_rate_buy_price': '70.828000', 'low_fill_rate_sell_price': '71.371000'}], '20%_call': [{'chain_id': '7dd906e5-7d4b-4161-a3fe-2c3b62038482', 'chain_symbol': 'AAPL', 'created_at': '2025-01-01T02:08:46.465276Z', 'expiration_date': '2025-02-07', 'id': 'faba6094-4d08-4398-81bb-b29f3c650fbd', 'issue_date': '2025-01-02', 'min_ticks': {'above_tick': '0.05', 'below_tick': '0.01', 'cutoff_price': '3.00'}, 'rhs_tradability': 'tradable', 'state': 'active', 'strike_price': '180.0000', 'tradability': 'tradable', 'type': 'call', 'updated_at': '2025-01-31T20:59:59.863835136Z', 'url': 'https://api.robinhood.com/options/instruments/faba6094-4d08-4398-81bb-b29f3c650fbd/', 'sellout_datetime': '2025-02-07T20:30:00+00:00', 'long_strategy_code': 'faba6094-4d08-4398-81bb-b29f3c650fbd_L1', 'short_strategy_code': 'faba6094-4d08-4398-81bb-b29f3c650fbd_S1', 'underlying_type': 'equity', 'adjusted_mark_price': '56.100000', 'adjusted_mark_price_round_down': '56.100000', 'ask_price': '56.400000', 'ask_size': 81, 'bid_price': '55.800000', 'bid_size': 82, 'break_even_price': '236.100000', 'high_price': '65.700000', 'instrument': 'https://api.robinhood.com/options/instruments/faba6094-4d08-4398-81bb-b29f3c650fbd/', 'instrument_id': 'faba6094-4d08-4398-81bb-b29f3c650fbd', 'last_trade_price': '55.500000', 'last_trade_size': 5, 'low_price': '55.300000', 'mark_price': '56.100000', 'open_interest': 22, 'previous_close_date': '2025-01-30', 'previous_close_price': '57.850000', 'volume': 22, 'symbol': 'AAPL', 'occ_symbol': 'AAPL  250207C00180000', 'chance_of_profit_long': '0.475599', 'chance_of_profit_short': '0.524401', 'delta': '0.990356', 'gamma': '0.000919', 'implied_volatility': '0.880733', 'rho': '0.032332', 'theta': '-0.075977', 'vega': '0.008220', 'pricing_model': 'Bjerksund-Stensland 1993', 'high_fill_rate_buy_price': '56.268000', 'high_fill_rate_sell_price': '55.931000', 'low_fill_rate_buy_price': '55.975000', 'low_fill_rate_sell_price': '56.224000'}]}, 'put': {'5%_put': [], '10%_put': [], '20%_put': [{'chain_id': '7dd906e5-7d4b-4161-a3fe-2c3b62038482', 'chain_symbol': 'AAPL', 'created_at': '2025-01-09T02:06:52.300686Z', 'expiration_date': '2025-02-07', 'id': 'b460271a-7baa-402c-851e-9f527d0619d1', 'issue_date': '2025-01-10', 'min_ticks': {'above_tick': '0.05', 'below_tick': '0.01', 'cutoff_price': '3.00'}, 'rhs_tradability': 'tradable', 'state': 'active', 'strike_price': '120.0000', 'tradability': 'tradable', 'type': 'put', 'updated_at': '2025-01-31T20:59:54.037861376Z', 'url': 'https://api.robinhood.com/options/instruments/b460271a-7baa-402c-851e-9f527d0619d1/', 'sellout_datetime': '2025-02-07T20:30:00+00:00', 'long_strategy_code': 'b460271a-7baa-402c-851e-9f527d0619d1_L1', 'short_strategy_code': 'b460271a-7baa-402c-851e-9f527d0619d1_S1', 'underlying_type': 'equity', 'adjusted_mark_price': '0.010000', 'adjusted_mark_price_round_down': '0.010000', 'ask_price': '0.010000', 'ask_size': 500, 'bid_price': '0.000000', 'bid_size': 0, 'break_even_price': '119.990000', 'high_price': '0.010000', 'instrument': 'https://api.robinhood.com/options/instruments/b460271a-7baa-402c-851e-9f527d0619d1/', 'instrument_id': 'b460271a-7baa-402c-851e-9f527d0619d1', 'last_trade_price': '0.010000', 'last_trade_size': 1, 'low_price': '0.010000', 'mark_price': '0.005000', 'open_interest': 28, 'previous_close_date': '2025-01-30', 'previous_close_price': '0.010000', 'volume': 2, 'symbol': 'AAPL', 'occ_symbol': 'AAPL  250207P00120000', 'chance_of_profit_long': '0.001419', 'chance_of_profit_short': '0.998581', 'delta': '-0.000680', 'gamma': '0.000042', 'implied_volatility': '1.620278', 'rho': '-0.000031', 'theta': '-0.009136', 'vega': '0.000752', 'pricing_model': 'Bjerksund-Stensland 1993', 'high_fill_rate_buy_price': None, 'high_fill_rate_sell_price': None, 'low_fill_rate_buy_price': None, 'low_fill_rate_sell_price': None}]}}, '1_month': {'call': {'5%_call': [], '10%_call': [{'chain_id': '7dd906e5-7d4b-4161-a3fe-2c3b62038482', 'chain_symbol': 'AAPL', 'created_at': '2025-01-09T02:06:52.301091Z', 'expiration_date': '2025-02-28', 'id': 'bcc7b814-636b-4d5e-a1d7-515e03889435', 'issue_date': '2025-01-10', 'min_ticks': {'above_tick': '0.05', 'below_tick': '0.01', 'cutoff_price': '3.00'}, 'rhs_tradability': 'tradable', 'state': 'active', 'strike_price': '165.0000', 'tradability': 'tradable', 'type': 'call', 'updated_at': '2025-01-31T20:59:54.799536128Z', 'url': 'https://api.robinhood.com/options/instruments/bcc7b814-636b-4d5e-a1d7-515e03889435/', 'sellout_datetime': '2025-02-28T20:30:00+00:00', 'long_strategy_code': 'bcc7b814-636b-4d5e-a1d7-515e03889435_L1', 'short_strategy_code': 'bcc7b814-636b-4d5e-a1d7-515e03889435_S1', 'underlying_type': 'equity', 'adjusted_mark_price': '71.030000', 'adjusted_mark_price_round_down': '71.020000', 'ask_price': '71.850000', 'ask_size': 105, 'bid_price': '70.200000', 'bid_size': 130, 'break_even_price': '236.030000', 'high_price': None, 'instrument': 'https://api.robinhood.com/options/instruments/bcc7b814-636b-4d5e-a1d7-515e03889435/', 'instrument_id': 'bcc7b814-636b-4d5e-a1d7-515e03889435', 'last_trade_price': '70.800000', 'last_trade_size': 1, 'low_price': None, 'mark_price': '71.025000', 'open_interest': 0, 'previous_close_date': '2025-01-30', 'previous_close_price': '73.130000', 'volume': 0, 'symbol': 'AAPL', 'occ_symbol': 'AAPL  250228C00165000', 'chance_of_profit_long': '1.000000', 'chance_of_profit_short': '0.000000', 'delta': '1.000143', 'gamma': '-0.000009', 'implied_volatility': '0.000000', 'rho': '0.132612', 'theta': '-0.021212', 'vega': '-8222.318818', 'pricing_model': 'Bjerksund-Stensland 1993', 'high_fill_rate_buy_price': '71.496000', 'high_fill_rate_sell_price': '70.553000', 'low_fill_rate_buy_price': '70.695000', 'low_fill_rate_sell_price': '71.354000'}], '20%_call': [{'chain_id': '7dd906e5-7d4b-4161-a3fe-2c3b62038482', 'chain_symbol': 'AAPL', 'created_at': '2025-01-08T02:05:34.629871Z', 'expiration_date': '2025-02-28', 'id': 'aca87755-edf1-4c2d-afeb-b788729d6c62', 'issue_date': '2025-01-08', 'min_ticks': {'above_tick': '0.05', 'below_tick': '0.01', 'cutoff_price': '3.00'}, 'rhs_tradability': 'tradable', 'state': 'active', 'strike_price': '180.0000', 'tradability': 'tradable', 'type': 'call', 'updated_at': '2025-01-31T20:59:54.463435776Z', 'url': 'https://api.robinhood.com/options/instruments/aca87755-edf1-4c2d-afeb-b788729d6c62/', 'sellout_datetime': '2025-02-28T20:30:00+00:00', 'long_strategy_code': 'aca87755-edf1-4c2d-afeb-b788729d6c62_L1', 'short_strategy_code': 'aca87755-edf1-4c2d-afeb-b788729d6c62_S1', 'underlying_type': 'equity', 'adjusted_mark_price': '56.650000', 'adjusted_mark_price_round_down': '56.650000', 'ask_price': '57.000000', 'ask_size': 114, 'bid_price': '56.300000', 'bid_size': 7, 'break_even_price': '236.650000', 'high_price': None, 'instrument': 'https://api.robinhood.com/options/instruments/aca87755-edf1-4c2d-afeb-b788729d6c62/', 'instrument_id': 'aca87755-edf1-4c2d-afeb-b788729d6c62', 'last_trade_price': '58.660000', 'last_trade_size': 17, 'low_price': None, 'mark_price': '56.650000', 'open_interest': 40, 'previous_close_date': '2025-01-30', 'previous_close_price': '58.280000', 'volume': 0, 'symbol': 'AAPL', 'occ_symbol': 'AAPL  250228C00180000', 'chance_of_profit_long': '0.473766', 'chance_of_profit_short': '0.526234', 'delta': '0.983910', 'gamma': '0.001299', 'implied_volatility': '0.478849', 'rho': '0.132879', 'theta': '-0.043899', 'vega': '0.026110', 'pricing_model': 'Bjerksund-Stensland 1993', 'high_fill_rate_buy_price': '56.850000', 'high_fill_rate_sell_price': '56.449000', 'low_fill_rate_buy_price': '56.511000', 'low_fill_rate_sell_price': '56.788000'}]}, 'put': {'5%_put': [], '10%_put': [], '20%_put': [{'chain_id': '7dd906e5-7d4b-4161-a3fe-2c3b62038482', 'chain_symbol': 'AAPL', 'created_at': '2025-01-09T02:06:52.300284Z', 'expiration_date': '2025-02-28', 'id': 'b473a539-3cfe-4f66-8010-e6a0807a4622', 'issue_date': '2025-01-10', 'min_ticks': {'above_tick': '0.05', 'below_tick': '0.01', 'cutoff_price': '3.00'}, 'rhs_tradability': 'tradable', 'state': 'active', 'strike_price': '120.0000', 'tradability': 'tradable', 'type': 'put', 'updated_at': '2025-01-31T20:36:48.948391936Z', 'url': 'https://api.robinhood.com/options/instruments/b473a539-3cfe-4f66-8010-e6a0807a4622/', 'sellout_datetime': '2025-02-28T20:30:00+00:00', 'long_strategy_code': 'b473a539-3cfe-4f66-8010-e6a0807a4622_L1', 'short_strategy_code': 'b473a539-3cfe-4f66-8010-e6a0807a4622_S1', 'underlying_type': 'equity', 'adjusted_mark_price': '0.010000', 'adjusted_mark_price_round_down': '0.010000', 'ask_price': '0.020000', 'ask_size': 15, 'bid_price': '0.000000', 'bid_size': 0, 'break_even_price': '119.990000', 'high_price': None, 'instrument': 'https://api.robinhood.com/options/instruments/b473a539-3cfe-4f66-8010-e6a0807a4622/', 'instrument_id': 'b473a539-3cfe-4f66-8010-e6a0807a4622', 'last_trade_price': '0.030000', 'last_trade_size': 3, 'low_price': None, 'mark_price': '0.010000', 'open_interest': 23, 'previous_close_date': '2025-01-30', 'previous_close_price': '0.010000', 'volume': 0, 'symbol': 'AAPL', 'occ_symbol': 'AAPL  250228P00120000', 'chance_of_profit_long': '0.001419', 'chance_of_profit_short': '0.998581', 'delta': '-0.000678', 'gamma': '0.000046', 'implied_volatility': '0.797436', 'rho': '-0.000129', 'theta': '-0.002183', 'vega': '0.001528', 'pricing_model': 'Bjerksund-Stensland 1993', 'high_fill_rate_buy_price': None, 'high_fill_rate_sell_price': None, 'low_fill_rate_buy_price': None, 'low_fill_rate_sell_price': None}]}}, '1_year': {'call': {'5%_call': [], '10%_call': [{'chain_id': '7dd906e5-7d4b-4161-a3fe-2c3b62038482', 'chain_symbol': 'AAPL', 'created_at': '2023-09-09T01:40:39.921664Z', 'expiration_date': '2026-01-16', 'id': '510b159a-4276-4ad7-836b-80ef1dc636fc', 'issue_date': '2023-09-11', 'min_ticks': {'above_tick': '0.05', 'below_tick': '0.01', 'cutoff_price': '3.00'}, 'rhs_tradability': 'tradable', 'state': 'active', 'strike_price': '165.0000', 'tradability': 'tradable', 'type': 'call', 'updated_at': '2025-01-31T20:59:59.793123072Z', 'url': 'https://api.robinhood.com/options/instruments/510b159a-4276-4ad7-836b-80ef1dc636fc/', 'sellout_datetime': '2026-01-16T20:30:00+00:00', 'long_strategy_code': '510b159a-4276-4ad7-836b-80ef1dc636fc_L1', 'short_strategy_code': '510b159a-4276-4ad7-836b-80ef1dc636fc_S1', 'underlying_type': 'equity', 'adjusted_mark_price': '79.750000', 'adjusted_mark_price_round_down': '79.750000', 'ask_price': '80.400000', 'ask_size': 7, 'bid_price': '79.100000', 'bid_size': 20, 'break_even_price': '244.750000', 'high_price': '90.050000', 'instrument': 'https://api.robinhood.com/options/instruments/510b159a-4276-4ad7-836b-80ef1dc636fc/', 'instrument_id': '510b159a-4276-4ad7-836b-80ef1dc636fc', 'last_trade_price': '78.000000', 'last_trade_size': 1, 'low_price': '78.000000', 'mark_price': '79.750000', 'open_interest': 990, 'previous_close_date': '2025-01-30', 'previous_close_price': '81.550000', 'volume': 5, 'symbol': 'AAPL', 'occ_symbol': 'AAPL  260116C00165000', 'chance_of_profit_long': '0.444675', 'chance_of_profit_short': '0.555325', 'delta': '0.930815', 'gamma': '0.001893', 'implied_volatility': '0.304505', 'rho': '1.339145', 'theta': '-0.029347', 'vega': '0.307172', 'pricing_model': 'Bjerksund-Stensland 1993', 'high_fill_rate_buy_price': '80.149000', 'high_fill_rate_sell_price': '79.350000', 'low_fill_rate_buy_price': '79.531000', 'low_fill_rate_sell_price': '79.968000'}], '20%_call': [{'chain_id': '7dd906e5-7d4b-4161-a3fe-2c3b62038482', 'chain_symbol': 'AAPL', 'created_at': '2023-09-09T01:40:39.922996Z', 'expiration_date': '2026-01-16', 'id': 'b4398533-25c9-4d34-b933-ccdee13bb458', 'issue_date': '2023-09-11', 'min_ticks': {'above_tick': '0.05', 'below_tick': '0.01', 'cutoff_price': '3.00'}, 'rhs_tradability': 'tradable', 'state': 'active', 'strike_price': '180.0000', 'tradability': 'tradable', 'type': 'call', 'updated_at': '2025-01-31T20:59:59.989561344Z', 'url': 'https://api.robinhood.com/options/instruments/b4398533-25c9-4d34-b933-ccdee13bb458/', 'sellout_datetime': '2026-01-16T20:30:00+00:00', 'long_strategy_code': 'b4398533-25c9-4d34-b933-ccdee13bb458_L1', 'short_strategy_code': 'b4398533-25c9-4d34-b933-ccdee13bb458_S1', 'underlying_type': 'equity', 'adjusted_mark_price': '66.980000', 'adjusted_mark_price_round_down': '66.970000', 'ask_price': '67.300000', 'ask_size': 54, 'bid_price': '66.650000', 'bid_size': 122, 'break_even_price': '246.980000', 'high_price': '74.800000', 'instrument': 'https://api.robinhood.com/options/instruments/b4398533-25c9-4d34-b933-ccdee13bb458/', 'instrument_id': 'b4398533-25c9-4d34-b933-ccdee13bb458', 'last_trade_price': '65.450000', 'last_trade_size': 1, 'low_price': '65.450000', 'mark_price': '66.975000', 'open_interest': 13274, 'previous_close_date': '2025-01-30', 'previous_close_price': '68.580000', 'volume': 11, 'symbol': 'AAPL', 'occ_symbol': 'AAPL  260116C00180000', 'chance_of_profit_long': '0.434644', 'chance_of_profit_short': '0.565356', 'delta': '0.889997', 'gamma': '0.002784', 'implied_volatility': '0.292584', 'rho': '1.369206', 'theta': '-0.034491', 'vega': '0.434084', 'pricing_model': 'Bjerksund-Stensland 1993', 'high_fill_rate_buy_price': '67.208000', 'high_fill_rate_sell_price': '66.741000', 'low_fill_rate_buy_price': '66.935000', 'low_fill_rate_sell_price': '67.014000'}]}, 'put': {'5%_put': [], '10%_put': [{'chain_id': '7dd906e5-7d4b-4161-a3fe-2c3b62038482', 'chain_symbol': 'AAPL', 'created_at': '2023-09-09T01:40:39.921517Z', 'expiration_date': '2026-01-16', 'id': '88e2f594-631d-47df-a220-b4a4ce2b3882', 'issue_date': '2023-09-11', 'min_ticks': {'above_tick': '0.05', 'below_tick': '0.01', 'cutoff_price': '3.00'}, 'rhs_tradability': 'tradable', 'state': 'active', 'strike_price': '135.0000', 'tradability': 'tradable', 'type': 'put', 'updated_at': '2025-01-31T20:59:59.9198208Z', 'url': 'https://api.robinhood.com/options/instruments/88e2f594-631d-47df-a220-b4a4ce2b3882/', 'sellout_datetime': '2026-01-16T20:30:00+00:00', 'long_strategy_code': '88e2f594-631d-47df-a220-b4a4ce2b3882_L1', 'short_strategy_code': '88e2f594-631d-47df-a220-b4a4ce2b3882_S1', 'underlying_type': 'equity', 'adjusted_mark_price': '1.180000', 'adjusted_mark_price_round_down': '1.170000', 'ask_price': '1.220000', 'ask_size': 91, 'bid_price': '1.130000', 'bid_size': 67, 'break_even_price': '133.820000', 'high_price': '1.150000', 'instrument': 'https://api.robinhood.com/options/instruments/88e2f594-631d-47df-a220-b4a4ce2b3882/', 'instrument_id': '88e2f594-631d-47df-a220-b4a4ce2b3882', 'last_trade_price': '1.150000', 'last_trade_size': 50, 'low_price': '1.050000', 'mark_price': '1.175000', 'open_interest': 2429, 'previous_close_date': '2025-01-30', 'previous_close_price': '1.100000', 'volume': 101, 'symbol': 'AAPL', 'occ_symbol': 'AAPL  260116P00135000', 'chance_of_profit_long': '0.063151', 'chance_of_profit_short': '0.936849', 'delta': '-0.031675', 'gamma': '0.000853', 'implied_volatility': '0.363216', 'rho': '-0.080566', 'theta': '-0.007571', 'vega': '0.164258', 'pricing_model': 'Bjerksund-Stensland 1993', 'high_fill_rate_buy_price': '1.204000', 'high_fill_rate_sell_price': '1.145000', 'low_fill_rate_buy_price': '1.163000', 'low_fill_rate_sell_price': '1.186000'}], '20%_put': [{'chain_id': '7dd906e5-7d4b-4161-a3fe-2c3b62038482', 'chain_symbol': 'AAPL', 'created_at': '2023-09-09T01:40:39.922522Z', 'expiration_date': '2026-01-16', 'id': '0f0ec2bf-6000-4b42-9603-843b7f6d9163', 'issue_date': '2023-09-11', 'min_ticks': {'above_tick': '0.05', 'below_tick': '0.01', 'cutoff_price': '3.00'}, 'rhs_tradability': 'tradable', 'state': 'active', 'strike_price': '120.0000', 'tradability': 'tradable', 'type': 'put', 'updated_at': '2025-01-31T20:59:59.794788096Z', 'url': 'https://api.robinhood.com/options/instruments/0f0ec2bf-6000-4b42-9603-843b7f6d9163/', 'sellout_datetime': '2026-01-16T20:30:00+00:00', 'long_strategy_code': '0f0ec2bf-6000-4b42-9603-843b7f6d9163_L1', 'short_strategy_code': '0f0ec2bf-6000-4b42-9603-843b7f6d9163_S1', 'underlying_type': 'equity', 'adjusted_mark_price': '0.800000', 'adjusted_mark_price_round_down': '0.800000', 'ask_price': '0.840000', 'ask_size': 111, 'bid_price': '0.760000', 'bid_size': 22, 'break_even_price': '119.200000', 'high_price': '0.650000', 'instrument': 'https://api.robinhood.com/options/instruments/0f0ec2bf-6000-4b42-9603-843b7f6d9163/', 'instrument_id': '0f0ec2bf-6000-4b42-9603-843b7f6d9163', 'last_trade_price': '0.650000', 'last_trade_size': 2, 'low_price': '0.650000', 'mark_price': '0.800000', 'open_interest': 1663, 'previous_close_date': '2025-01-30', 'previous_close_price': '0.790000', 'volume': 2, 'symbol': 'AAPL', 'occ_symbol': 'AAPL  260116P00120000', 'chance_of_profit_long': '0.047380', 'chance_of_profit_short': '0.952620', 'delta': '-0.020728', 'gamma': '0.000542', 'implied_volatility': '0.395849', 'rho': '-0.053346', 'theta': '-0.005885', 'vega': '0.115202', 'pricing_model': 'Bjerksund-Stensland 1993', 'high_fill_rate_buy_price': '0.824000', 'high_fill_rate_sell_price': '0.775000', 'low_fill_rate_buy_price': '0.786000', 'low_fill_rate_sell_price': '0.813000'}]}}}\n"
     ]
    }
   ],
   "source": [
    "import datetime\n",
    "import robin_stocks.robinhood as r\n",
    "\n",
    "def get_closest_dates(ticker):\n",
    "    # Get the current date\n",
    "    current_date = datetime.date.today()\n",
    "    \n",
    "    # Get the expiration dates from Robinhood\n",
    "    options_chain = r.options.get_chains(ticker)\n",
    "    expiration_dates = options_chain['expiration_dates']\n",
    "    \n",
    "    # Convert expiration dates to datetime.date objects\n",
    "    expiration_dates = [datetime.datetime.strptime(date, '%Y-%m-%d').date() for date in expiration_dates]\n",
    "    \n",
    "    # Define target dates\n",
    "    target_dates = {\n",
    "        '1_week': current_date + datetime.timedelta(weeks=1),\n",
    "        '1_month': current_date + datetime.timedelta(days=30),\n",
    "        '1_year': current_date + datetime.timedelta(days=365)\n",
    "    }\n",
    "    \n",
    "    # Function to find the closest date\n",
    "    def find_closest_date(target_date):\n",
    "        closest_date = min(expiration_dates, key=lambda x: abs(x - target_date), default=None)\n",
    "        return closest_date if closest_date else None\n",
    "    \n",
    "    # Find the closest dates\n",
    "    closest_dates = {key: find_closest_date(target_date) for key, target_date in target_dates.items()}\n",
    "    \n",
    "    return closest_dates\n",
    "\n",
    "def get_option_data(ticker, expiration_date, strike_price, option_type):\n",
    "    \"\"\"\n",
    "    Pull data for options at 5%, 10%, and 20% over/under the strike price.\n",
    "    \n",
    "    Parameters:\n",
    "    ticker (str): The ticker symbol.\n",
    "    expiration_date (str): The expiration date in 'YYYY-MM-DD' format.\n",
    "    strike_price (float): The current strike price.\n",
    "    option_type (str): 'call' or 'put'.\n",
    "    \n",
    "    Returns:\n",
    "    dict: A dictionary with option data.\n",
    "    \"\"\"\n",
    "    percentages = [0.05, 0.10, 0.20]\n",
    "    option_data = {}\n",
    "    \n",
    "    for pct in percentages:\n",
    "        if option_type == 'call':\n",
    "            adjusted_strike = strike_price * (1 + pct)\n",
    "        elif option_type == 'put':\n",
    "            adjusted_strike = strike_price * (1 - pct)\n",
    "        else:\n",
    "            raise ValueError(\"option_type must be 'call' or 'put'\")\n",
    "        \n",
    "        # Round the adjusted strike price to the nearest valid strike price\n",
    "        adjusted_strike = round(adjusted_strike, 2)\n",
    "        \n",
    "        # Get option data\n",
    "        options = r.options.find_options_by_expiration_and_strike(ticker, expiration_date, adjusted_strike, option_type)\n",
    "        option_data[f'{int(pct*100)}%_{option_type}'] = options\n",
    "    \n",
    "    return option_data\n",
    "\n",
    "# Example usage\n",
    "ticker = 'AAPL'\n",
    "closest_dates = get_closest_dates(ticker)\n",
    "\n",
    "# Assuming you have a way to get the current strike price, e.g., from the stock's current price\n",
    "current_strike_price = 150.00  # Example strike price\n",
    "\n",
    "all_option_data = {}\n",
    "for period, date in closest_dates.items():\n",
    "    if date:\n",
    "        expiration_date = date.strftime('%Y-%m-%d')\n",
    "        call_data = get_option_data(ticker, expiration_date, current_strike_price, 'call')\n",
    "        put_data = get_option_data(ticker, expiration_date, current_strike_price, 'put')\n",
    "        all_option_data[period] = {'call': call_data, 'put': put_data}\n",
    "\n",
    "print(all_option_data)"
   ]
  },
  {
   "cell_type": "code",
   "execution_count": 39,
   "metadata": {},
   "outputs": [
    {
     "name": "stdout",
     "output_type": "stream",
     "text": [
      "Fetching options for AAPL, expiration: 2025-02-07, strike: 240, type: call\n",
      "Loading Market Data Sample response: {'chain_id': '7dd906e5-7d4b-4161-a3fe-2c3b62038482', 'chain_symbol': 'AAPL', 'created_at': '2024-12-25T02:07:16.718755Z', 'expiration_date': '2025-02-07', 'id': '567edcc2-1a7d-46e2-977e-4c2581ea7f5c', 'issue_date': '2024-12-26', 'min_ticks': {'above_tick': '0.05', 'below_tick': '0.01', 'cutoff_price': '3.00'}, 'rhs_tradability': 'tradable', 'state': 'active', 'strike_price': '240.0000', 'tradability': 'tradable', 'type': 'call', 'updated_at': '2025-01-31T20:59:59.933100032Z', 'url': 'https://api.robinhood.com/options/instruments/567edcc2-1a7d-46e2-977e-4c2581ea7f5c/', 'sellout_datetime': '2025-02-07T20:30:00+00:00', 'long_strategy_code': '567edcc2-1a7d-46e2-977e-4c2581ea7f5c_L1', 'short_strategy_code': '567edcc2-1a7d-46e2-977e-4c2581ea7f5c_S1', 'underlying_type': 'equity', 'adjusted_mark_price': '1.770000', 'adjusted_mark_price_round_down': '1.770000', 'ask_price': '1.790000', 'ask_size': 10, 'bid_price': '1.750000', 'bid_size': 20, 'break_even_price': '241.770000', 'high_price': '8.720000', 'instrument': 'https://api.robinhood.com/options/instruments/567edcc2-1a7d-46e2-977e-4c2581ea7f5c/', 'instrument_id': '567edcc2-1a7d-46e2-977e-4c2581ea7f5c', 'last_trade_price': '1.760000', 'last_trade_size': 6, 'low_price': '1.310000', 'mark_price': '1.770000', 'open_interest': 11874, 'previous_close_date': '2025-01-30', 'previous_close_price': '4.900000', 'volume': 53656, 'symbol': 'AAPL', 'occ_symbol': 'AAPL  250207C00240000', 'chance_of_profit_long': '0.245304', 'chance_of_profit_short': '0.754696', 'delta': '0.327215', 'gamma': '0.042910', 'implied_volatility': '0.264719', 'rho': '0.013682', 'theta': '-0.238321', 'vega': '0.114663', 'pricing_model': 'Bjerksund-Stensland 1993', 'high_fill_rate_buy_price': '1.780000', 'high_fill_rate_sell_price': '1.759000', 'low_fill_rate_buy_price': '1.760000', 'low_fill_rate_sell_price': '1.779000'}\n",
      "Fetching options for AAPL, expiration: 2025-02-07, strike: 255, type: call\n",
      "Loading Market Data Sample response: {'chain_id': '7dd906e5-7d4b-4161-a3fe-2c3b62038482', 'chain_symbol': 'AAPL', 'created_at': '2024-12-25T02:07:16.718691Z', 'expiration_date': '2025-02-07', 'id': 'f3c122c2-b52e-4dea-85fc-fb74955dfe1b', 'issue_date': '2024-12-26', 'min_ticks': {'above_tick': '0.05', 'below_tick': '0.01', 'cutoff_price': '3.00'}, 'rhs_tradability': 'tradable', 'state': 'active', 'strike_price': '255.0000', 'tradability': 'tradable', 'type': 'call', 'updated_at': '2025-01-31T20:59:59.948201216Z', 'url': 'https://api.robinhood.com/options/instruments/f3c122c2-b52e-4dea-85fc-fb74955dfe1b/', 'sellout_datetime': '2025-02-07T20:30:00+00:00', 'long_strategy_code': 'f3c122c2-b52e-4dea-85fc-fb74955dfe1b_L1', 'short_strategy_code': 'f3c122c2-b52e-4dea-85fc-fb74955dfe1b_S1', 'underlying_type': 'equity', 'adjusted_mark_price': '0.120000', 'adjusted_mark_price_round_down': '0.110000', 'ask_price': '0.120000', 'ask_size': 39, 'bid_price': '0.110000', 'bid_size': 1, 'break_even_price': '255.120000', 'high_price': '1.330000', 'instrument': 'https://api.robinhood.com/options/instruments/f3c122c2-b52e-4dea-85fc-fb74955dfe1b/', 'instrument_id': 'f3c122c2-b52e-4dea-85fc-fb74955dfe1b', 'last_trade_price': '0.120000', 'last_trade_size': 10, 'low_price': '0.100000', 'mark_price': '0.115000', 'open_interest': 9143, 'previous_close_date': '2025-01-30', 'previous_close_price': '0.950000', 'volume': 23131, 'symbol': 'AAPL', 'occ_symbol': 'AAPL  250207C00255000', 'chance_of_profit_long': '0.028414', 'chance_of_profit_short': '0.971586', 'delta': '0.032015', 'gamma': '0.007385', 'implied_volatility': '0.306144', 'rho': '0.001348', 'theta': '-0.053626', 'vega': '0.022812', 'pricing_model': 'Bjerksund-Stensland 1993', 'high_fill_rate_buy_price': '0.117000', 'high_fill_rate_sell_price': '0.112000', 'low_fill_rate_buy_price': '0.112000', 'low_fill_rate_sell_price': '0.117000'}\n",
      "Fetching options for AAPL, expiration: 2025-02-07, strike: 275, type: call\n",
      "Loading Market Data Sample response: {'chain_id': '7dd906e5-7d4b-4161-a3fe-2c3b62038482', 'chain_symbol': 'AAPL', 'created_at': '2024-12-25T02:07:16.717890Z', 'expiration_date': '2025-02-07', 'id': '811b5aa4-459e-4ea0-acfe-475652f813dc', 'issue_date': '2024-12-26', 'min_ticks': {'above_tick': '0.05', 'below_tick': '0.01', 'cutoff_price': '3.00'}, 'rhs_tradability': 'tradable', 'state': 'active', 'strike_price': '275.0000', 'tradability': 'tradable', 'type': 'call', 'updated_at': '2025-01-31T20:59:11.001359872Z', 'url': 'https://api.robinhood.com/options/instruments/811b5aa4-459e-4ea0-acfe-475652f813dc/', 'sellout_datetime': '2025-02-07T20:30:00+00:00', 'long_strategy_code': '811b5aa4-459e-4ea0-acfe-475652f813dc_L1', 'short_strategy_code': '811b5aa4-459e-4ea0-acfe-475652f813dc_S1', 'underlying_type': 'equity', 'adjusted_mark_price': '0.030000', 'adjusted_mark_price_round_down': '0.020000', 'ask_price': '0.040000', 'ask_size': 4, 'bid_price': '0.010000', 'bid_size': 3, 'break_even_price': '275.030000', 'high_price': '0.080000', 'instrument': 'https://api.robinhood.com/options/instruments/811b5aa4-459e-4ea0-acfe-475652f813dc/', 'instrument_id': '811b5aa4-459e-4ea0-acfe-475652f813dc', 'last_trade_price': '0.020000', 'last_trade_size': 1, 'low_price': '0.010000', 'mark_price': '0.025000', 'open_interest': 1734, 'previous_close_date': '2025-01-30', 'previous_close_price': '0.110000', 'volume': 304, 'symbol': 'AAPL', 'occ_symbol': 'AAPL  250207C00275000', 'chance_of_profit_long': '0.005494', 'chance_of_profit_short': '0.994506', 'delta': '0.006561', 'gamma': '0.001272', 'implied_volatility': '0.451580', 'rho': '0.000275', 'theta': '-0.020117', 'vega': '0.005847', 'pricing_model': 'Bjerksund-Stensland 1993', 'high_fill_rate_buy_price': '0.031000', 'high_fill_rate_sell_price': '0.018000', 'low_fill_rate_buy_price': '0.016000', 'low_fill_rate_sell_price': '0.033000'}\n",
      "Fetching options for AAPL, expiration: 2025-02-07, strike: 220, type: put\n",
      "Loading Market Data Loading Market DataSample response: {'chain_id': '7dd906e5-7d4b-4161-a3fe-2c3b62038482', 'chain_symbol': 'AAPL', 'created_at': '2025-01-01T02:08:46.464679Z', 'expiration_date': '2025-02-07', 'id': 'bd5c1066-70b3-4ca6-91a1-aed0f846261e', 'issue_date': '2025-01-02', 'min_ticks': {'above_tick': '0.05', 'below_tick': '0.01', 'cutoff_price': '3.00'}, 'rhs_tradability': 'tradable', 'state': 'active', 'strike_price': '185.0000', 'tradability': 'tradable', 'type': 'put', 'updated_at': '2025-01-31T20:59:59.758278912Z', 'url': 'https://api.robinhood.com/options/instruments/bd5c1066-70b3-4ca6-91a1-aed0f846261e/', 'sellout_datetime': '2025-02-07T20:30:00+00:00', 'long_strategy_code': 'bd5c1066-70b3-4ca6-91a1-aed0f846261e_L1', 'short_strategy_code': 'bd5c1066-70b3-4ca6-91a1-aed0f846261e_S1', 'underlying_type': 'equity', 'adjusted_mark_price': '0.020000', 'adjusted_mark_price_round_down': '0.020000', 'ask_price': '0.030000', 'ask_size': 1, 'bid_price': '0.010000', 'bid_size': 35, 'break_even_price': '184.980000', 'high_price': '0.040000', 'instrument': 'https://api.robinhood.com/options/instruments/bd5c1066-70b3-4ca6-91a1-aed0f846261e/', 'instrument_id': 'bd5c1066-70b3-4ca6-91a1-aed0f846261e', 'last_trade_price': '0.040000', 'last_trade_size': 2, 'low_price': '0.010000', 'mark_price': '0.020000', 'open_interest': 2158, 'previous_close_date': '2025-01-30', 'previous_close_price': '0.090000', 'volume': 258, 'symbol': 'AAPL', 'occ_symbol': 'AAPL  250207P00185000', 'chance_of_profit_long': '0.003959', 'chance_of_profit_short': '0.996041', 'delta': '-0.003029', 'gamma': '0.000435', 'implied_volatility': '0.670180', 'rho': '-0.000133', 'theta': '-0.014747', 'vega': '0.002932', 'pricing_model': 'Bjerksund-Stensland 1993', 'high_fill_rate_buy_price': '0.025000', 'high_fill_rate_sell_price': '0.014000', 'low_fill_rate_buy_price': '0.015000', 'low_fill_rate_sell_price': '0.024000'}\n",
      "Fetching options for AAPL, expiration: 2025-02-28, strike: 240, type: call\n",
      "Loading Market Data Sample response: {'chain_id': '7dd906e5-7d4b-4161-a3fe-2c3b62038482', 'chain_symbol': 'AAPL', 'created_at': '2025-01-08T02:05:34.629767Z', 'expiration_date': '2025-02-28', 'id': 'ce8ef3e1-569e-4ac0-a019-1b88b839a308', 'issue_date': '2025-01-08', 'min_ticks': {'above_tick': '0.05', 'below_tick': '0.01', 'cutoff_price': '3.00'}, 'rhs_tradability': 'tradable', 'state': 'active', 'strike_price': '240.0000', 'tradability': 'tradable', 'type': 'call', 'updated_at': '2025-01-31T20:59:59.921389312Z', 'url': 'https://api.robinhood.com/options/instruments/ce8ef3e1-569e-4ac0-a019-1b88b839a308/', 'sellout_datetime': '2025-02-28T20:30:00+00:00', 'long_strategy_code': 'ce8ef3e1-569e-4ac0-a019-1b88b839a308_L1', 'short_strategy_code': 'ce8ef3e1-569e-4ac0-a019-1b88b839a308_S1', 'underlying_type': 'equity', 'adjusted_mark_price': '4.380000', 'adjusted_mark_price_round_down': '4.370000', 'ask_price': '4.500000', 'ask_size': 1, 'bid_price': '4.250000', 'bid_size': 12, 'break_even_price': '244.380000', 'high_price': '11.000000', 'instrument': 'https://api.robinhood.com/options/instruments/ce8ef3e1-569e-4ac0-a019-1b88b839a308/', 'instrument_id': 'ce8ef3e1-569e-4ac0-a019-1b88b839a308', 'last_trade_price': '4.150000', 'last_trade_size': 75, 'low_price': '3.700000', 'mark_price': '4.375000', 'open_interest': 2765, 'previous_close_date': '2025-01-30', 'previous_close_price': '6.780000', 'volume': 6329, 'symbol': 'AAPL', 'occ_symbol': 'AAPL  250228C00240000', 'chance_of_profit_long': '0.292070', 'chance_of_profit_short': '0.707930', 'delta': '0.422870', 'gamma': '0.026668', 'implied_volatility': '0.226274', 'rho': '0.072166', 'theta': '-0.115607', 'vega': '0.253997', 'pricing_model': 'Bjerksund-Stensland 1993', 'high_fill_rate_buy_price': '4.434000', 'high_fill_rate_sell_price': '4.315000', 'low_fill_rate_buy_price': '4.311000', 'low_fill_rate_sell_price': '4.438000'}\n",
      "Fetching options for AAPL, expiration: 2025-02-28, strike: 255, type: call\n",
      "Loading Market Data Sample response: {'chain_id': '7dd906e5-7d4b-4161-a3fe-2c3b62038482', 'chain_symbol': 'AAPL', 'created_at': '2025-01-08T02:05:34.630601Z', 'expiration_date': '2025-02-28', 'id': '29212f1a-c1c2-4cb4-bc66-f674c60f78b1', 'issue_date': '2025-01-08', 'min_ticks': {'above_tick': '0.05', 'below_tick': '0.01', 'cutoff_price': '3.00'}, 'rhs_tradability': 'tradable', 'state': 'active', 'strike_price': '255.0000', 'tradability': 'tradable', 'type': 'call', 'updated_at': '2025-01-31T20:59:59.914086656Z', 'url': 'https://api.robinhood.com/options/instruments/29212f1a-c1c2-4cb4-bc66-f674c60f78b1/', 'sellout_datetime': '2025-02-28T20:30:00+00:00', 'long_strategy_code': '29212f1a-c1c2-4cb4-bc66-f674c60f78b1_L1', 'short_strategy_code': '29212f1a-c1c2-4cb4-bc66-f674c60f78b1_S1', 'underlying_type': 'equity', 'adjusted_mark_price': '0.900000', 'adjusted_mark_price_round_down': '0.890000', 'ask_price': '0.970000', 'ask_size': 52, 'bid_price': '0.820000', 'bid_size': 8, 'break_even_price': '255.900000', 'high_price': '3.200000', 'instrument': 'https://api.robinhood.com/options/instruments/29212f1a-c1c2-4cb4-bc66-f674c60f78b1/', 'instrument_id': '29212f1a-c1c2-4cb4-bc66-f674c60f78b1', 'last_trade_price': '0.850000', 'last_trade_size': 1, 'low_price': '0.720000', 'mark_price': '0.895000', 'open_interest': 3261, 'previous_close_date': '2025-01-30', 'previous_close_price': '1.910000', 'volume': 1965, 'symbol': 'AAPL', 'occ_symbol': 'AAPL  250228C00255000', 'chance_of_profit_long': '0.102208', 'chance_of_profit_short': '0.897792', 'delta': '0.125047', 'gamma': '0.013821', 'implied_volatility': '0.229701', 'rho': '0.021638', 'theta': '-0.059020', 'vega': '0.133601', 'pricing_model': 'Bjerksund-Stensland 1993', 'high_fill_rate_buy_price': '0.933000', 'high_fill_rate_sell_price': '0.856000', 'low_fill_rate_buy_price': '0.859000', 'low_fill_rate_sell_price': '0.930000'}\n",
      "Fetching options for AAPL, expiration: 2025-02-28, strike: 275, type: call\n",
      "Loading Market Data Sample response: {'chain_id': '7dd906e5-7d4b-4161-a3fe-2c3b62038482', 'chain_symbol': 'AAPL', 'created_at': '2025-01-08T02:05:34.631084Z', 'expiration_date': '2025-02-28', 'id': 'd66e1b6b-77d5-4773-a714-f18018d64f50', 'issue_date': '2025-01-08', 'min_ticks': {'above_tick': '0.05', 'below_tick': '0.01', 'cutoff_price': '3.00'}, 'rhs_tradability': 'tradable', 'state': 'active', 'strike_price': '275.0000', 'tradability': 'tradable', 'type': 'call', 'updated_at': '2025-01-31T20:59:59.862322944Z', 'url': 'https://api.robinhood.com/options/instruments/d66e1b6b-77d5-4773-a714-f18018d64f50/', 'sellout_datetime': '2025-02-28T20:30:00+00:00', 'long_strategy_code': 'd66e1b6b-77d5-4773-a714-f18018d64f50_L1', 'short_strategy_code': 'd66e1b6b-77d5-4773-a714-f18018d64f50_S1', 'underlying_type': 'equity', 'adjusted_mark_price': '0.120000', 'adjusted_mark_price_round_down': '0.120000', 'ask_price': '0.150000', 'ask_size': 156, 'bid_price': '0.090000', 'bid_size': 91, 'break_even_price': '275.120000', 'high_price': '0.460000', 'instrument': 'https://api.robinhood.com/options/instruments/d66e1b6b-77d5-4773-a714-f18018d64f50/', 'instrument_id': 'd66e1b6b-77d5-4773-a714-f18018d64f50', 'last_trade_price': '0.130000', 'last_trade_size': 5, 'low_price': '0.130000', 'mark_price': '0.120000', 'open_interest': 364, 'previous_close_date': '2025-01-30', 'previous_close_price': '0.340000', 'volume': 106, 'symbol': 'AAPL', 'occ_symbol': 'AAPL  250228C00275000', 'chance_of_profit_long': '0.016339', 'chance_of_profit_short': '0.983661', 'delta': '0.019784', 'gamma': '0.002846', 'implied_volatility': '0.260696', 'rho': '0.003441', 'theta': '-0.015241', 'vega': '0.031128', 'pricing_model': 'Bjerksund-Stensland 1993', 'high_fill_rate_buy_price': '0.137000', 'high_fill_rate_sell_price': '0.102000', 'low_fill_rate_buy_price': '0.109000', 'low_fill_rate_sell_price': '0.130000'}\n",
      "Fetching options for AAPL, expiration: 2025-02-28, strike: 220, type: put\n",
      "Loading Market Data Sample response: {'chain_id': '7dd906e5-7d4b-4161-a3fe-2c3b62038482', 'chain_symbol': 'AAPL', 'created_at': '2025-01-08T02:05:34.630811Z', 'expiration_date': '2025-02-28', 'id': '59472d0c-1099-4b4a-97b0-03251446cb62', 'issue_date': '2025-01-08', 'min_ticks': {'above_tick': '0.05', 'below_tick': '0.01', 'cutoff_price': '3.00'}, 'rhs_tradability': 'tradable', 'state': 'active', 'strike_price': '220.0000', 'tradability': 'tradable', 'type': 'put', 'updated_at': '2025-01-31T20:59:59.982760192Z', 'url': 'https://api.robinhood.com/options/instruments/59472d0c-1099-4b4a-97b0-03251446cb62/', 'sellout_datetime': '2025-02-28T20:30:00+00:00', 'long_strategy_code': '59472d0c-1099-4b4a-97b0-03251446cb62_L1', 'short_strategy_code': '59472d0c-1099-4b4a-97b0-03251446cb62_S1', 'underlying_type': 'equity', 'adjusted_mark_price': '1.540000', 'adjusted_mark_price_round_down': '1.540000', 'ask_price': '1.660000', 'ask_size': 33, 'bid_price': '1.420000', 'bid_size': 32, 'break_even_price': '218.460000', 'high_price': '2.080000', 'instrument': 'https://api.robinhood.com/options/instruments/59472d0c-1099-4b4a-97b0-03251446cb62/', 'instrument_id': '59472d0c-1099-4b4a-97b0-03251446cb62', 'last_trade_price': '1.510000', 'last_trade_size': 1, 'low_price': '0.500000', 'mark_price': '1.540000', 'open_interest': 2556, 'previous_close_date': '2025-01-30', 'previous_close_price': '1.960000', 'volume': 2439, 'symbol': 'AAPL', 'occ_symbol': 'AAPL  250228P00220000', 'chance_of_profit_long': '0.154406', 'chance_of_profit_short': '0.845594', 'delta': '-0.158692', 'gamma': '0.013575', 'implied_volatility': '0.275448', 'rho': '-0.029059', 'theta': '-0.073625', 'vega': '0.157011', 'pricing_model': 'Bjerksund-Stensland 1993', 'high_fill_rate_buy_price': '1.599000', 'high_fill_rate_sell_price': '1.480000', 'low_fill_rate_buy_price': '1.481000', 'low_fill_rate_sell_price': '1.598000'}\n",
      "Fetching options for AAPL, expiration: 2025-02-28, strike: 205, type: put\n",
      "Loading Market Data Sample response: {'chain_id': '7dd906e5-7d4b-4161-a3fe-2c3b62038482', 'chain_symbol': 'AAPL', 'created_at': '2025-01-08T02:05:34.631127Z', 'expiration_date': '2025-02-28', 'id': 'c7e8e0ea-62cf-4a71-9ddb-7984c4d54e68', 'issue_date': '2025-01-08', 'min_ticks': {'above_tick': '0.05', 'below_tick': '0.01', 'cutoff_price': '3.00'}, 'rhs_tradability': 'tradable', 'state': 'active', 'strike_price': '205.0000', 'tradability': 'tradable', 'type': 'put', 'updated_at': '2025-01-31T20:59:59.951781888Z', 'url': 'https://api.robinhood.com/options/instruments/c7e8e0ea-62cf-4a71-9ddb-7984c4d54e68/', 'sellout_datetime': '2025-02-28T20:30:00+00:00', 'long_strategy_code': 'c7e8e0ea-62cf-4a71-9ddb-7984c4d54e68_L1', 'short_strategy_code': 'c7e8e0ea-62cf-4a71-9ddb-7984c4d54e68_S1', 'underlying_type': 'equity', 'adjusted_mark_price': '0.480000', 'adjusted_mark_price_round_down': '0.480000', 'ask_price': '0.490000', 'ask_size': 34, 'bid_price': '0.470000', 'bid_size': 61, 'break_even_price': '204.520000', 'high_price': '0.630000', 'instrument': 'https://api.robinhood.com/options/instruments/c7e8e0ea-62cf-4a71-9ddb-7984c4d54e68/', 'instrument_id': 'c7e8e0ea-62cf-4a71-9ddb-7984c4d54e68', 'last_trade_price': '0.530000', 'last_trade_size': 3, 'low_price': '0.170000', 'mark_price': '0.480000', 'open_interest': 887, 'previous_close_date': '2025-01-30', 'previous_close_price': '0.580000', 'volume': 506, 'symbol': 'AAPL', 'occ_symbol': 'AAPL  250228P00205000', 'chance_of_profit_long': '0.058867', 'chance_of_profit_short': '0.941133', 'delta': '-0.051662', 'gamma': '0.004950', 'implied_volatility': '0.329539', 'rho': '-0.009544', 'theta': '-0.039439', 'vega': '0.068683', 'pricing_model': 'Bjerksund-Stensland 1993', 'high_fill_rate_buy_price': '0.486000', 'high_fill_rate_sell_price': '0.473000', 'low_fill_rate_buy_price': '0.476000', 'low_fill_rate_sell_price': '0.483000'}\n",
      "Fetching options for AAPL, expiration: 2025-02-28, strike: 185, type: put\n",
      "Loading Market Data Sample response: {'chain_id': '7dd906e5-7d4b-4161-a3fe-2c3b62038482', 'chain_symbol': 'AAPL', 'created_at': '2025-01-08T02:05:34.630391Z', 'expiration_date': '2025-02-28', 'id': '08af132f-ac84-4a9a-8f7b-f394703aeaa8', 'issue_date': '2025-01-08', 'min_ticks': {'above_tick': '0.05', 'below_tick': '0.01', 'cutoff_price': '3.00'}, 'rhs_tradability': 'tradable', 'state': 'active', 'strike_price': '185.0000', 'tradability': 'tradable', 'type': 'put', 'updated_at': '2025-01-31T20:59:59.856544256Z', 'url': 'https://api.robinhood.com/options/instruments/08af132f-ac84-4a9a-8f7b-f394703aeaa8/', 'sellout_datetime': '2025-02-28T20:30:00+00:00', 'long_strategy_code': '08af132f-ac84-4a9a-8f7b-f394703aeaa8_L1', 'short_strategy_code': '08af132f-ac84-4a9a-8f7b-f394703aeaa8_S1', 'underlying_type': 'equity', 'adjusted_mark_price': '0.200000', 'adjusted_mark_price_round_down': '0.200000', 'ask_price': '0.210000', 'ask_size': 42, 'bid_price': '0.190000', 'bid_size': 41, 'break_even_price': '184.800000', 'high_price': '0.230000', 'instrument': 'https://api.robinhood.com/options/instruments/08af132f-ac84-4a9a-8f7b-f394703aeaa8/', 'instrument_id': '08af132f-ac84-4a9a-8f7b-f394703aeaa8', 'last_trade_price': '0.210000', 'last_trade_size': 1, 'low_price': '0.100000', 'mark_price': '0.200000', 'open_interest': 253, 'previous_close_date': '2025-01-30', 'previous_close_price': '0.230000', 'volume': 325, 'symbol': 'AAPL', 'occ_symbol': 'AAPL  250228P00185000', 'chance_of_profit_long': '0.024128', 'chance_of_profit_short': '0.975872', 'delta': '-0.018416', 'gamma': '0.001583', 'implied_volatility': '0.441596', 'rho': '-0.003432', 'theta': '-0.022860', 'vega': '0.029287', 'pricing_model': 'Bjerksund-Stensland 1993', 'high_fill_rate_buy_price': '0.206000', 'high_fill_rate_sell_price': '0.193000', 'low_fill_rate_buy_price': '0.197000', 'low_fill_rate_sell_price': '0.202000'}\n",
      "Fetching options for AAPL, expiration: 2026-01-16, strike: 240, type: call\n",
      "Loading Market Data Sample response: {'chain_id': '7dd906e5-7d4b-4161-a3fe-2c3b62038482', 'chain_symbol': 'AAPL', 'created_at': '2023-09-09T01:40:39.921811Z', 'expiration_date': '2026-01-16', 'id': 'cc133440-cb7f-4f1c-ac5f-bc77afebf395', 'issue_date': '2023-09-11', 'min_ticks': {'above_tick': '0.05', 'below_tick': '0.01', 'cutoff_price': '3.00'}, 'rhs_tradability': 'tradable', 'state': 'active', 'strike_price': '240.0000', 'tradability': 'tradable', 'type': 'call', 'updated_at': '2025-01-31T20:59:59.82297984Z', 'url': 'https://api.robinhood.com/options/instruments/cc133440-cb7f-4f1c-ac5f-bc77afebf395/', 'sellout_datetime': '2026-01-16T20:30:00+00:00', 'long_strategy_code': 'cc133440-cb7f-4f1c-ac5f-bc77afebf395_L1', 'short_strategy_code': 'cc133440-cb7f-4f1c-ac5f-bc77afebf395_S1', 'underlying_type': 'equity', 'adjusted_mark_price': '25.100000', 'adjusted_mark_price_round_down': '25.100000', 'ask_price': '25.950000', 'ask_size': 101, 'bid_price': '24.250000', 'bid_size': 17, 'break_even_price': '265.100000', 'high_price': '31.520000', 'instrument': 'https://api.robinhood.com/options/instruments/cc133440-cb7f-4f1c-ac5f-bc77afebf395/', 'instrument_id': 'cc133440-cb7f-4f1c-ac5f-bc77afebf395', 'last_trade_price': '25.000000', 'last_trade_size': 1, 'low_price': '23.600000', 'mark_price': '25.100000', 'open_interest': 5894, 'previous_close_date': '2025-01-30', 'previous_close_price': '26.200000', 'volume': 484, 'symbol': 'AAPL', 'occ_symbol': 'AAPL  260116C00240000', 'chance_of_profit_long': '0.330079', 'chance_of_profit_short': '0.669921', 'delta': '0.584741', 'gamma': '0.006856', 'implied_volatility': '0.246242', 'rho': '1.080680', 'theta': '-0.044585', 'vega': '0.900056', 'pricing_model': 'Bjerksund-Stensland 1993', 'high_fill_rate_buy_price': '25.614000', 'high_fill_rate_sell_price': '24.585000', 'low_fill_rate_buy_price': '24.801000', 'low_fill_rate_sell_price': '25.398000'}\n",
      "Fetching options for AAPL, expiration: 2026-01-16, strike: 255, type: call\n",
      "Loading Market Data Sample response: {'chain_id': '7dd906e5-7d4b-4161-a3fe-2c3b62038482', 'chain_symbol': 'AAPL', 'created_at': '2023-09-09T01:40:39.922375Z', 'expiration_date': '2026-01-16', 'id': 'c222de6d-3840-48cd-bde7-d5715e12d0e4', 'issue_date': '2023-09-11', 'min_ticks': {'above_tick': '0.05', 'below_tick': '0.01', 'cutoff_price': '3.00'}, 'rhs_tradability': 'tradable', 'state': 'active', 'strike_price': '255.0000', 'tradability': 'tradable', 'type': 'call', 'updated_at': '2025-01-31T20:59:59.877840384Z', 'url': 'https://api.robinhood.com/options/instruments/c222de6d-3840-48cd-bde7-d5715e12d0e4/', 'sellout_datetime': '2026-01-16T20:30:00+00:00', 'long_strategy_code': 'c222de6d-3840-48cd-bde7-d5715e12d0e4_L1', 'short_strategy_code': 'c222de6d-3840-48cd-bde7-d5715e12d0e4_S1', 'underlying_type': 'equity', 'adjusted_mark_price': '17.850000', 'adjusted_mark_price_round_down': '17.850000', 'ask_price': '18.150000', 'ask_size': 18, 'bid_price': '17.550000', 'bid_size': 7, 'break_even_price': '272.850000', 'high_price': '22.950000', 'instrument': 'https://api.robinhood.com/options/instruments/c222de6d-3840-48cd-bde7-d5715e12d0e4/', 'instrument_id': 'c222de6d-3840-48cd-bde7-d5715e12d0e4', 'last_trade_price': '17.850000', 'last_trade_size': 1, 'low_price': '17.000000', 'mark_price': '17.850000', 'open_interest': 5501, 'previous_close_date': '2025-01-30', 'previous_close_price': '18.930000', 'volume': 112, 'symbol': 'AAPL', 'occ_symbol': 'AAPL  260116C00255000', 'chance_of_profit_long': '0.283351', 'chance_of_profit_short': '0.716649', 'delta': '0.480427', 'gamma': '0.007310', 'implied_volatility': '0.236258', 'rho': '0.914410', 'theta': '-0.041984', 'vega': '0.919802', 'pricing_model': 'Bjerksund-Stensland 1993', 'high_fill_rate_buy_price': '18.047000', 'high_fill_rate_sell_price': '17.652000', 'low_fill_rate_buy_price': '17.772000', 'low_fill_rate_sell_price': '17.927000'}\n",
      "Fetching options for AAPL, expiration: 2026-01-16, strike: 275, type: call\n",
      "Loading Market Data Sample response: {'chain_id': '7dd906e5-7d4b-4161-a3fe-2c3b62038482', 'chain_symbol': 'AAPL', 'created_at': '2023-09-09T01:40:39.921123Z', 'expiration_date': '2026-01-16', 'id': 'd74cdac7-23f8-4f1d-986f-49111dce1dd4', 'issue_date': '2023-09-11', 'min_ticks': {'above_tick': '0.05', 'below_tick': '0.01', 'cutoff_price': '3.00'}, 'rhs_tradability': 'tradable', 'state': 'active', 'strike_price': '275.0000', 'tradability': 'tradable', 'type': 'call', 'updated_at': '2025-01-31T20:59:59.912041728Z', 'url': 'https://api.robinhood.com/options/instruments/d74cdac7-23f8-4f1d-986f-49111dce1dd4/', 'sellout_datetime': '2026-01-16T20:30:00+00:00', 'long_strategy_code': 'd74cdac7-23f8-4f1d-986f-49111dce1dd4_L1', 'short_strategy_code': 'd74cdac7-23f8-4f1d-986f-49111dce1dd4_S1', 'underlying_type': 'equity', 'adjusted_mark_price': '10.600000', 'adjusted_mark_price_round_down': '10.600000', 'ask_price': '10.850000', 'ask_size': 6, 'bid_price': '10.350000', 'bid_size': 40, 'break_even_price': '285.600000', 'high_price': '13.850000', 'instrument': 'https://api.robinhood.com/options/instruments/d74cdac7-23f8-4f1d-986f-49111dce1dd4/', 'instrument_id': 'd74cdac7-23f8-4f1d-986f-49111dce1dd4', 'last_trade_price': '10.300000', 'last_trade_size': 2, 'low_price': '10.000000', 'mark_price': '10.600000', 'open_interest': 6535, 'previous_close_date': '2025-01-30', 'previous_close_price': '11.630000', 'volume': 129, 'symbol': 'AAPL', 'occ_symbol': 'AAPL  260116C00275000', 'chance_of_profit_long': '0.212700', 'chance_of_profit_short': '0.787300', 'delta': '0.342710', 'gamma': '0.007069', 'implied_volatility': '0.225231', 'rho': '0.672782', 'theta': '-0.035351', 'vega': '0.848371', 'pricing_model': 'Bjerksund-Stensland 1993', 'high_fill_rate_buy_price': '10.775000', 'high_fill_rate_sell_price': '10.424000', 'low_fill_rate_buy_price': '10.558000', 'low_fill_rate_sell_price': '10.641000'}\n",
      "Fetching options for AAPL, expiration: 2026-01-16, strike: 220, type: put\n",
      "Loading Market Data Sample response: {'chain_id': '7dd906e5-7d4b-4161-a3fe-2c3b62038482', 'chain_symbol': 'AAPL', 'created_at': '2023-09-09T01:40:39.922203Z', 'expiration_date': '2026-01-16', 'id': 'bd56add7-f155-4baf-9ce1-5f7417f612f0', 'issue_date': '2023-09-11', 'min_ticks': {'above_tick': '0.05', 'below_tick': '0.01', 'cutoff_price': '3.00'}, 'rhs_tradability': 'tradable', 'state': 'active', 'strike_price': '220.0000', 'tradability': 'tradable', 'type': 'put', 'updated_at': '2025-01-31T20:59:59.842130176Z', 'url': 'https://api.robinhood.com/options/instruments/bd56add7-f155-4baf-9ce1-5f7417f612f0/', 'sellout_datetime': '2026-01-16T20:30:00+00:00', 'long_strategy_code': 'bd56add7-f155-4baf-9ce1-5f7417f612f0_L1', 'short_strategy_code': 'bd56add7-f155-4baf-9ce1-5f7417f612f0_S1', 'underlying_type': 'equity', 'adjusted_mark_price': '12.650000', 'adjusted_mark_price_round_down': '12.650000', 'ask_price': '13.050000', 'ask_size': 79, 'bid_price': '12.250000', 'bid_size': 37, 'break_even_price': '207.350000', 'high_price': '13.450000', 'instrument': 'https://api.robinhood.com/options/instruments/bd56add7-f155-4baf-9ce1-5f7417f612f0/', 'instrument_id': 'bd56add7-f155-4baf-9ce1-5f7417f612f0', 'last_trade_price': '13.260000', 'last_trade_size': 8, 'low_price': '9.680000', 'mark_price': '12.650000', 'open_interest': 10593, 'previous_close_date': '2025-01-30', 'previous_close_price': '12.180000', 'volume': 276, 'symbol': 'AAPL', 'occ_symbol': 'AAPL  260116P00220000', 'chance_of_profit_long': '0.294192', 'chance_of_profit_short': '0.705808', 'delta': '-0.301345', 'gamma': '0.006245', 'implied_volatility': '0.258312', 'rho': '-0.650776', 'theta': '-0.021642', 'vega': '0.795968', 'pricing_model': 'Bjerksund-Stensland 1993', 'high_fill_rate_buy_price': '12.916000', 'high_fill_rate_sell_price': '12.383000', 'low_fill_rate_buy_price': '12.552000', 'low_fill_rate_sell_price': '12.747000'}\n",
      "Fetching options for AAPL, expiration: 2026-01-16, strike: 205, type: put\n",
      "Loading Market Data Sample response: {'chain_id': '7dd906e5-7d4b-4161-a3fe-2c3b62038482', 'chain_symbol': 'AAPL', 'created_at': '2023-09-09T01:40:39.922473Z', 'expiration_date': '2026-01-16', 'id': 'd171f6d0-bc0d-47f7-bd1b-23f414616be3', 'issue_date': '2023-09-11', 'min_ticks': {'above_tick': '0.05', 'below_tick': '0.01', 'cutoff_price': '3.00'}, 'rhs_tradability': 'tradable', 'state': 'active', 'strike_price': '205.0000', 'tradability': 'tradable', 'type': 'put', 'updated_at': '2025-01-31T20:59:59.813177088Z', 'url': 'https://api.robinhood.com/options/instruments/d171f6d0-bc0d-47f7-bd1b-23f414616be3/', 'sellout_datetime': '2026-01-16T20:30:00+00:00', 'long_strategy_code': 'd171f6d0-bc0d-47f7-bd1b-23f414616be3_L1', 'short_strategy_code': 'd171f6d0-bc0d-47f7-bd1b-23f414616be3_S1', 'underlying_type': 'equity', 'adjusted_mark_price': '8.550000', 'adjusted_mark_price_round_down': '8.550000', 'ask_price': '8.650000', 'ask_size': 46, 'bid_price': '8.450000', 'bid_size': 39, 'break_even_price': '196.450000', 'high_price': '8.920000', 'instrument': 'https://api.robinhood.com/options/instruments/d171f6d0-bc0d-47f7-bd1b-23f414616be3/', 'instrument_id': 'd171f6d0-bc0d-47f7-bd1b-23f414616be3', 'last_trade_price': '8.920000', 'last_trade_size': 1, 'low_price': '6.450000', 'mark_price': '8.550000', 'open_interest': 3914, 'previous_close_date': '2025-01-30', 'previous_close_price': '8.300000', 'volume': 1019, 'symbol': 'AAPL', 'occ_symbol': 'AAPL  260116P00205000', 'chance_of_profit_long': '0.239163', 'chance_of_profit_short': '0.760837', 'delta': '-0.215006', 'gamma': '0.004878', 'implied_volatility': '0.270531', 'rho': '-0.492311', 'theta': '-0.020078', 'vega': '0.670723', 'pricing_model': 'Bjerksund-Stensland 1993', 'high_fill_rate_buy_price': '8.611000', 'high_fill_rate_sell_price': '8.488000', 'low_fill_rate_buy_price': '8.515000', 'low_fill_rate_sell_price': '8.584000'}\n",
      "Fetching options for AAPL, expiration: 2026-01-16, strike: 185, type: put\n",
      "Loading Market Data Sample response: {'chain_id': '7dd906e5-7d4b-4161-a3fe-2c3b62038482', 'chain_symbol': 'AAPL', 'created_at': '2023-09-09T01:40:39.922300Z', 'expiration_date': '2026-01-16', 'id': 'a43a0284-9ac6-435f-a47b-681e0924b45b', 'issue_date': '2023-09-11', 'min_ticks': {'above_tick': '0.05', 'below_tick': '0.01', 'cutoff_price': '3.00'}, 'rhs_tradability': 'tradable', 'state': 'active', 'strike_price': '185.0000', 'tradability': 'tradable', 'type': 'put', 'updated_at': '2025-01-31T20:59:59.945536512Z', 'url': 'https://api.robinhood.com/options/instruments/a43a0284-9ac6-435f-a47b-681e0924b45b/', 'sellout_datetime': '2026-01-16T20:30:00+00:00', 'long_strategy_code': 'a43a0284-9ac6-435f-a47b-681e0924b45b_L1', 'short_strategy_code': 'a43a0284-9ac6-435f-a47b-681e0924b45b_S1', 'underlying_type': 'equity', 'adjusted_mark_price': '4.980000', 'adjusted_mark_price_round_down': '4.970000', 'ask_price': '5.350000', 'ask_size': 38, 'bid_price': '4.600000', 'bid_size': 42, 'break_even_price': '180.020000', 'high_price': '5.150000', 'instrument': 'https://api.robinhood.com/options/instruments/a43a0284-9ac6-435f-a47b-681e0924b45b/', 'instrument_id': 'a43a0284-9ac6-435f-a47b-681e0924b45b', 'last_trade_price': '4.900000', 'last_trade_size': 1, 'low_price': '3.700000', 'mark_price': '4.975000', 'open_interest': 6962, 'previous_close_date': '2025-01-30', 'previous_close_price': '4.730000', 'volume': 33, 'symbol': 'AAPL', 'occ_symbol': 'AAPL  260116P00185000', 'chance_of_profit_long': '0.172539', 'chance_of_profit_short': '0.827461', 'delta': '-0.131045', 'gamma': '0.003230', 'implied_volatility': '0.291541', 'rho': '-0.315216', 'theta': '-0.016664', 'vega': '0.489847', 'pricing_model': 'Bjerksund-Stensland 1993', 'high_fill_rate_buy_price': '5.226000', 'high_fill_rate_sell_price': '4.723000', 'low_fill_rate_buy_price': '4.886000', 'low_fill_rate_sell_price': '5.063000'}\n",
      "{'1_week': {'call': {'5%_call': [{'chain_id': '7dd906e5-7d4b-4161-a3fe-2c3b62038482', 'chain_symbol': 'AAPL', 'created_at': '2024-12-25T02:07:16.718755Z', 'expiration_date': '2025-02-07', 'id': '567edcc2-1a7d-46e2-977e-4c2581ea7f5c', 'issue_date': '2024-12-26', 'min_ticks': {'above_tick': '0.05', 'below_tick': '0.01', 'cutoff_price': '3.00'}, 'rhs_tradability': 'tradable', 'state': 'active', 'strike_price': '240.0000', 'tradability': 'tradable', 'type': 'call', 'updated_at': '2025-01-31T20:59:59.933100032Z', 'url': 'https://api.robinhood.com/options/instruments/567edcc2-1a7d-46e2-977e-4c2581ea7f5c/', 'sellout_datetime': '2025-02-07T20:30:00+00:00', 'long_strategy_code': '567edcc2-1a7d-46e2-977e-4c2581ea7f5c_L1', 'short_strategy_code': '567edcc2-1a7d-46e2-977e-4c2581ea7f5c_S1', 'underlying_type': 'equity', 'adjusted_mark_price': '1.770000', 'adjusted_mark_price_round_down': '1.770000', 'ask_price': '1.790000', 'ask_size': 10, 'bid_price': '1.750000', 'bid_size': 20, 'break_even_price': '241.770000', 'high_price': '8.720000', 'instrument': 'https://api.robinhood.com/options/instruments/567edcc2-1a7d-46e2-977e-4c2581ea7f5c/', 'instrument_id': '567edcc2-1a7d-46e2-977e-4c2581ea7f5c', 'last_trade_price': '1.760000', 'last_trade_size': 6, 'low_price': '1.310000', 'mark_price': '1.770000', 'open_interest': 11874, 'previous_close_date': '2025-01-30', 'previous_close_price': '4.900000', 'volume': 53656, 'symbol': 'AAPL', 'occ_symbol': 'AAPL  250207C00240000', 'chance_of_profit_long': '0.245304', 'chance_of_profit_short': '0.754696', 'delta': '0.327215', 'gamma': '0.042910', 'implied_volatility': '0.264719', 'rho': '0.013682', 'theta': '-0.238321', 'vega': '0.114663', 'pricing_model': 'Bjerksund-Stensland 1993', 'high_fill_rate_buy_price': '1.780000', 'high_fill_rate_sell_price': '1.759000', 'low_fill_rate_buy_price': '1.760000', 'low_fill_rate_sell_price': '1.779000'}], '10%_call': [{'chain_id': '7dd906e5-7d4b-4161-a3fe-2c3b62038482', 'chain_symbol': 'AAPL', 'created_at': '2024-12-25T02:07:16.718691Z', 'expiration_date': '2025-02-07', 'id': 'f3c122c2-b52e-4dea-85fc-fb74955dfe1b', 'issue_date': '2024-12-26', 'min_ticks': {'above_tick': '0.05', 'below_tick': '0.01', 'cutoff_price': '3.00'}, 'rhs_tradability': 'tradable', 'state': 'active', 'strike_price': '255.0000', 'tradability': 'tradable', 'type': 'call', 'updated_at': '2025-01-31T20:59:59.948201216Z', 'url': 'https://api.robinhood.com/options/instruments/f3c122c2-b52e-4dea-85fc-fb74955dfe1b/', 'sellout_datetime': '2025-02-07T20:30:00+00:00', 'long_strategy_code': 'f3c122c2-b52e-4dea-85fc-fb74955dfe1b_L1', 'short_strategy_code': 'f3c122c2-b52e-4dea-85fc-fb74955dfe1b_S1', 'underlying_type': 'equity', 'adjusted_mark_price': '0.120000', 'adjusted_mark_price_round_down': '0.110000', 'ask_price': '0.120000', 'ask_size': 39, 'bid_price': '0.110000', 'bid_size': 1, 'break_even_price': '255.120000', 'high_price': '1.330000', 'instrument': 'https://api.robinhood.com/options/instruments/f3c122c2-b52e-4dea-85fc-fb74955dfe1b/', 'instrument_id': 'f3c122c2-b52e-4dea-85fc-fb74955dfe1b', 'last_trade_price': '0.120000', 'last_trade_size': 10, 'low_price': '0.100000', 'mark_price': '0.115000', 'open_interest': 9143, 'previous_close_date': '2025-01-30', 'previous_close_price': '0.950000', 'volume': 23131, 'symbol': 'AAPL', 'occ_symbol': 'AAPL  250207C00255000', 'chance_of_profit_long': '0.028414', 'chance_of_profit_short': '0.971586', 'delta': '0.032015', 'gamma': '0.007385', 'implied_volatility': '0.306144', 'rho': '0.001348', 'theta': '-0.053626', 'vega': '0.022812', 'pricing_model': 'Bjerksund-Stensland 1993', 'high_fill_rate_buy_price': '0.117000', 'high_fill_rate_sell_price': '0.112000', 'low_fill_rate_buy_price': '0.112000', 'low_fill_rate_sell_price': '0.117000'}], '20%_call': [{'chain_id': '7dd906e5-7d4b-4161-a3fe-2c3b62038482', 'chain_symbol': 'AAPL', 'created_at': '2024-12-25T02:07:16.717890Z', 'expiration_date': '2025-02-07', 'id': '811b5aa4-459e-4ea0-acfe-475652f813dc', 'issue_date': '2024-12-26', 'min_ticks': {'above_tick': '0.05', 'below_tick': '0.01', 'cutoff_price': '3.00'}, 'rhs_tradability': 'tradable', 'state': 'active', 'strike_price': '275.0000', 'tradability': 'tradable', 'type': 'call', 'updated_at': '2025-01-31T20:59:11.001359872Z', 'url': 'https://api.robinhood.com/options/instruments/811b5aa4-459e-4ea0-acfe-475652f813dc/', 'sellout_datetime': '2025-02-07T20:30:00+00:00', 'long_strategy_code': '811b5aa4-459e-4ea0-acfe-475652f813dc_L1', 'short_strategy_code': '811b5aa4-459e-4ea0-acfe-475652f813dc_S1', 'underlying_type': 'equity', 'adjusted_mark_price': '0.030000', 'adjusted_mark_price_round_down': '0.020000', 'ask_price': '0.040000', 'ask_size': 4, 'bid_price': '0.010000', 'bid_size': 3, 'break_even_price': '275.030000', 'high_price': '0.080000', 'instrument': 'https://api.robinhood.com/options/instruments/811b5aa4-459e-4ea0-acfe-475652f813dc/', 'instrument_id': '811b5aa4-459e-4ea0-acfe-475652f813dc', 'last_trade_price': '0.020000', 'last_trade_size': 1, 'low_price': '0.010000', 'mark_price': '0.025000', 'open_interest': 1734, 'previous_close_date': '2025-01-30', 'previous_close_price': '0.110000', 'volume': 304, 'symbol': 'AAPL', 'occ_symbol': 'AAPL  250207C00275000', 'chance_of_profit_long': '0.005494', 'chance_of_profit_short': '0.994506', 'delta': '0.006561', 'gamma': '0.001272', 'implied_volatility': '0.451580', 'rho': '0.000275', 'theta': '-0.020117', 'vega': '0.005847', 'pricing_model': 'Bjerksund-Stensland 1993', 'high_fill_rate_buy_price': '0.031000', 'high_fill_rate_sell_price': '0.018000', 'low_fill_rate_buy_price': '0.016000', 'low_fill_rate_sell_price': '0.033000'}]}, 'put': {'5%_put': [{'chain_id': '7dd906e5-7d4b-4161-a3fe-2c3b62038482', 'chain_symbol': 'AAPL', 'created_at': '2024-12-25T02:07:16.717782Z', 'expiration_date': '2025-02-07', 'id': '6f0000b1-88d5-4ce5-b294-365e0936e906', 'issue_date': '2024-12-26', 'min_ticks': {'above_tick': '0.05', 'below_tick': '0.01', 'cutoff_price': '3.00'}, 'rhs_tradability': 'tradable', 'state': 'active', 'strike_price': '220.0000', 'tradability': 'tradable', 'type': 'put', 'updated_at': '2025-01-31T20:59:59.948297472Z', 'url': 'https://api.robinhood.com/options/instruments/6f0000b1-88d5-4ce5-b294-365e0936e906/', 'sellout_datetime': '2025-02-07T20:30:00+00:00', 'long_strategy_code': '6f0000b1-88d5-4ce5-b294-365e0936e906_L1', 'short_strategy_code': '6f0000b1-88d5-4ce5-b294-365e0936e906_S1', 'underlying_type': 'equity', 'adjusted_mark_price': '0.320000', 'adjusted_mark_price_round_down': '0.310000', 'ask_price': '0.330000', 'ask_size': 11, 'bid_price': '0.300000', 'bid_size': 42, 'break_even_price': '219.680000', 'high_price': '0.620000', 'instrument': 'https://api.robinhood.com/options/instruments/6f0000b1-88d5-4ce5-b294-365e0936e906/', 'instrument_id': '6f0000b1-88d5-4ce5-b294-365e0936e906', 'last_trade_price': '0.320000', 'last_trade_size': 1, 'low_price': '0.070000', 'mark_price': '0.315000', 'open_interest': 21134, 'previous_close_date': '2025-01-30', 'previous_close_price': '0.970000', 'volume': 17011, 'symbol': 'AAPL', 'occ_symbol': 'AAPL  250207P00220000', 'chance_of_profit_long': '0.066836', 'chance_of_profit_short': '0.933164', 'delta': '-0.064755', 'gamma': '0.011350', 'implied_volatility': '0.350252', 'rho': '-0.002823', 'theta': '-0.104321', 'vega': '0.040165', 'pricing_model': 'Bjerksund-Stensland 1993', 'high_fill_rate_buy_price': '0.322000', 'high_fill_rate_sell_price': '0.307000', 'low_fill_rate_buy_price': '0.307000', 'low_fill_rate_sell_price': '0.322000'}], '10%_put': [{'chain_id': '7dd906e5-7d4b-4161-a3fe-2c3b62038482', 'chain_symbol': 'AAPL', 'created_at': '2024-12-25T02:07:16.718375Z', 'expiration_date': '2025-02-07', 'id': 'a83ef61a-9e45-44cb-afe8-1ea1f5135e2f', 'issue_date': '2024-12-26', 'min_ticks': {'above_tick': '0.05', 'below_tick': '0.01', 'cutoff_price': '3.00'}, 'rhs_tradability': 'tradable', 'state': 'active', 'strike_price': '205.0000', 'tradability': 'tradable', 'type': 'put', 'updated_at': '2025-01-31T20:59:59.81590144Z', 'url': 'https://api.robinhood.com/options/instruments/a83ef61a-9e45-44cb-afe8-1ea1f5135e2f/', 'sellout_datetime': '2025-02-07T20:30:00+00:00', 'long_strategy_code': 'a83ef61a-9e45-44cb-afe8-1ea1f5135e2f_L1', 'short_strategy_code': 'a83ef61a-9e45-44cb-afe8-1ea1f5135e2f_S1', 'underlying_type': 'equity', 'adjusted_mark_price': '0.090000', 'adjusted_mark_price_round_down': '0.080000', 'ask_price': '0.100000', 'ask_size': 60, 'bid_price': '0.070000', 'bid_size': 253, 'break_even_price': '204.910000', 'high_price': '0.180000', 'instrument': 'https://api.robinhood.com/options/instruments/a83ef61a-9e45-44cb-afe8-1ea1f5135e2f/', 'instrument_id': 'a83ef61a-9e45-44cb-afe8-1ea1f5135e2f', 'last_trade_price': '0.080000', 'last_trade_size': 1, 'low_price': '0.010000', 'mark_price': '0.085000', 'open_interest': 1739, 'previous_close_date': '2025-01-30', 'previous_close_price': '0.250000', 'volume': 2175, 'symbol': 'AAPL', 'occ_symbol': 'AAPL  250207P00205000', 'chance_of_profit_long': '0.018251', 'chance_of_profit_short': '0.981749', 'delta': '-0.015727', 'gamma': '0.002493', 'implied_volatility': '0.494346', 'rho': '-0.000689', 'theta': '-0.046306', 'vega': '0.012531', 'pricing_model': 'Bjerksund-Stensland 1993', 'high_fill_rate_buy_price': '0.093000', 'high_fill_rate_sell_price': '0.076000', 'low_fill_rate_buy_price': '0.078000', 'low_fill_rate_sell_price': '0.091000'}], '20%_put': [{'chain_id': '7dd906e5-7d4b-4161-a3fe-2c3b62038482', 'chain_symbol': 'AAPL', 'created_at': '2025-01-01T02:08:46.464679Z', 'expiration_date': '2025-02-07', 'id': 'bd5c1066-70b3-4ca6-91a1-aed0f846261e', 'issue_date': '2025-01-02', 'min_ticks': {'above_tick': '0.05', 'below_tick': '0.01', 'cutoff_price': '3.00'}, 'rhs_tradability': 'tradable', 'state': 'active', 'strike_price': '185.0000', 'tradability': 'tradable', 'type': 'put', 'updated_at': '2025-01-31T20:59:59.758278912Z', 'url': 'https://api.robinhood.com/options/instruments/bd5c1066-70b3-4ca6-91a1-aed0f846261e/', 'sellout_datetime': '2025-02-07T20:30:00+00:00', 'long_strategy_code': 'bd5c1066-70b3-4ca6-91a1-aed0f846261e_L1', 'short_strategy_code': 'bd5c1066-70b3-4ca6-91a1-aed0f846261e_S1', 'underlying_type': 'equity', 'adjusted_mark_price': '0.020000', 'adjusted_mark_price_round_down': '0.020000', 'ask_price': '0.030000', 'ask_size': 1, 'bid_price': '0.010000', 'bid_size': 35, 'break_even_price': '184.980000', 'high_price': '0.040000', 'instrument': 'https://api.robinhood.com/options/instruments/bd5c1066-70b3-4ca6-91a1-aed0f846261e/', 'instrument_id': 'bd5c1066-70b3-4ca6-91a1-aed0f846261e', 'last_trade_price': '0.040000', 'last_trade_size': 2, 'low_price': '0.010000', 'mark_price': '0.020000', 'open_interest': 2158, 'previous_close_date': '2025-01-30', 'previous_close_price': '0.090000', 'volume': 258, 'symbol': 'AAPL', 'occ_symbol': 'AAPL  250207P00185000', 'chance_of_profit_long': '0.003959', 'chance_of_profit_short': '0.996041', 'delta': '-0.003029', 'gamma': '0.000435', 'implied_volatility': '0.670180', 'rho': '-0.000133', 'theta': '-0.014747', 'vega': '0.002932', 'pricing_model': 'Bjerksund-Stensland 1993', 'high_fill_rate_buy_price': '0.025000', 'high_fill_rate_sell_price': '0.014000', 'low_fill_rate_buy_price': '0.015000', 'low_fill_rate_sell_price': '0.024000'}]}}, '1_month': {'call': {'5%_call': [{'chain_id': '7dd906e5-7d4b-4161-a3fe-2c3b62038482', 'chain_symbol': 'AAPL', 'created_at': '2025-01-08T02:05:34.629767Z', 'expiration_date': '2025-02-28', 'id': 'ce8ef3e1-569e-4ac0-a019-1b88b839a308', 'issue_date': '2025-01-08', 'min_ticks': {'above_tick': '0.05', 'below_tick': '0.01', 'cutoff_price': '3.00'}, 'rhs_tradability': 'tradable', 'state': 'active', 'strike_price': '240.0000', 'tradability': 'tradable', 'type': 'call', 'updated_at': '2025-01-31T20:59:59.921389312Z', 'url': 'https://api.robinhood.com/options/instruments/ce8ef3e1-569e-4ac0-a019-1b88b839a308/', 'sellout_datetime': '2025-02-28T20:30:00+00:00', 'long_strategy_code': 'ce8ef3e1-569e-4ac0-a019-1b88b839a308_L1', 'short_strategy_code': 'ce8ef3e1-569e-4ac0-a019-1b88b839a308_S1', 'underlying_type': 'equity', 'adjusted_mark_price': '4.380000', 'adjusted_mark_price_round_down': '4.370000', 'ask_price': '4.500000', 'ask_size': 1, 'bid_price': '4.250000', 'bid_size': 12, 'break_even_price': '244.380000', 'high_price': '11.000000', 'instrument': 'https://api.robinhood.com/options/instruments/ce8ef3e1-569e-4ac0-a019-1b88b839a308/', 'instrument_id': 'ce8ef3e1-569e-4ac0-a019-1b88b839a308', 'last_trade_price': '4.150000', 'last_trade_size': 75, 'low_price': '3.700000', 'mark_price': '4.375000', 'open_interest': 2765, 'previous_close_date': '2025-01-30', 'previous_close_price': '6.780000', 'volume': 6329, 'symbol': 'AAPL', 'occ_symbol': 'AAPL  250228C00240000', 'chance_of_profit_long': '0.292070', 'chance_of_profit_short': '0.707930', 'delta': '0.422870', 'gamma': '0.026668', 'implied_volatility': '0.226274', 'rho': '0.072166', 'theta': '-0.115607', 'vega': '0.253997', 'pricing_model': 'Bjerksund-Stensland 1993', 'high_fill_rate_buy_price': '4.434000', 'high_fill_rate_sell_price': '4.315000', 'low_fill_rate_buy_price': '4.311000', 'low_fill_rate_sell_price': '4.438000'}], '10%_call': [{'chain_id': '7dd906e5-7d4b-4161-a3fe-2c3b62038482', 'chain_symbol': 'AAPL', 'created_at': '2025-01-08T02:05:34.630601Z', 'expiration_date': '2025-02-28', 'id': '29212f1a-c1c2-4cb4-bc66-f674c60f78b1', 'issue_date': '2025-01-08', 'min_ticks': {'above_tick': '0.05', 'below_tick': '0.01', 'cutoff_price': '3.00'}, 'rhs_tradability': 'tradable', 'state': 'active', 'strike_price': '255.0000', 'tradability': 'tradable', 'type': 'call', 'updated_at': '2025-01-31T20:59:59.914086656Z', 'url': 'https://api.robinhood.com/options/instruments/29212f1a-c1c2-4cb4-bc66-f674c60f78b1/', 'sellout_datetime': '2025-02-28T20:30:00+00:00', 'long_strategy_code': '29212f1a-c1c2-4cb4-bc66-f674c60f78b1_L1', 'short_strategy_code': '29212f1a-c1c2-4cb4-bc66-f674c60f78b1_S1', 'underlying_type': 'equity', 'adjusted_mark_price': '0.900000', 'adjusted_mark_price_round_down': '0.890000', 'ask_price': '0.970000', 'ask_size': 52, 'bid_price': '0.820000', 'bid_size': 8, 'break_even_price': '255.900000', 'high_price': '3.200000', 'instrument': 'https://api.robinhood.com/options/instruments/29212f1a-c1c2-4cb4-bc66-f674c60f78b1/', 'instrument_id': '29212f1a-c1c2-4cb4-bc66-f674c60f78b1', 'last_trade_price': '0.850000', 'last_trade_size': 1, 'low_price': '0.720000', 'mark_price': '0.895000', 'open_interest': 3261, 'previous_close_date': '2025-01-30', 'previous_close_price': '1.910000', 'volume': 1965, 'symbol': 'AAPL', 'occ_symbol': 'AAPL  250228C00255000', 'chance_of_profit_long': '0.102208', 'chance_of_profit_short': '0.897792', 'delta': '0.125047', 'gamma': '0.013821', 'implied_volatility': '0.229701', 'rho': '0.021638', 'theta': '-0.059020', 'vega': '0.133601', 'pricing_model': 'Bjerksund-Stensland 1993', 'high_fill_rate_buy_price': '0.933000', 'high_fill_rate_sell_price': '0.856000', 'low_fill_rate_buy_price': '0.859000', 'low_fill_rate_sell_price': '0.930000'}], '20%_call': [{'chain_id': '7dd906e5-7d4b-4161-a3fe-2c3b62038482', 'chain_symbol': 'AAPL', 'created_at': '2025-01-08T02:05:34.631084Z', 'expiration_date': '2025-02-28', 'id': 'd66e1b6b-77d5-4773-a714-f18018d64f50', 'issue_date': '2025-01-08', 'min_ticks': {'above_tick': '0.05', 'below_tick': '0.01', 'cutoff_price': '3.00'}, 'rhs_tradability': 'tradable', 'state': 'active', 'strike_price': '275.0000', 'tradability': 'tradable', 'type': 'call', 'updated_at': '2025-01-31T20:59:59.862322944Z', 'url': 'https://api.robinhood.com/options/instruments/d66e1b6b-77d5-4773-a714-f18018d64f50/', 'sellout_datetime': '2025-02-28T20:30:00+00:00', 'long_strategy_code': 'd66e1b6b-77d5-4773-a714-f18018d64f50_L1', 'short_strategy_code': 'd66e1b6b-77d5-4773-a714-f18018d64f50_S1', 'underlying_type': 'equity', 'adjusted_mark_price': '0.120000', 'adjusted_mark_price_round_down': '0.120000', 'ask_price': '0.150000', 'ask_size': 156, 'bid_price': '0.090000', 'bid_size': 91, 'break_even_price': '275.120000', 'high_price': '0.460000', 'instrument': 'https://api.robinhood.com/options/instruments/d66e1b6b-77d5-4773-a714-f18018d64f50/', 'instrument_id': 'd66e1b6b-77d5-4773-a714-f18018d64f50', 'last_trade_price': '0.130000', 'last_trade_size': 5, 'low_price': '0.130000', 'mark_price': '0.120000', 'open_interest': 364, 'previous_close_date': '2025-01-30', 'previous_close_price': '0.340000', 'volume': 106, 'symbol': 'AAPL', 'occ_symbol': 'AAPL  250228C00275000', 'chance_of_profit_long': '0.016339', 'chance_of_profit_short': '0.983661', 'delta': '0.019784', 'gamma': '0.002846', 'implied_volatility': '0.260696', 'rho': '0.003441', 'theta': '-0.015241', 'vega': '0.031128', 'pricing_model': 'Bjerksund-Stensland 1993', 'high_fill_rate_buy_price': '0.137000', 'high_fill_rate_sell_price': '0.102000', 'low_fill_rate_buy_price': '0.109000', 'low_fill_rate_sell_price': '0.130000'}]}, 'put': {'5%_put': [{'chain_id': '7dd906e5-7d4b-4161-a3fe-2c3b62038482', 'chain_symbol': 'AAPL', 'created_at': '2025-01-08T02:05:34.630811Z', 'expiration_date': '2025-02-28', 'id': '59472d0c-1099-4b4a-97b0-03251446cb62', 'issue_date': '2025-01-08', 'min_ticks': {'above_tick': '0.05', 'below_tick': '0.01', 'cutoff_price': '3.00'}, 'rhs_tradability': 'tradable', 'state': 'active', 'strike_price': '220.0000', 'tradability': 'tradable', 'type': 'put', 'updated_at': '2025-01-31T20:59:59.982760192Z', 'url': 'https://api.robinhood.com/options/instruments/59472d0c-1099-4b4a-97b0-03251446cb62/', 'sellout_datetime': '2025-02-28T20:30:00+00:00', 'long_strategy_code': '59472d0c-1099-4b4a-97b0-03251446cb62_L1', 'short_strategy_code': '59472d0c-1099-4b4a-97b0-03251446cb62_S1', 'underlying_type': 'equity', 'adjusted_mark_price': '1.540000', 'adjusted_mark_price_round_down': '1.540000', 'ask_price': '1.660000', 'ask_size': 33, 'bid_price': '1.420000', 'bid_size': 32, 'break_even_price': '218.460000', 'high_price': '2.080000', 'instrument': 'https://api.robinhood.com/options/instruments/59472d0c-1099-4b4a-97b0-03251446cb62/', 'instrument_id': '59472d0c-1099-4b4a-97b0-03251446cb62', 'last_trade_price': '1.510000', 'last_trade_size': 1, 'low_price': '0.500000', 'mark_price': '1.540000', 'open_interest': 2556, 'previous_close_date': '2025-01-30', 'previous_close_price': '1.960000', 'volume': 2439, 'symbol': 'AAPL', 'occ_symbol': 'AAPL  250228P00220000', 'chance_of_profit_long': '0.154406', 'chance_of_profit_short': '0.845594', 'delta': '-0.158692', 'gamma': '0.013575', 'implied_volatility': '0.275448', 'rho': '-0.029059', 'theta': '-0.073625', 'vega': '0.157011', 'pricing_model': 'Bjerksund-Stensland 1993', 'high_fill_rate_buy_price': '1.599000', 'high_fill_rate_sell_price': '1.480000', 'low_fill_rate_buy_price': '1.481000', 'low_fill_rate_sell_price': '1.598000'}], '10%_put': [{'chain_id': '7dd906e5-7d4b-4161-a3fe-2c3b62038482', 'chain_symbol': 'AAPL', 'created_at': '2025-01-08T02:05:34.631127Z', 'expiration_date': '2025-02-28', 'id': 'c7e8e0ea-62cf-4a71-9ddb-7984c4d54e68', 'issue_date': '2025-01-08', 'min_ticks': {'above_tick': '0.05', 'below_tick': '0.01', 'cutoff_price': '3.00'}, 'rhs_tradability': 'tradable', 'state': 'active', 'strike_price': '205.0000', 'tradability': 'tradable', 'type': 'put', 'updated_at': '2025-01-31T20:59:59.951781888Z', 'url': 'https://api.robinhood.com/options/instruments/c7e8e0ea-62cf-4a71-9ddb-7984c4d54e68/', 'sellout_datetime': '2025-02-28T20:30:00+00:00', 'long_strategy_code': 'c7e8e0ea-62cf-4a71-9ddb-7984c4d54e68_L1', 'short_strategy_code': 'c7e8e0ea-62cf-4a71-9ddb-7984c4d54e68_S1', 'underlying_type': 'equity', 'adjusted_mark_price': '0.480000', 'adjusted_mark_price_round_down': '0.480000', 'ask_price': '0.490000', 'ask_size': 34, 'bid_price': '0.470000', 'bid_size': 61, 'break_even_price': '204.520000', 'high_price': '0.630000', 'instrument': 'https://api.robinhood.com/options/instruments/c7e8e0ea-62cf-4a71-9ddb-7984c4d54e68/', 'instrument_id': 'c7e8e0ea-62cf-4a71-9ddb-7984c4d54e68', 'last_trade_price': '0.530000', 'last_trade_size': 3, 'low_price': '0.170000', 'mark_price': '0.480000', 'open_interest': 887, 'previous_close_date': '2025-01-30', 'previous_close_price': '0.580000', 'volume': 506, 'symbol': 'AAPL', 'occ_symbol': 'AAPL  250228P00205000', 'chance_of_profit_long': '0.058867', 'chance_of_profit_short': '0.941133', 'delta': '-0.051662', 'gamma': '0.004950', 'implied_volatility': '0.329539', 'rho': '-0.009544', 'theta': '-0.039439', 'vega': '0.068683', 'pricing_model': 'Bjerksund-Stensland 1993', 'high_fill_rate_buy_price': '0.486000', 'high_fill_rate_sell_price': '0.473000', 'low_fill_rate_buy_price': '0.476000', 'low_fill_rate_sell_price': '0.483000'}], '20%_put': [{'chain_id': '7dd906e5-7d4b-4161-a3fe-2c3b62038482', 'chain_symbol': 'AAPL', 'created_at': '2025-01-08T02:05:34.630391Z', 'expiration_date': '2025-02-28', 'id': '08af132f-ac84-4a9a-8f7b-f394703aeaa8', 'issue_date': '2025-01-08', 'min_ticks': {'above_tick': '0.05', 'below_tick': '0.01', 'cutoff_price': '3.00'}, 'rhs_tradability': 'tradable', 'state': 'active', 'strike_price': '185.0000', 'tradability': 'tradable', 'type': 'put', 'updated_at': '2025-01-31T20:59:59.856544256Z', 'url': 'https://api.robinhood.com/options/instruments/08af132f-ac84-4a9a-8f7b-f394703aeaa8/', 'sellout_datetime': '2025-02-28T20:30:00+00:00', 'long_strategy_code': '08af132f-ac84-4a9a-8f7b-f394703aeaa8_L1', 'short_strategy_code': '08af132f-ac84-4a9a-8f7b-f394703aeaa8_S1', 'underlying_type': 'equity', 'adjusted_mark_price': '0.200000', 'adjusted_mark_price_round_down': '0.200000', 'ask_price': '0.210000', 'ask_size': 42, 'bid_price': '0.190000', 'bid_size': 41, 'break_even_price': '184.800000', 'high_price': '0.230000', 'instrument': 'https://api.robinhood.com/options/instruments/08af132f-ac84-4a9a-8f7b-f394703aeaa8/', 'instrument_id': '08af132f-ac84-4a9a-8f7b-f394703aeaa8', 'last_trade_price': '0.210000', 'last_trade_size': 1, 'low_price': '0.100000', 'mark_price': '0.200000', 'open_interest': 253, 'previous_close_date': '2025-01-30', 'previous_close_price': '0.230000', 'volume': 325, 'symbol': 'AAPL', 'occ_symbol': 'AAPL  250228P00185000', 'chance_of_profit_long': '0.024128', 'chance_of_profit_short': '0.975872', 'delta': '-0.018416', 'gamma': '0.001583', 'implied_volatility': '0.441596', 'rho': '-0.003432', 'theta': '-0.022860', 'vega': '0.029287', 'pricing_model': 'Bjerksund-Stensland 1993', 'high_fill_rate_buy_price': '0.206000', 'high_fill_rate_sell_price': '0.193000', 'low_fill_rate_buy_price': '0.197000', 'low_fill_rate_sell_price': '0.202000'}]}}, '1_year': {'call': {'5%_call': [{'chain_id': '7dd906e5-7d4b-4161-a3fe-2c3b62038482', 'chain_symbol': 'AAPL', 'created_at': '2023-09-09T01:40:39.921811Z', 'expiration_date': '2026-01-16', 'id': 'cc133440-cb7f-4f1c-ac5f-bc77afebf395', 'issue_date': '2023-09-11', 'min_ticks': {'above_tick': '0.05', 'below_tick': '0.01', 'cutoff_price': '3.00'}, 'rhs_tradability': 'tradable', 'state': 'active', 'strike_price': '240.0000', 'tradability': 'tradable', 'type': 'call', 'updated_at': '2025-01-31T20:59:59.82297984Z', 'url': 'https://api.robinhood.com/options/instruments/cc133440-cb7f-4f1c-ac5f-bc77afebf395/', 'sellout_datetime': '2026-01-16T20:30:00+00:00', 'long_strategy_code': 'cc133440-cb7f-4f1c-ac5f-bc77afebf395_L1', 'short_strategy_code': 'cc133440-cb7f-4f1c-ac5f-bc77afebf395_S1', 'underlying_type': 'equity', 'adjusted_mark_price': '25.100000', 'adjusted_mark_price_round_down': '25.100000', 'ask_price': '25.950000', 'ask_size': 101, 'bid_price': '24.250000', 'bid_size': 17, 'break_even_price': '265.100000', 'high_price': '31.520000', 'instrument': 'https://api.robinhood.com/options/instruments/cc133440-cb7f-4f1c-ac5f-bc77afebf395/', 'instrument_id': 'cc133440-cb7f-4f1c-ac5f-bc77afebf395', 'last_trade_price': '25.000000', 'last_trade_size': 1, 'low_price': '23.600000', 'mark_price': '25.100000', 'open_interest': 5894, 'previous_close_date': '2025-01-30', 'previous_close_price': '26.200000', 'volume': 484, 'symbol': 'AAPL', 'occ_symbol': 'AAPL  260116C00240000', 'chance_of_profit_long': '0.330079', 'chance_of_profit_short': '0.669921', 'delta': '0.584741', 'gamma': '0.006856', 'implied_volatility': '0.246242', 'rho': '1.080680', 'theta': '-0.044585', 'vega': '0.900056', 'pricing_model': 'Bjerksund-Stensland 1993', 'high_fill_rate_buy_price': '25.614000', 'high_fill_rate_sell_price': '24.585000', 'low_fill_rate_buy_price': '24.801000', 'low_fill_rate_sell_price': '25.398000'}], '10%_call': [{'chain_id': '7dd906e5-7d4b-4161-a3fe-2c3b62038482', 'chain_symbol': 'AAPL', 'created_at': '2023-09-09T01:40:39.922375Z', 'expiration_date': '2026-01-16', 'id': 'c222de6d-3840-48cd-bde7-d5715e12d0e4', 'issue_date': '2023-09-11', 'min_ticks': {'above_tick': '0.05', 'below_tick': '0.01', 'cutoff_price': '3.00'}, 'rhs_tradability': 'tradable', 'state': 'active', 'strike_price': '255.0000', 'tradability': 'tradable', 'type': 'call', 'updated_at': '2025-01-31T20:59:59.877840384Z', 'url': 'https://api.robinhood.com/options/instruments/c222de6d-3840-48cd-bde7-d5715e12d0e4/', 'sellout_datetime': '2026-01-16T20:30:00+00:00', 'long_strategy_code': 'c222de6d-3840-48cd-bde7-d5715e12d0e4_L1', 'short_strategy_code': 'c222de6d-3840-48cd-bde7-d5715e12d0e4_S1', 'underlying_type': 'equity', 'adjusted_mark_price': '17.850000', 'adjusted_mark_price_round_down': '17.850000', 'ask_price': '18.150000', 'ask_size': 18, 'bid_price': '17.550000', 'bid_size': 7, 'break_even_price': '272.850000', 'high_price': '22.950000', 'instrument': 'https://api.robinhood.com/options/instruments/c222de6d-3840-48cd-bde7-d5715e12d0e4/', 'instrument_id': 'c222de6d-3840-48cd-bde7-d5715e12d0e4', 'last_trade_price': '17.850000', 'last_trade_size': 1, 'low_price': '17.000000', 'mark_price': '17.850000', 'open_interest': 5501, 'previous_close_date': '2025-01-30', 'previous_close_price': '18.930000', 'volume': 112, 'symbol': 'AAPL', 'occ_symbol': 'AAPL  260116C00255000', 'chance_of_profit_long': '0.283351', 'chance_of_profit_short': '0.716649', 'delta': '0.480427', 'gamma': '0.007310', 'implied_volatility': '0.236258', 'rho': '0.914410', 'theta': '-0.041984', 'vega': '0.919802', 'pricing_model': 'Bjerksund-Stensland 1993', 'high_fill_rate_buy_price': '18.047000', 'high_fill_rate_sell_price': '17.652000', 'low_fill_rate_buy_price': '17.772000', 'low_fill_rate_sell_price': '17.927000'}], '20%_call': [{'chain_id': '7dd906e5-7d4b-4161-a3fe-2c3b62038482', 'chain_symbol': 'AAPL', 'created_at': '2023-09-09T01:40:39.921123Z', 'expiration_date': '2026-01-16', 'id': 'd74cdac7-23f8-4f1d-986f-49111dce1dd4', 'issue_date': '2023-09-11', 'min_ticks': {'above_tick': '0.05', 'below_tick': '0.01', 'cutoff_price': '3.00'}, 'rhs_tradability': 'tradable', 'state': 'active', 'strike_price': '275.0000', 'tradability': 'tradable', 'type': 'call', 'updated_at': '2025-01-31T20:59:59.912041728Z', 'url': 'https://api.robinhood.com/options/instruments/d74cdac7-23f8-4f1d-986f-49111dce1dd4/', 'sellout_datetime': '2026-01-16T20:30:00+00:00', 'long_strategy_code': 'd74cdac7-23f8-4f1d-986f-49111dce1dd4_L1', 'short_strategy_code': 'd74cdac7-23f8-4f1d-986f-49111dce1dd4_S1', 'underlying_type': 'equity', 'adjusted_mark_price': '10.600000', 'adjusted_mark_price_round_down': '10.600000', 'ask_price': '10.850000', 'ask_size': 6, 'bid_price': '10.350000', 'bid_size': 40, 'break_even_price': '285.600000', 'high_price': '13.850000', 'instrument': 'https://api.robinhood.com/options/instruments/d74cdac7-23f8-4f1d-986f-49111dce1dd4/', 'instrument_id': 'd74cdac7-23f8-4f1d-986f-49111dce1dd4', 'last_trade_price': '10.300000', 'last_trade_size': 2, 'low_price': '10.000000', 'mark_price': '10.600000', 'open_interest': 6535, 'previous_close_date': '2025-01-30', 'previous_close_price': '11.630000', 'volume': 129, 'symbol': 'AAPL', 'occ_symbol': 'AAPL  260116C00275000', 'chance_of_profit_long': '0.212700', 'chance_of_profit_short': '0.787300', 'delta': '0.342710', 'gamma': '0.007069', 'implied_volatility': '0.225231', 'rho': '0.672782', 'theta': '-0.035351', 'vega': '0.848371', 'pricing_model': 'Bjerksund-Stensland 1993', 'high_fill_rate_buy_price': '10.775000', 'high_fill_rate_sell_price': '10.424000', 'low_fill_rate_buy_price': '10.558000', 'low_fill_rate_sell_price': '10.641000'}]}, 'put': {'5%_put': [{'chain_id': '7dd906e5-7d4b-4161-a3fe-2c3b62038482', 'chain_symbol': 'AAPL', 'created_at': '2023-09-09T01:40:39.922203Z', 'expiration_date': '2026-01-16', 'id': 'bd56add7-f155-4baf-9ce1-5f7417f612f0', 'issue_date': '2023-09-11', 'min_ticks': {'above_tick': '0.05', 'below_tick': '0.01', 'cutoff_price': '3.00'}, 'rhs_tradability': 'tradable', 'state': 'active', 'strike_price': '220.0000', 'tradability': 'tradable', 'type': 'put', 'updated_at': '2025-01-31T20:59:59.842130176Z', 'url': 'https://api.robinhood.com/options/instruments/bd56add7-f155-4baf-9ce1-5f7417f612f0/', 'sellout_datetime': '2026-01-16T20:30:00+00:00', 'long_strategy_code': 'bd56add7-f155-4baf-9ce1-5f7417f612f0_L1', 'short_strategy_code': 'bd56add7-f155-4baf-9ce1-5f7417f612f0_S1', 'underlying_type': 'equity', 'adjusted_mark_price': '12.650000', 'adjusted_mark_price_round_down': '12.650000', 'ask_price': '13.050000', 'ask_size': 79, 'bid_price': '12.250000', 'bid_size': 37, 'break_even_price': '207.350000', 'high_price': '13.450000', 'instrument': 'https://api.robinhood.com/options/instruments/bd56add7-f155-4baf-9ce1-5f7417f612f0/', 'instrument_id': 'bd56add7-f155-4baf-9ce1-5f7417f612f0', 'last_trade_price': '13.260000', 'last_trade_size': 8, 'low_price': '9.680000', 'mark_price': '12.650000', 'open_interest': 10593, 'previous_close_date': '2025-01-30', 'previous_close_price': '12.180000', 'volume': 276, 'symbol': 'AAPL', 'occ_symbol': 'AAPL  260116P00220000', 'chance_of_profit_long': '0.294192', 'chance_of_profit_short': '0.705808', 'delta': '-0.301345', 'gamma': '0.006245', 'implied_volatility': '0.258312', 'rho': '-0.650776', 'theta': '-0.021642', 'vega': '0.795968', 'pricing_model': 'Bjerksund-Stensland 1993', 'high_fill_rate_buy_price': '12.916000', 'high_fill_rate_sell_price': '12.383000', 'low_fill_rate_buy_price': '12.552000', 'low_fill_rate_sell_price': '12.747000'}], '10%_put': [{'chain_id': '7dd906e5-7d4b-4161-a3fe-2c3b62038482', 'chain_symbol': 'AAPL', 'created_at': '2023-09-09T01:40:39.922473Z', 'expiration_date': '2026-01-16', 'id': 'd171f6d0-bc0d-47f7-bd1b-23f414616be3', 'issue_date': '2023-09-11', 'min_ticks': {'above_tick': '0.05', 'below_tick': '0.01', 'cutoff_price': '3.00'}, 'rhs_tradability': 'tradable', 'state': 'active', 'strike_price': '205.0000', 'tradability': 'tradable', 'type': 'put', 'updated_at': '2025-01-31T20:59:59.813177088Z', 'url': 'https://api.robinhood.com/options/instruments/d171f6d0-bc0d-47f7-bd1b-23f414616be3/', 'sellout_datetime': '2026-01-16T20:30:00+00:00', 'long_strategy_code': 'd171f6d0-bc0d-47f7-bd1b-23f414616be3_L1', 'short_strategy_code': 'd171f6d0-bc0d-47f7-bd1b-23f414616be3_S1', 'underlying_type': 'equity', 'adjusted_mark_price': '8.550000', 'adjusted_mark_price_round_down': '8.550000', 'ask_price': '8.650000', 'ask_size': 46, 'bid_price': '8.450000', 'bid_size': 39, 'break_even_price': '196.450000', 'high_price': '8.920000', 'instrument': 'https://api.robinhood.com/options/instruments/d171f6d0-bc0d-47f7-bd1b-23f414616be3/', 'instrument_id': 'd171f6d0-bc0d-47f7-bd1b-23f414616be3', 'last_trade_price': '8.920000', 'last_trade_size': 1, 'low_price': '6.450000', 'mark_price': '8.550000', 'open_interest': 3914, 'previous_close_date': '2025-01-30', 'previous_close_price': '8.300000', 'volume': 1019, 'symbol': 'AAPL', 'occ_symbol': 'AAPL  260116P00205000', 'chance_of_profit_long': '0.239163', 'chance_of_profit_short': '0.760837', 'delta': '-0.215006', 'gamma': '0.004878', 'implied_volatility': '0.270531', 'rho': '-0.492311', 'theta': '-0.020078', 'vega': '0.670723', 'pricing_model': 'Bjerksund-Stensland 1993', 'high_fill_rate_buy_price': '8.611000', 'high_fill_rate_sell_price': '8.488000', 'low_fill_rate_buy_price': '8.515000', 'low_fill_rate_sell_price': '8.584000'}], '20%_put': [{'chain_id': '7dd906e5-7d4b-4161-a3fe-2c3b62038482', 'chain_symbol': 'AAPL', 'created_at': '2023-09-09T01:40:39.922300Z', 'expiration_date': '2026-01-16', 'id': 'a43a0284-9ac6-435f-a47b-681e0924b45b', 'issue_date': '2023-09-11', 'min_ticks': {'above_tick': '0.05', 'below_tick': '0.01', 'cutoff_price': '3.00'}, 'rhs_tradability': 'tradable', 'state': 'active', 'strike_price': '185.0000', 'tradability': 'tradable', 'type': 'put', 'updated_at': '2025-01-31T20:59:59.945536512Z', 'url': 'https://api.robinhood.com/options/instruments/a43a0284-9ac6-435f-a47b-681e0924b45b/', 'sellout_datetime': '2026-01-16T20:30:00+00:00', 'long_strategy_code': 'a43a0284-9ac6-435f-a47b-681e0924b45b_L1', 'short_strategy_code': 'a43a0284-9ac6-435f-a47b-681e0924b45b_S1', 'underlying_type': 'equity', 'adjusted_mark_price': '4.980000', 'adjusted_mark_price_round_down': '4.970000', 'ask_price': '5.350000', 'ask_size': 38, 'bid_price': '4.600000', 'bid_size': 42, 'break_even_price': '180.020000', 'high_price': '5.150000', 'instrument': 'https://api.robinhood.com/options/instruments/a43a0284-9ac6-435f-a47b-681e0924b45b/', 'instrument_id': 'a43a0284-9ac6-435f-a47b-681e0924b45b', 'last_trade_price': '4.900000', 'last_trade_size': 1, 'low_price': '3.700000', 'mark_price': '4.975000', 'open_interest': 6962, 'previous_close_date': '2025-01-30', 'previous_close_price': '4.730000', 'volume': 33, 'symbol': 'AAPL', 'occ_symbol': 'AAPL  260116P00185000', 'chance_of_profit_long': '0.172539', 'chance_of_profit_short': '0.827461', 'delta': '-0.131045', 'gamma': '0.003230', 'implied_volatility': '0.291541', 'rho': '-0.315216', 'theta': '-0.016664', 'vega': '0.489847', 'pricing_model': 'Bjerksund-Stensland 1993', 'high_fill_rate_buy_price': '5.226000', 'high_fill_rate_sell_price': '4.723000', 'low_fill_rate_buy_price': '4.886000', 'low_fill_rate_sell_price': '5.063000'}]}}}\n"
     ]
    }
   ],
   "source": [
    "import time\n",
    "import datetime\n",
    "\n",
    "def get_option_data(ticker, expiration_date, strike_price, option_type):\n",
    "    \"\"\"\n",
    "    Pull data for options at 5%, 10%, and 20% over/under the strike price.\n",
    "    If volume of the given option is 0, find another option by increasing the strike price by 5%,\n",
    "    or increasing the price (for call) / decreasing the price (for put).\n",
    "    \n",
    "    Parameters:\n",
    "    ticker (str): The ticker symbol.\n",
    "    expiration_date (str): The expiration date in 'YYYY-MM-DD' format.\n",
    "    strike_price (float): The current strike price.\n",
    "    option_type (str): 'call' or 'put'.\n",
    "    \n",
    "    Returns:\n",
    "    dict: A dictionary with option data.\n",
    "    \"\"\"\n",
    "    percentages = [0.05, 0.10, 0.20]\n",
    "    option_data = {}\n",
    "    \n",
    "    for pct in percentages:\n",
    "        if option_type == 'call':\n",
    "            adjusted_strike = strike_price * (1 + pct)\n",
    "        elif option_type == 'put':\n",
    "            adjusted_strike = strike_price * (1 - pct)\n",
    "        else:\n",
    "            raise ValueError(\"option_type must be 'call' or 'put'\")\n",
    "        \n",
    "        # Round the adjusted strike price to the nearest multiple of 5\n",
    "        adjusted_strike = round(adjusted_strike / 5) * 5\n",
    "        \n",
    "        while True:\n",
    "            # Get option data\n",
    "            print(f\"Fetching options for {ticker}, expiration: {expiration_date}, strike: {adjusted_strike}, type: {option_type}\")\n",
    "            options = r.options.find_options_by_expiration_and_strike(ticker, expiration_date, adjusted_strike, option_type)\n",
    "            time.sleep(2)  # Sleep for 2 seconds before each call\n",
    "            \n",
    "            if options:\n",
    "                sample_response = options[0] if isinstance(options, list) and options else options\n",
    "                print(f\"Sample response: {sample_response}\")\n",
    "                \n",
    "                # Check if volume is 0\n",
    "                if all(opt['volume'] == 0 for opt in options if isinstance(opt, dict)):\n",
    "                    # Adjust strike price by $5\n",
    "                    if option_type == 'call':\n",
    "                        adjusted_strike += 5  # Increase the price for call\n",
    "                    elif option_type == 'put':\n",
    "                        adjusted_strike -= 5  # Decrease the price for put\n",
    "                    print(f\"Volume is 0, adjusting strike price to {adjusted_strike}\")\n",
    "                else:\n",
    "                    option_data[f'{int(pct*100)}%_{option_type}'] = options\n",
    "                    break\n",
    "            else:\n",
    "                print(\"No options found, adjusting expiration date\")\n",
    "                expiration_date = (datetime.datetime.strptime(expiration_date, '%Y-%m-%d') + datetime.timedelta(days=7)).strftime('%Y-%m-%d')\n",
    "        \n",
    "    return option_data\n",
    "\n",
    "# Example usage\n",
    "for period, date in closest_dates.items():\n",
    "    if date:\n",
    "        expiration_date = date.strftime('%Y-%m-%d')\n",
    "        call_data = get_option_data(ticker, expiration_date, current_strike_price, 'call')\n",
    "        put_data = get_option_data(ticker, expiration_date, current_strike_price, 'put')\n",
    "        all_option_data[period] = {'call': call_data, 'put': put_data}\n",
    "\n",
    "print(all_option_data)\n"
   ]
  },
  {
   "cell_type": "code",
   "execution_count": 40,
   "metadata": {},
   "outputs": [
    {
     "data": {
      "text/plain": [
       "{'1_week': {'call': {'5%_call': [{'chain_id': '7dd906e5-7d4b-4161-a3fe-2c3b62038482',\n",
       "     'chain_symbol': 'AAPL',\n",
       "     'created_at': '2024-12-25T02:07:16.718755Z',\n",
       "     'expiration_date': '2025-02-07',\n",
       "     'id': '567edcc2-1a7d-46e2-977e-4c2581ea7f5c',\n",
       "     'issue_date': '2024-12-26',\n",
       "     'min_ticks': {'above_tick': '0.05',\n",
       "      'below_tick': '0.01',\n",
       "      'cutoff_price': '3.00'},\n",
       "     'rhs_tradability': 'tradable',\n",
       "     'state': 'active',\n",
       "     'strike_price': '240.0000',\n",
       "     'tradability': 'tradable',\n",
       "     'type': 'call',\n",
       "     'updated_at': '2025-01-31T20:59:59.933100032Z',\n",
       "     'url': 'https://api.robinhood.com/options/instruments/567edcc2-1a7d-46e2-977e-4c2581ea7f5c/',\n",
       "     'sellout_datetime': '2025-02-07T20:30:00+00:00',\n",
       "     'long_strategy_code': '567edcc2-1a7d-46e2-977e-4c2581ea7f5c_L1',\n",
       "     'short_strategy_code': '567edcc2-1a7d-46e2-977e-4c2581ea7f5c_S1',\n",
       "     'underlying_type': 'equity',\n",
       "     'adjusted_mark_price': '1.770000',\n",
       "     'adjusted_mark_price_round_down': '1.770000',\n",
       "     'ask_price': '1.790000',\n",
       "     'ask_size': 10,\n",
       "     'bid_price': '1.750000',\n",
       "     'bid_size': 20,\n",
       "     'break_even_price': '241.770000',\n",
       "     'high_price': '8.720000',\n",
       "     'instrument': 'https://api.robinhood.com/options/instruments/567edcc2-1a7d-46e2-977e-4c2581ea7f5c/',\n",
       "     'instrument_id': '567edcc2-1a7d-46e2-977e-4c2581ea7f5c',\n",
       "     'last_trade_price': '1.760000',\n",
       "     'last_trade_size': 6,\n",
       "     'low_price': '1.310000',\n",
       "     'mark_price': '1.770000',\n",
       "     'open_interest': 11874,\n",
       "     'previous_close_date': '2025-01-30',\n",
       "     'previous_close_price': '4.900000',\n",
       "     'volume': 53656,\n",
       "     'symbol': 'AAPL',\n",
       "     'occ_symbol': 'AAPL  250207C00240000',\n",
       "     'chance_of_profit_long': '0.245304',\n",
       "     'chance_of_profit_short': '0.754696',\n",
       "     'delta': '0.327215',\n",
       "     'gamma': '0.042910',\n",
       "     'implied_volatility': '0.264719',\n",
       "     'rho': '0.013682',\n",
       "     'theta': '-0.238321',\n",
       "     'vega': '0.114663',\n",
       "     'pricing_model': 'Bjerksund-Stensland 1993',\n",
       "     'high_fill_rate_buy_price': '1.780000',\n",
       "     'high_fill_rate_sell_price': '1.759000',\n",
       "     'low_fill_rate_buy_price': '1.760000',\n",
       "     'low_fill_rate_sell_price': '1.779000'}],\n",
       "   '10%_call': [{'chain_id': '7dd906e5-7d4b-4161-a3fe-2c3b62038482',\n",
       "     'chain_symbol': 'AAPL',\n",
       "     'created_at': '2024-12-25T02:07:16.718691Z',\n",
       "     'expiration_date': '2025-02-07',\n",
       "     'id': 'f3c122c2-b52e-4dea-85fc-fb74955dfe1b',\n",
       "     'issue_date': '2024-12-26',\n",
       "     'min_ticks': {'above_tick': '0.05',\n",
       "      'below_tick': '0.01',\n",
       "      'cutoff_price': '3.00'},\n",
       "     'rhs_tradability': 'tradable',\n",
       "     'state': 'active',\n",
       "     'strike_price': '255.0000',\n",
       "     'tradability': 'tradable',\n",
       "     'type': 'call',\n",
       "     'updated_at': '2025-01-31T20:59:59.948201216Z',\n",
       "     'url': 'https://api.robinhood.com/options/instruments/f3c122c2-b52e-4dea-85fc-fb74955dfe1b/',\n",
       "     'sellout_datetime': '2025-02-07T20:30:00+00:00',\n",
       "     'long_strategy_code': 'f3c122c2-b52e-4dea-85fc-fb74955dfe1b_L1',\n",
       "     'short_strategy_code': 'f3c122c2-b52e-4dea-85fc-fb74955dfe1b_S1',\n",
       "     'underlying_type': 'equity',\n",
       "     'adjusted_mark_price': '0.120000',\n",
       "     'adjusted_mark_price_round_down': '0.110000',\n",
       "     'ask_price': '0.120000',\n",
       "     'ask_size': 39,\n",
       "     'bid_price': '0.110000',\n",
       "     'bid_size': 1,\n",
       "     'break_even_price': '255.120000',\n",
       "     'high_price': '1.330000',\n",
       "     'instrument': 'https://api.robinhood.com/options/instruments/f3c122c2-b52e-4dea-85fc-fb74955dfe1b/',\n",
       "     'instrument_id': 'f3c122c2-b52e-4dea-85fc-fb74955dfe1b',\n",
       "     'last_trade_price': '0.120000',\n",
       "     'last_trade_size': 10,\n",
       "     'low_price': '0.100000',\n",
       "     'mark_price': '0.115000',\n",
       "     'open_interest': 9143,\n",
       "     'previous_close_date': '2025-01-30',\n",
       "     'previous_close_price': '0.950000',\n",
       "     'volume': 23131,\n",
       "     'symbol': 'AAPL',\n",
       "     'occ_symbol': 'AAPL  250207C00255000',\n",
       "     'chance_of_profit_long': '0.028414',\n",
       "     'chance_of_profit_short': '0.971586',\n",
       "     'delta': '0.032015',\n",
       "     'gamma': '0.007385',\n",
       "     'implied_volatility': '0.306144',\n",
       "     'rho': '0.001348',\n",
       "     'theta': '-0.053626',\n",
       "     'vega': '0.022812',\n",
       "     'pricing_model': 'Bjerksund-Stensland 1993',\n",
       "     'high_fill_rate_buy_price': '0.117000',\n",
       "     'high_fill_rate_sell_price': '0.112000',\n",
       "     'low_fill_rate_buy_price': '0.112000',\n",
       "     'low_fill_rate_sell_price': '0.117000'}],\n",
       "   '20%_call': [{'chain_id': '7dd906e5-7d4b-4161-a3fe-2c3b62038482',\n",
       "     'chain_symbol': 'AAPL',\n",
       "     'created_at': '2024-12-25T02:07:16.717890Z',\n",
       "     'expiration_date': '2025-02-07',\n",
       "     'id': '811b5aa4-459e-4ea0-acfe-475652f813dc',\n",
       "     'issue_date': '2024-12-26',\n",
       "     'min_ticks': {'above_tick': '0.05',\n",
       "      'below_tick': '0.01',\n",
       "      'cutoff_price': '3.00'},\n",
       "     'rhs_tradability': 'tradable',\n",
       "     'state': 'active',\n",
       "     'strike_price': '275.0000',\n",
       "     'tradability': 'tradable',\n",
       "     'type': 'call',\n",
       "     'updated_at': '2025-01-31T20:59:11.001359872Z',\n",
       "     'url': 'https://api.robinhood.com/options/instruments/811b5aa4-459e-4ea0-acfe-475652f813dc/',\n",
       "     'sellout_datetime': '2025-02-07T20:30:00+00:00',\n",
       "     'long_strategy_code': '811b5aa4-459e-4ea0-acfe-475652f813dc_L1',\n",
       "     'short_strategy_code': '811b5aa4-459e-4ea0-acfe-475652f813dc_S1',\n",
       "     'underlying_type': 'equity',\n",
       "     'adjusted_mark_price': '0.030000',\n",
       "     'adjusted_mark_price_round_down': '0.020000',\n",
       "     'ask_price': '0.040000',\n",
       "     'ask_size': 4,\n",
       "     'bid_price': '0.010000',\n",
       "     'bid_size': 3,\n",
       "     'break_even_price': '275.030000',\n",
       "     'high_price': '0.080000',\n",
       "     'instrument': 'https://api.robinhood.com/options/instruments/811b5aa4-459e-4ea0-acfe-475652f813dc/',\n",
       "     'instrument_id': '811b5aa4-459e-4ea0-acfe-475652f813dc',\n",
       "     'last_trade_price': '0.020000',\n",
       "     'last_trade_size': 1,\n",
       "     'low_price': '0.010000',\n",
       "     'mark_price': '0.025000',\n",
       "     'open_interest': 1734,\n",
       "     'previous_close_date': '2025-01-30',\n",
       "     'previous_close_price': '0.110000',\n",
       "     'volume': 304,\n",
       "     'symbol': 'AAPL',\n",
       "     'occ_symbol': 'AAPL  250207C00275000',\n",
       "     'chance_of_profit_long': '0.005494',\n",
       "     'chance_of_profit_short': '0.994506',\n",
       "     'delta': '0.006561',\n",
       "     'gamma': '0.001272',\n",
       "     'implied_volatility': '0.451580',\n",
       "     'rho': '0.000275',\n",
       "     'theta': '-0.020117',\n",
       "     'vega': '0.005847',\n",
       "     'pricing_model': 'Bjerksund-Stensland 1993',\n",
       "     'high_fill_rate_buy_price': '0.031000',\n",
       "     'high_fill_rate_sell_price': '0.018000',\n",
       "     'low_fill_rate_buy_price': '0.016000',\n",
       "     'low_fill_rate_sell_price': '0.033000'}]},\n",
       "  'put': {'5%_put': [{'chain_id': '7dd906e5-7d4b-4161-a3fe-2c3b62038482',\n",
       "     'chain_symbol': 'AAPL',\n",
       "     'created_at': '2024-12-25T02:07:16.717782Z',\n",
       "     'expiration_date': '2025-02-07',\n",
       "     'id': '6f0000b1-88d5-4ce5-b294-365e0936e906',\n",
       "     'issue_date': '2024-12-26',\n",
       "     'min_ticks': {'above_tick': '0.05',\n",
       "      'below_tick': '0.01',\n",
       "      'cutoff_price': '3.00'},\n",
       "     'rhs_tradability': 'tradable',\n",
       "     'state': 'active',\n",
       "     'strike_price': '220.0000',\n",
       "     'tradability': 'tradable',\n",
       "     'type': 'put',\n",
       "     'updated_at': '2025-01-31T20:59:59.948297472Z',\n",
       "     'url': 'https://api.robinhood.com/options/instruments/6f0000b1-88d5-4ce5-b294-365e0936e906/',\n",
       "     'sellout_datetime': '2025-02-07T20:30:00+00:00',\n",
       "     'long_strategy_code': '6f0000b1-88d5-4ce5-b294-365e0936e906_L1',\n",
       "     'short_strategy_code': '6f0000b1-88d5-4ce5-b294-365e0936e906_S1',\n",
       "     'underlying_type': 'equity',\n",
       "     'adjusted_mark_price': '0.320000',\n",
       "     'adjusted_mark_price_round_down': '0.310000',\n",
       "     'ask_price': '0.330000',\n",
       "     'ask_size': 11,\n",
       "     'bid_price': '0.300000',\n",
       "     'bid_size': 42,\n",
       "     'break_even_price': '219.680000',\n",
       "     'high_price': '0.620000',\n",
       "     'instrument': 'https://api.robinhood.com/options/instruments/6f0000b1-88d5-4ce5-b294-365e0936e906/',\n",
       "     'instrument_id': '6f0000b1-88d5-4ce5-b294-365e0936e906',\n",
       "     'last_trade_price': '0.320000',\n",
       "     'last_trade_size': 1,\n",
       "     'low_price': '0.070000',\n",
       "     'mark_price': '0.315000',\n",
       "     'open_interest': 21134,\n",
       "     'previous_close_date': '2025-01-30',\n",
       "     'previous_close_price': '0.970000',\n",
       "     'volume': 17011,\n",
       "     'symbol': 'AAPL',\n",
       "     'occ_symbol': 'AAPL  250207P00220000',\n",
       "     'chance_of_profit_long': '0.066836',\n",
       "     'chance_of_profit_short': '0.933164',\n",
       "     'delta': '-0.064755',\n",
       "     'gamma': '0.011350',\n",
       "     'implied_volatility': '0.350252',\n",
       "     'rho': '-0.002823',\n",
       "     'theta': '-0.104321',\n",
       "     'vega': '0.040165',\n",
       "     'pricing_model': 'Bjerksund-Stensland 1993',\n",
       "     'high_fill_rate_buy_price': '0.322000',\n",
       "     'high_fill_rate_sell_price': '0.307000',\n",
       "     'low_fill_rate_buy_price': '0.307000',\n",
       "     'low_fill_rate_sell_price': '0.322000'}],\n",
       "   '10%_put': [{'chain_id': '7dd906e5-7d4b-4161-a3fe-2c3b62038482',\n",
       "     'chain_symbol': 'AAPL',\n",
       "     'created_at': '2024-12-25T02:07:16.718375Z',\n",
       "     'expiration_date': '2025-02-07',\n",
       "     'id': 'a83ef61a-9e45-44cb-afe8-1ea1f5135e2f',\n",
       "     'issue_date': '2024-12-26',\n",
       "     'min_ticks': {'above_tick': '0.05',\n",
       "      'below_tick': '0.01',\n",
       "      'cutoff_price': '3.00'},\n",
       "     'rhs_tradability': 'tradable',\n",
       "     'state': 'active',\n",
       "     'strike_price': '205.0000',\n",
       "     'tradability': 'tradable',\n",
       "     'type': 'put',\n",
       "     'updated_at': '2025-01-31T20:59:59.81590144Z',\n",
       "     'url': 'https://api.robinhood.com/options/instruments/a83ef61a-9e45-44cb-afe8-1ea1f5135e2f/',\n",
       "     'sellout_datetime': '2025-02-07T20:30:00+00:00',\n",
       "     'long_strategy_code': 'a83ef61a-9e45-44cb-afe8-1ea1f5135e2f_L1',\n",
       "     'short_strategy_code': 'a83ef61a-9e45-44cb-afe8-1ea1f5135e2f_S1',\n",
       "     'underlying_type': 'equity',\n",
       "     'adjusted_mark_price': '0.090000',\n",
       "     'adjusted_mark_price_round_down': '0.080000',\n",
       "     'ask_price': '0.100000',\n",
       "     'ask_size': 60,\n",
       "     'bid_price': '0.070000',\n",
       "     'bid_size': 253,\n",
       "     'break_even_price': '204.910000',\n",
       "     'high_price': '0.180000',\n",
       "     'instrument': 'https://api.robinhood.com/options/instruments/a83ef61a-9e45-44cb-afe8-1ea1f5135e2f/',\n",
       "     'instrument_id': 'a83ef61a-9e45-44cb-afe8-1ea1f5135e2f',\n",
       "     'last_trade_price': '0.080000',\n",
       "     'last_trade_size': 1,\n",
       "     'low_price': '0.010000',\n",
       "     'mark_price': '0.085000',\n",
       "     'open_interest': 1739,\n",
       "     'previous_close_date': '2025-01-30',\n",
       "     'previous_close_price': '0.250000',\n",
       "     'volume': 2175,\n",
       "     'symbol': 'AAPL',\n",
       "     'occ_symbol': 'AAPL  250207P00205000',\n",
       "     'chance_of_profit_long': '0.018251',\n",
       "     'chance_of_profit_short': '0.981749',\n",
       "     'delta': '-0.015727',\n",
       "     'gamma': '0.002493',\n",
       "     'implied_volatility': '0.494346',\n",
       "     'rho': '-0.000689',\n",
       "     'theta': '-0.046306',\n",
       "     'vega': '0.012531',\n",
       "     'pricing_model': 'Bjerksund-Stensland 1993',\n",
       "     'high_fill_rate_buy_price': '0.093000',\n",
       "     'high_fill_rate_sell_price': '0.076000',\n",
       "     'low_fill_rate_buy_price': '0.078000',\n",
       "     'low_fill_rate_sell_price': '0.091000'}],\n",
       "   '20%_put': [{'chain_id': '7dd906e5-7d4b-4161-a3fe-2c3b62038482',\n",
       "     'chain_symbol': 'AAPL',\n",
       "     'created_at': '2025-01-01T02:08:46.464679Z',\n",
       "     'expiration_date': '2025-02-07',\n",
       "     'id': 'bd5c1066-70b3-4ca6-91a1-aed0f846261e',\n",
       "     'issue_date': '2025-01-02',\n",
       "     'min_ticks': {'above_tick': '0.05',\n",
       "      'below_tick': '0.01',\n",
       "      'cutoff_price': '3.00'},\n",
       "     'rhs_tradability': 'tradable',\n",
       "     'state': 'active',\n",
       "     'strike_price': '185.0000',\n",
       "     'tradability': 'tradable',\n",
       "     'type': 'put',\n",
       "     'updated_at': '2025-01-31T20:59:59.758278912Z',\n",
       "     'url': 'https://api.robinhood.com/options/instruments/bd5c1066-70b3-4ca6-91a1-aed0f846261e/',\n",
       "     'sellout_datetime': '2025-02-07T20:30:00+00:00',\n",
       "     'long_strategy_code': 'bd5c1066-70b3-4ca6-91a1-aed0f846261e_L1',\n",
       "     'short_strategy_code': 'bd5c1066-70b3-4ca6-91a1-aed0f846261e_S1',\n",
       "     'underlying_type': 'equity',\n",
       "     'adjusted_mark_price': '0.020000',\n",
       "     'adjusted_mark_price_round_down': '0.020000',\n",
       "     'ask_price': '0.030000',\n",
       "     'ask_size': 1,\n",
       "     'bid_price': '0.010000',\n",
       "     'bid_size': 35,\n",
       "     'break_even_price': '184.980000',\n",
       "     'high_price': '0.040000',\n",
       "     'instrument': 'https://api.robinhood.com/options/instruments/bd5c1066-70b3-4ca6-91a1-aed0f846261e/',\n",
       "     'instrument_id': 'bd5c1066-70b3-4ca6-91a1-aed0f846261e',\n",
       "     'last_trade_price': '0.040000',\n",
       "     'last_trade_size': 2,\n",
       "     'low_price': '0.010000',\n",
       "     'mark_price': '0.020000',\n",
       "     'open_interest': 2158,\n",
       "     'previous_close_date': '2025-01-30',\n",
       "     'previous_close_price': '0.090000',\n",
       "     'volume': 258,\n",
       "     'symbol': 'AAPL',\n",
       "     'occ_symbol': 'AAPL  250207P00185000',\n",
       "     'chance_of_profit_long': '0.003959',\n",
       "     'chance_of_profit_short': '0.996041',\n",
       "     'delta': '-0.003029',\n",
       "     'gamma': '0.000435',\n",
       "     'implied_volatility': '0.670180',\n",
       "     'rho': '-0.000133',\n",
       "     'theta': '-0.014747',\n",
       "     'vega': '0.002932',\n",
       "     'pricing_model': 'Bjerksund-Stensland 1993',\n",
       "     'high_fill_rate_buy_price': '0.025000',\n",
       "     'high_fill_rate_sell_price': '0.014000',\n",
       "     'low_fill_rate_buy_price': '0.015000',\n",
       "     'low_fill_rate_sell_price': '0.024000'}]}},\n",
       " '1_month': {'call': {'5%_call': [{'chain_id': '7dd906e5-7d4b-4161-a3fe-2c3b62038482',\n",
       "     'chain_symbol': 'AAPL',\n",
       "     'created_at': '2025-01-08T02:05:34.629767Z',\n",
       "     'expiration_date': '2025-02-28',\n",
       "     'id': 'ce8ef3e1-569e-4ac0-a019-1b88b839a308',\n",
       "     'issue_date': '2025-01-08',\n",
       "     'min_ticks': {'above_tick': '0.05',\n",
       "      'below_tick': '0.01',\n",
       "      'cutoff_price': '3.00'},\n",
       "     'rhs_tradability': 'tradable',\n",
       "     'state': 'active',\n",
       "     'strike_price': '240.0000',\n",
       "     'tradability': 'tradable',\n",
       "     'type': 'call',\n",
       "     'updated_at': '2025-01-31T20:59:59.921389312Z',\n",
       "     'url': 'https://api.robinhood.com/options/instruments/ce8ef3e1-569e-4ac0-a019-1b88b839a308/',\n",
       "     'sellout_datetime': '2025-02-28T20:30:00+00:00',\n",
       "     'long_strategy_code': 'ce8ef3e1-569e-4ac0-a019-1b88b839a308_L1',\n",
       "     'short_strategy_code': 'ce8ef3e1-569e-4ac0-a019-1b88b839a308_S1',\n",
       "     'underlying_type': 'equity',\n",
       "     'adjusted_mark_price': '4.380000',\n",
       "     'adjusted_mark_price_round_down': '4.370000',\n",
       "     'ask_price': '4.500000',\n",
       "     'ask_size': 1,\n",
       "     'bid_price': '4.250000',\n",
       "     'bid_size': 12,\n",
       "     'break_even_price': '244.380000',\n",
       "     'high_price': '11.000000',\n",
       "     'instrument': 'https://api.robinhood.com/options/instruments/ce8ef3e1-569e-4ac0-a019-1b88b839a308/',\n",
       "     'instrument_id': 'ce8ef3e1-569e-4ac0-a019-1b88b839a308',\n",
       "     'last_trade_price': '4.150000',\n",
       "     'last_trade_size': 75,\n",
       "     'low_price': '3.700000',\n",
       "     'mark_price': '4.375000',\n",
       "     'open_interest': 2765,\n",
       "     'previous_close_date': '2025-01-30',\n",
       "     'previous_close_price': '6.780000',\n",
       "     'volume': 6329,\n",
       "     'symbol': 'AAPL',\n",
       "     'occ_symbol': 'AAPL  250228C00240000',\n",
       "     'chance_of_profit_long': '0.292070',\n",
       "     'chance_of_profit_short': '0.707930',\n",
       "     'delta': '0.422870',\n",
       "     'gamma': '0.026668',\n",
       "     'implied_volatility': '0.226274',\n",
       "     'rho': '0.072166',\n",
       "     'theta': '-0.115607',\n",
       "     'vega': '0.253997',\n",
       "     'pricing_model': 'Bjerksund-Stensland 1993',\n",
       "     'high_fill_rate_buy_price': '4.434000',\n",
       "     'high_fill_rate_sell_price': '4.315000',\n",
       "     'low_fill_rate_buy_price': '4.311000',\n",
       "     'low_fill_rate_sell_price': '4.438000'}],\n",
       "   '10%_call': [{'chain_id': '7dd906e5-7d4b-4161-a3fe-2c3b62038482',\n",
       "     'chain_symbol': 'AAPL',\n",
       "     'created_at': '2025-01-08T02:05:34.630601Z',\n",
       "     'expiration_date': '2025-02-28',\n",
       "     'id': '29212f1a-c1c2-4cb4-bc66-f674c60f78b1',\n",
       "     'issue_date': '2025-01-08',\n",
       "     'min_ticks': {'above_tick': '0.05',\n",
       "      'below_tick': '0.01',\n",
       "      'cutoff_price': '3.00'},\n",
       "     'rhs_tradability': 'tradable',\n",
       "     'state': 'active',\n",
       "     'strike_price': '255.0000',\n",
       "     'tradability': 'tradable',\n",
       "     'type': 'call',\n",
       "     'updated_at': '2025-01-31T20:59:59.914086656Z',\n",
       "     'url': 'https://api.robinhood.com/options/instruments/29212f1a-c1c2-4cb4-bc66-f674c60f78b1/',\n",
       "     'sellout_datetime': '2025-02-28T20:30:00+00:00',\n",
       "     'long_strategy_code': '29212f1a-c1c2-4cb4-bc66-f674c60f78b1_L1',\n",
       "     'short_strategy_code': '29212f1a-c1c2-4cb4-bc66-f674c60f78b1_S1',\n",
       "     'underlying_type': 'equity',\n",
       "     'adjusted_mark_price': '0.900000',\n",
       "     'adjusted_mark_price_round_down': '0.890000',\n",
       "     'ask_price': '0.970000',\n",
       "     'ask_size': 52,\n",
       "     'bid_price': '0.820000',\n",
       "     'bid_size': 8,\n",
       "     'break_even_price': '255.900000',\n",
       "     'high_price': '3.200000',\n",
       "     'instrument': 'https://api.robinhood.com/options/instruments/29212f1a-c1c2-4cb4-bc66-f674c60f78b1/',\n",
       "     'instrument_id': '29212f1a-c1c2-4cb4-bc66-f674c60f78b1',\n",
       "     'last_trade_price': '0.850000',\n",
       "     'last_trade_size': 1,\n",
       "     'low_price': '0.720000',\n",
       "     'mark_price': '0.895000',\n",
       "     'open_interest': 3261,\n",
       "     'previous_close_date': '2025-01-30',\n",
       "     'previous_close_price': '1.910000',\n",
       "     'volume': 1965,\n",
       "     'symbol': 'AAPL',\n",
       "     'occ_symbol': 'AAPL  250228C00255000',\n",
       "     'chance_of_profit_long': '0.102208',\n",
       "     'chance_of_profit_short': '0.897792',\n",
       "     'delta': '0.125047',\n",
       "     'gamma': '0.013821',\n",
       "     'implied_volatility': '0.229701',\n",
       "     'rho': '0.021638',\n",
       "     'theta': '-0.059020',\n",
       "     'vega': '0.133601',\n",
       "     'pricing_model': 'Bjerksund-Stensland 1993',\n",
       "     'high_fill_rate_buy_price': '0.933000',\n",
       "     'high_fill_rate_sell_price': '0.856000',\n",
       "     'low_fill_rate_buy_price': '0.859000',\n",
       "     'low_fill_rate_sell_price': '0.930000'}],\n",
       "   '20%_call': [{'chain_id': '7dd906e5-7d4b-4161-a3fe-2c3b62038482',\n",
       "     'chain_symbol': 'AAPL',\n",
       "     'created_at': '2025-01-08T02:05:34.631084Z',\n",
       "     'expiration_date': '2025-02-28',\n",
       "     'id': 'd66e1b6b-77d5-4773-a714-f18018d64f50',\n",
       "     'issue_date': '2025-01-08',\n",
       "     'min_ticks': {'above_tick': '0.05',\n",
       "      'below_tick': '0.01',\n",
       "      'cutoff_price': '3.00'},\n",
       "     'rhs_tradability': 'tradable',\n",
       "     'state': 'active',\n",
       "     'strike_price': '275.0000',\n",
       "     'tradability': 'tradable',\n",
       "     'type': 'call',\n",
       "     'updated_at': '2025-01-31T20:59:59.862322944Z',\n",
       "     'url': 'https://api.robinhood.com/options/instruments/d66e1b6b-77d5-4773-a714-f18018d64f50/',\n",
       "     'sellout_datetime': '2025-02-28T20:30:00+00:00',\n",
       "     'long_strategy_code': 'd66e1b6b-77d5-4773-a714-f18018d64f50_L1',\n",
       "     'short_strategy_code': 'd66e1b6b-77d5-4773-a714-f18018d64f50_S1',\n",
       "     'underlying_type': 'equity',\n",
       "     'adjusted_mark_price': '0.120000',\n",
       "     'adjusted_mark_price_round_down': '0.120000',\n",
       "     'ask_price': '0.150000',\n",
       "     'ask_size': 156,\n",
       "     'bid_price': '0.090000',\n",
       "     'bid_size': 91,\n",
       "     'break_even_price': '275.120000',\n",
       "     'high_price': '0.460000',\n",
       "     'instrument': 'https://api.robinhood.com/options/instruments/d66e1b6b-77d5-4773-a714-f18018d64f50/',\n",
       "     'instrument_id': 'd66e1b6b-77d5-4773-a714-f18018d64f50',\n",
       "     'last_trade_price': '0.130000',\n",
       "     'last_trade_size': 5,\n",
       "     'low_price': '0.130000',\n",
       "     'mark_price': '0.120000',\n",
       "     'open_interest': 364,\n",
       "     'previous_close_date': '2025-01-30',\n",
       "     'previous_close_price': '0.340000',\n",
       "     'volume': 106,\n",
       "     'symbol': 'AAPL',\n",
       "     'occ_symbol': 'AAPL  250228C00275000',\n",
       "     'chance_of_profit_long': '0.016339',\n",
       "     'chance_of_profit_short': '0.983661',\n",
       "     'delta': '0.019784',\n",
       "     'gamma': '0.002846',\n",
       "     'implied_volatility': '0.260696',\n",
       "     'rho': '0.003441',\n",
       "     'theta': '-0.015241',\n",
       "     'vega': '0.031128',\n",
       "     'pricing_model': 'Bjerksund-Stensland 1993',\n",
       "     'high_fill_rate_buy_price': '0.137000',\n",
       "     'high_fill_rate_sell_price': '0.102000',\n",
       "     'low_fill_rate_buy_price': '0.109000',\n",
       "     'low_fill_rate_sell_price': '0.130000'}]},\n",
       "  'put': {'5%_put': [{'chain_id': '7dd906e5-7d4b-4161-a3fe-2c3b62038482',\n",
       "     'chain_symbol': 'AAPL',\n",
       "     'created_at': '2025-01-08T02:05:34.630811Z',\n",
       "     'expiration_date': '2025-02-28',\n",
       "     'id': '59472d0c-1099-4b4a-97b0-03251446cb62',\n",
       "     'issue_date': '2025-01-08',\n",
       "     'min_ticks': {'above_tick': '0.05',\n",
       "      'below_tick': '0.01',\n",
       "      'cutoff_price': '3.00'},\n",
       "     'rhs_tradability': 'tradable',\n",
       "     'state': 'active',\n",
       "     'strike_price': '220.0000',\n",
       "     'tradability': 'tradable',\n",
       "     'type': 'put',\n",
       "     'updated_at': '2025-01-31T20:59:59.982760192Z',\n",
       "     'url': 'https://api.robinhood.com/options/instruments/59472d0c-1099-4b4a-97b0-03251446cb62/',\n",
       "     'sellout_datetime': '2025-02-28T20:30:00+00:00',\n",
       "     'long_strategy_code': '59472d0c-1099-4b4a-97b0-03251446cb62_L1',\n",
       "     'short_strategy_code': '59472d0c-1099-4b4a-97b0-03251446cb62_S1',\n",
       "     'underlying_type': 'equity',\n",
       "     'adjusted_mark_price': '1.540000',\n",
       "     'adjusted_mark_price_round_down': '1.540000',\n",
       "     'ask_price': '1.660000',\n",
       "     'ask_size': 33,\n",
       "     'bid_price': '1.420000',\n",
       "     'bid_size': 32,\n",
       "     'break_even_price': '218.460000',\n",
       "     'high_price': '2.080000',\n",
       "     'instrument': 'https://api.robinhood.com/options/instruments/59472d0c-1099-4b4a-97b0-03251446cb62/',\n",
       "     'instrument_id': '59472d0c-1099-4b4a-97b0-03251446cb62',\n",
       "     'last_trade_price': '1.510000',\n",
       "     'last_trade_size': 1,\n",
       "     'low_price': '0.500000',\n",
       "     'mark_price': '1.540000',\n",
       "     'open_interest': 2556,\n",
       "     'previous_close_date': '2025-01-30',\n",
       "     'previous_close_price': '1.960000',\n",
       "     'volume': 2439,\n",
       "     'symbol': 'AAPL',\n",
       "     'occ_symbol': 'AAPL  250228P00220000',\n",
       "     'chance_of_profit_long': '0.154406',\n",
       "     'chance_of_profit_short': '0.845594',\n",
       "     'delta': '-0.158692',\n",
       "     'gamma': '0.013575',\n",
       "     'implied_volatility': '0.275448',\n",
       "     'rho': '-0.029059',\n",
       "     'theta': '-0.073625',\n",
       "     'vega': '0.157011',\n",
       "     'pricing_model': 'Bjerksund-Stensland 1993',\n",
       "     'high_fill_rate_buy_price': '1.599000',\n",
       "     'high_fill_rate_sell_price': '1.480000',\n",
       "     'low_fill_rate_buy_price': '1.481000',\n",
       "     'low_fill_rate_sell_price': '1.598000'}],\n",
       "   '10%_put': [{'chain_id': '7dd906e5-7d4b-4161-a3fe-2c3b62038482',\n",
       "     'chain_symbol': 'AAPL',\n",
       "     'created_at': '2025-01-08T02:05:34.631127Z',\n",
       "     'expiration_date': '2025-02-28',\n",
       "     'id': 'c7e8e0ea-62cf-4a71-9ddb-7984c4d54e68',\n",
       "     'issue_date': '2025-01-08',\n",
       "     'min_ticks': {'above_tick': '0.05',\n",
       "      'below_tick': '0.01',\n",
       "      'cutoff_price': '3.00'},\n",
       "     'rhs_tradability': 'tradable',\n",
       "     'state': 'active',\n",
       "     'strike_price': '205.0000',\n",
       "     'tradability': 'tradable',\n",
       "     'type': 'put',\n",
       "     'updated_at': '2025-01-31T20:59:59.951781888Z',\n",
       "     'url': 'https://api.robinhood.com/options/instruments/c7e8e0ea-62cf-4a71-9ddb-7984c4d54e68/',\n",
       "     'sellout_datetime': '2025-02-28T20:30:00+00:00',\n",
       "     'long_strategy_code': 'c7e8e0ea-62cf-4a71-9ddb-7984c4d54e68_L1',\n",
       "     'short_strategy_code': 'c7e8e0ea-62cf-4a71-9ddb-7984c4d54e68_S1',\n",
       "     'underlying_type': 'equity',\n",
       "     'adjusted_mark_price': '0.480000',\n",
       "     'adjusted_mark_price_round_down': '0.480000',\n",
       "     'ask_price': '0.490000',\n",
       "     'ask_size': 34,\n",
       "     'bid_price': '0.470000',\n",
       "     'bid_size': 61,\n",
       "     'break_even_price': '204.520000',\n",
       "     'high_price': '0.630000',\n",
       "     'instrument': 'https://api.robinhood.com/options/instruments/c7e8e0ea-62cf-4a71-9ddb-7984c4d54e68/',\n",
       "     'instrument_id': 'c7e8e0ea-62cf-4a71-9ddb-7984c4d54e68',\n",
       "     'last_trade_price': '0.530000',\n",
       "     'last_trade_size': 3,\n",
       "     'low_price': '0.170000',\n",
       "     'mark_price': '0.480000',\n",
       "     'open_interest': 887,\n",
       "     'previous_close_date': '2025-01-30',\n",
       "     'previous_close_price': '0.580000',\n",
       "     'volume': 506,\n",
       "     'symbol': 'AAPL',\n",
       "     'occ_symbol': 'AAPL  250228P00205000',\n",
       "     'chance_of_profit_long': '0.058867',\n",
       "     'chance_of_profit_short': '0.941133',\n",
       "     'delta': '-0.051662',\n",
       "     'gamma': '0.004950',\n",
       "     'implied_volatility': '0.329539',\n",
       "     'rho': '-0.009544',\n",
       "     'theta': '-0.039439',\n",
       "     'vega': '0.068683',\n",
       "     'pricing_model': 'Bjerksund-Stensland 1993',\n",
       "     'high_fill_rate_buy_price': '0.486000',\n",
       "     'high_fill_rate_sell_price': '0.473000',\n",
       "     'low_fill_rate_buy_price': '0.476000',\n",
       "     'low_fill_rate_sell_price': '0.483000'}],\n",
       "   '20%_put': [{'chain_id': '7dd906e5-7d4b-4161-a3fe-2c3b62038482',\n",
       "     'chain_symbol': 'AAPL',\n",
       "     'created_at': '2025-01-08T02:05:34.630391Z',\n",
       "     'expiration_date': '2025-02-28',\n",
       "     'id': '08af132f-ac84-4a9a-8f7b-f394703aeaa8',\n",
       "     'issue_date': '2025-01-08',\n",
       "     'min_ticks': {'above_tick': '0.05',\n",
       "      'below_tick': '0.01',\n",
       "      'cutoff_price': '3.00'},\n",
       "     'rhs_tradability': 'tradable',\n",
       "     'state': 'active',\n",
       "     'strike_price': '185.0000',\n",
       "     'tradability': 'tradable',\n",
       "     'type': 'put',\n",
       "     'updated_at': '2025-01-31T20:59:59.856544256Z',\n",
       "     'url': 'https://api.robinhood.com/options/instruments/08af132f-ac84-4a9a-8f7b-f394703aeaa8/',\n",
       "     'sellout_datetime': '2025-02-28T20:30:00+00:00',\n",
       "     'long_strategy_code': '08af132f-ac84-4a9a-8f7b-f394703aeaa8_L1',\n",
       "     'short_strategy_code': '08af132f-ac84-4a9a-8f7b-f394703aeaa8_S1',\n",
       "     'underlying_type': 'equity',\n",
       "     'adjusted_mark_price': '0.200000',\n",
       "     'adjusted_mark_price_round_down': '0.200000',\n",
       "     'ask_price': '0.210000',\n",
       "     'ask_size': 42,\n",
       "     'bid_price': '0.190000',\n",
       "     'bid_size': 41,\n",
       "     'break_even_price': '184.800000',\n",
       "     'high_price': '0.230000',\n",
       "     'instrument': 'https://api.robinhood.com/options/instruments/08af132f-ac84-4a9a-8f7b-f394703aeaa8/',\n",
       "     'instrument_id': '08af132f-ac84-4a9a-8f7b-f394703aeaa8',\n",
       "     'last_trade_price': '0.210000',\n",
       "     'last_trade_size': 1,\n",
       "     'low_price': '0.100000',\n",
       "     'mark_price': '0.200000',\n",
       "     'open_interest': 253,\n",
       "     'previous_close_date': '2025-01-30',\n",
       "     'previous_close_price': '0.230000',\n",
       "     'volume': 325,\n",
       "     'symbol': 'AAPL',\n",
       "     'occ_symbol': 'AAPL  250228P00185000',\n",
       "     'chance_of_profit_long': '0.024128',\n",
       "     'chance_of_profit_short': '0.975872',\n",
       "     'delta': '-0.018416',\n",
       "     'gamma': '0.001583',\n",
       "     'implied_volatility': '0.441596',\n",
       "     'rho': '-0.003432',\n",
       "     'theta': '-0.022860',\n",
       "     'vega': '0.029287',\n",
       "     'pricing_model': 'Bjerksund-Stensland 1993',\n",
       "     'high_fill_rate_buy_price': '0.206000',\n",
       "     'high_fill_rate_sell_price': '0.193000',\n",
       "     'low_fill_rate_buy_price': '0.197000',\n",
       "     'low_fill_rate_sell_price': '0.202000'}]}},\n",
       " '1_year': {'call': {'5%_call': [{'chain_id': '7dd906e5-7d4b-4161-a3fe-2c3b62038482',\n",
       "     'chain_symbol': 'AAPL',\n",
       "     'created_at': '2023-09-09T01:40:39.921811Z',\n",
       "     'expiration_date': '2026-01-16',\n",
       "     'id': 'cc133440-cb7f-4f1c-ac5f-bc77afebf395',\n",
       "     'issue_date': '2023-09-11',\n",
       "     'min_ticks': {'above_tick': '0.05',\n",
       "      'below_tick': '0.01',\n",
       "      'cutoff_price': '3.00'},\n",
       "     'rhs_tradability': 'tradable',\n",
       "     'state': 'active',\n",
       "     'strike_price': '240.0000',\n",
       "     'tradability': 'tradable',\n",
       "     'type': 'call',\n",
       "     'updated_at': '2025-01-31T20:59:59.82297984Z',\n",
       "     'url': 'https://api.robinhood.com/options/instruments/cc133440-cb7f-4f1c-ac5f-bc77afebf395/',\n",
       "     'sellout_datetime': '2026-01-16T20:30:00+00:00',\n",
       "     'long_strategy_code': 'cc133440-cb7f-4f1c-ac5f-bc77afebf395_L1',\n",
       "     'short_strategy_code': 'cc133440-cb7f-4f1c-ac5f-bc77afebf395_S1',\n",
       "     'underlying_type': 'equity',\n",
       "     'adjusted_mark_price': '25.100000',\n",
       "     'adjusted_mark_price_round_down': '25.100000',\n",
       "     'ask_price': '25.950000',\n",
       "     'ask_size': 101,\n",
       "     'bid_price': '24.250000',\n",
       "     'bid_size': 17,\n",
       "     'break_even_price': '265.100000',\n",
       "     'high_price': '31.520000',\n",
       "     'instrument': 'https://api.robinhood.com/options/instruments/cc133440-cb7f-4f1c-ac5f-bc77afebf395/',\n",
       "     'instrument_id': 'cc133440-cb7f-4f1c-ac5f-bc77afebf395',\n",
       "     'last_trade_price': '25.000000',\n",
       "     'last_trade_size': 1,\n",
       "     'low_price': '23.600000',\n",
       "     'mark_price': '25.100000',\n",
       "     'open_interest': 5894,\n",
       "     'previous_close_date': '2025-01-30',\n",
       "     'previous_close_price': '26.200000',\n",
       "     'volume': 484,\n",
       "     'symbol': 'AAPL',\n",
       "     'occ_symbol': 'AAPL  260116C00240000',\n",
       "     'chance_of_profit_long': '0.330079',\n",
       "     'chance_of_profit_short': '0.669921',\n",
       "     'delta': '0.584741',\n",
       "     'gamma': '0.006856',\n",
       "     'implied_volatility': '0.246242',\n",
       "     'rho': '1.080680',\n",
       "     'theta': '-0.044585',\n",
       "     'vega': '0.900056',\n",
       "     'pricing_model': 'Bjerksund-Stensland 1993',\n",
       "     'high_fill_rate_buy_price': '25.614000',\n",
       "     'high_fill_rate_sell_price': '24.585000',\n",
       "     'low_fill_rate_buy_price': '24.801000',\n",
       "     'low_fill_rate_sell_price': '25.398000'}],\n",
       "   '10%_call': [{'chain_id': '7dd906e5-7d4b-4161-a3fe-2c3b62038482',\n",
       "     'chain_symbol': 'AAPL',\n",
       "     'created_at': '2023-09-09T01:40:39.922375Z',\n",
       "     'expiration_date': '2026-01-16',\n",
       "     'id': 'c222de6d-3840-48cd-bde7-d5715e12d0e4',\n",
       "     'issue_date': '2023-09-11',\n",
       "     'min_ticks': {'above_tick': '0.05',\n",
       "      'below_tick': '0.01',\n",
       "      'cutoff_price': '3.00'},\n",
       "     'rhs_tradability': 'tradable',\n",
       "     'state': 'active',\n",
       "     'strike_price': '255.0000',\n",
       "     'tradability': 'tradable',\n",
       "     'type': 'call',\n",
       "     'updated_at': '2025-01-31T20:59:59.877840384Z',\n",
       "     'url': 'https://api.robinhood.com/options/instruments/c222de6d-3840-48cd-bde7-d5715e12d0e4/',\n",
       "     'sellout_datetime': '2026-01-16T20:30:00+00:00',\n",
       "     'long_strategy_code': 'c222de6d-3840-48cd-bde7-d5715e12d0e4_L1',\n",
       "     'short_strategy_code': 'c222de6d-3840-48cd-bde7-d5715e12d0e4_S1',\n",
       "     'underlying_type': 'equity',\n",
       "     'adjusted_mark_price': '17.850000',\n",
       "     'adjusted_mark_price_round_down': '17.850000',\n",
       "     'ask_price': '18.150000',\n",
       "     'ask_size': 18,\n",
       "     'bid_price': '17.550000',\n",
       "     'bid_size': 7,\n",
       "     'break_even_price': '272.850000',\n",
       "     'high_price': '22.950000',\n",
       "     'instrument': 'https://api.robinhood.com/options/instruments/c222de6d-3840-48cd-bde7-d5715e12d0e4/',\n",
       "     'instrument_id': 'c222de6d-3840-48cd-bde7-d5715e12d0e4',\n",
       "     'last_trade_price': '17.850000',\n",
       "     'last_trade_size': 1,\n",
       "     'low_price': '17.000000',\n",
       "     'mark_price': '17.850000',\n",
       "     'open_interest': 5501,\n",
       "     'previous_close_date': '2025-01-30',\n",
       "     'previous_close_price': '18.930000',\n",
       "     'volume': 112,\n",
       "     'symbol': 'AAPL',\n",
       "     'occ_symbol': 'AAPL  260116C00255000',\n",
       "     'chance_of_profit_long': '0.283351',\n",
       "     'chance_of_profit_short': '0.716649',\n",
       "     'delta': '0.480427',\n",
       "     'gamma': '0.007310',\n",
       "     'implied_volatility': '0.236258',\n",
       "     'rho': '0.914410',\n",
       "     'theta': '-0.041984',\n",
       "     'vega': '0.919802',\n",
       "     'pricing_model': 'Bjerksund-Stensland 1993',\n",
       "     'high_fill_rate_buy_price': '18.047000',\n",
       "     'high_fill_rate_sell_price': '17.652000',\n",
       "     'low_fill_rate_buy_price': '17.772000',\n",
       "     'low_fill_rate_sell_price': '17.927000'}],\n",
       "   '20%_call': [{'chain_id': '7dd906e5-7d4b-4161-a3fe-2c3b62038482',\n",
       "     'chain_symbol': 'AAPL',\n",
       "     'created_at': '2023-09-09T01:40:39.921123Z',\n",
       "     'expiration_date': '2026-01-16',\n",
       "     'id': 'd74cdac7-23f8-4f1d-986f-49111dce1dd4',\n",
       "     'issue_date': '2023-09-11',\n",
       "     'min_ticks': {'above_tick': '0.05',\n",
       "      'below_tick': '0.01',\n",
       "      'cutoff_price': '3.00'},\n",
       "     'rhs_tradability': 'tradable',\n",
       "     'state': 'active',\n",
       "     'strike_price': '275.0000',\n",
       "     'tradability': 'tradable',\n",
       "     'type': 'call',\n",
       "     'updated_at': '2025-01-31T20:59:59.912041728Z',\n",
       "     'url': 'https://api.robinhood.com/options/instruments/d74cdac7-23f8-4f1d-986f-49111dce1dd4/',\n",
       "     'sellout_datetime': '2026-01-16T20:30:00+00:00',\n",
       "     'long_strategy_code': 'd74cdac7-23f8-4f1d-986f-49111dce1dd4_L1',\n",
       "     'short_strategy_code': 'd74cdac7-23f8-4f1d-986f-49111dce1dd4_S1',\n",
       "     'underlying_type': 'equity',\n",
       "     'adjusted_mark_price': '10.600000',\n",
       "     'adjusted_mark_price_round_down': '10.600000',\n",
       "     'ask_price': '10.850000',\n",
       "     'ask_size': 6,\n",
       "     'bid_price': '10.350000',\n",
       "     'bid_size': 40,\n",
       "     'break_even_price': '285.600000',\n",
       "     'high_price': '13.850000',\n",
       "     'instrument': 'https://api.robinhood.com/options/instruments/d74cdac7-23f8-4f1d-986f-49111dce1dd4/',\n",
       "     'instrument_id': 'd74cdac7-23f8-4f1d-986f-49111dce1dd4',\n",
       "     'last_trade_price': '10.300000',\n",
       "     'last_trade_size': 2,\n",
       "     'low_price': '10.000000',\n",
       "     'mark_price': '10.600000',\n",
       "     'open_interest': 6535,\n",
       "     'previous_close_date': '2025-01-30',\n",
       "     'previous_close_price': '11.630000',\n",
       "     'volume': 129,\n",
       "     'symbol': 'AAPL',\n",
       "     'occ_symbol': 'AAPL  260116C00275000',\n",
       "     'chance_of_profit_long': '0.212700',\n",
       "     'chance_of_profit_short': '0.787300',\n",
       "     'delta': '0.342710',\n",
       "     'gamma': '0.007069',\n",
       "     'implied_volatility': '0.225231',\n",
       "     'rho': '0.672782',\n",
       "     'theta': '-0.035351',\n",
       "     'vega': '0.848371',\n",
       "     'pricing_model': 'Bjerksund-Stensland 1993',\n",
       "     'high_fill_rate_buy_price': '10.775000',\n",
       "     'high_fill_rate_sell_price': '10.424000',\n",
       "     'low_fill_rate_buy_price': '10.558000',\n",
       "     'low_fill_rate_sell_price': '10.641000'}]},\n",
       "  'put': {'5%_put': [{'chain_id': '7dd906e5-7d4b-4161-a3fe-2c3b62038482',\n",
       "     'chain_symbol': 'AAPL',\n",
       "     'created_at': '2023-09-09T01:40:39.922203Z',\n",
       "     'expiration_date': '2026-01-16',\n",
       "     'id': 'bd56add7-f155-4baf-9ce1-5f7417f612f0',\n",
       "     'issue_date': '2023-09-11',\n",
       "     'min_ticks': {'above_tick': '0.05',\n",
       "      'below_tick': '0.01',\n",
       "      'cutoff_price': '3.00'},\n",
       "     'rhs_tradability': 'tradable',\n",
       "     'state': 'active',\n",
       "     'strike_price': '220.0000',\n",
       "     'tradability': 'tradable',\n",
       "     'type': 'put',\n",
       "     'updated_at': '2025-01-31T20:59:59.842130176Z',\n",
       "     'url': 'https://api.robinhood.com/options/instruments/bd56add7-f155-4baf-9ce1-5f7417f612f0/',\n",
       "     'sellout_datetime': '2026-01-16T20:30:00+00:00',\n",
       "     'long_strategy_code': 'bd56add7-f155-4baf-9ce1-5f7417f612f0_L1',\n",
       "     'short_strategy_code': 'bd56add7-f155-4baf-9ce1-5f7417f612f0_S1',\n",
       "     'underlying_type': 'equity',\n",
       "     'adjusted_mark_price': '12.650000',\n",
       "     'adjusted_mark_price_round_down': '12.650000',\n",
       "     'ask_price': '13.050000',\n",
       "     'ask_size': 79,\n",
       "     'bid_price': '12.250000',\n",
       "     'bid_size': 37,\n",
       "     'break_even_price': '207.350000',\n",
       "     'high_price': '13.450000',\n",
       "     'instrument': 'https://api.robinhood.com/options/instruments/bd56add7-f155-4baf-9ce1-5f7417f612f0/',\n",
       "     'instrument_id': 'bd56add7-f155-4baf-9ce1-5f7417f612f0',\n",
       "     'last_trade_price': '13.260000',\n",
       "     'last_trade_size': 8,\n",
       "     'low_price': '9.680000',\n",
       "     'mark_price': '12.650000',\n",
       "     'open_interest': 10593,\n",
       "     'previous_close_date': '2025-01-30',\n",
       "     'previous_close_price': '12.180000',\n",
       "     'volume': 276,\n",
       "     'symbol': 'AAPL',\n",
       "     'occ_symbol': 'AAPL  260116P00220000',\n",
       "     'chance_of_profit_long': '0.294192',\n",
       "     'chance_of_profit_short': '0.705808',\n",
       "     'delta': '-0.301345',\n",
       "     'gamma': '0.006245',\n",
       "     'implied_volatility': '0.258312',\n",
       "     'rho': '-0.650776',\n",
       "     'theta': '-0.021642',\n",
       "     'vega': '0.795968',\n",
       "     'pricing_model': 'Bjerksund-Stensland 1993',\n",
       "     'high_fill_rate_buy_price': '12.916000',\n",
       "     'high_fill_rate_sell_price': '12.383000',\n",
       "     'low_fill_rate_buy_price': '12.552000',\n",
       "     'low_fill_rate_sell_price': '12.747000'}],\n",
       "   '10%_put': [{'chain_id': '7dd906e5-7d4b-4161-a3fe-2c3b62038482',\n",
       "     'chain_symbol': 'AAPL',\n",
       "     'created_at': '2023-09-09T01:40:39.922473Z',\n",
       "     'expiration_date': '2026-01-16',\n",
       "     'id': 'd171f6d0-bc0d-47f7-bd1b-23f414616be3',\n",
       "     'issue_date': '2023-09-11',\n",
       "     'min_ticks': {'above_tick': '0.05',\n",
       "      'below_tick': '0.01',\n",
       "      'cutoff_price': '3.00'},\n",
       "     'rhs_tradability': 'tradable',\n",
       "     'state': 'active',\n",
       "     'strike_price': '205.0000',\n",
       "     'tradability': 'tradable',\n",
       "     'type': 'put',\n",
       "     'updated_at': '2025-01-31T20:59:59.813177088Z',\n",
       "     'url': 'https://api.robinhood.com/options/instruments/d171f6d0-bc0d-47f7-bd1b-23f414616be3/',\n",
       "     'sellout_datetime': '2026-01-16T20:30:00+00:00',\n",
       "     'long_strategy_code': 'd171f6d0-bc0d-47f7-bd1b-23f414616be3_L1',\n",
       "     'short_strategy_code': 'd171f6d0-bc0d-47f7-bd1b-23f414616be3_S1',\n",
       "     'underlying_type': 'equity',\n",
       "     'adjusted_mark_price': '8.550000',\n",
       "     'adjusted_mark_price_round_down': '8.550000',\n",
       "     'ask_price': '8.650000',\n",
       "     'ask_size': 46,\n",
       "     'bid_price': '8.450000',\n",
       "     'bid_size': 39,\n",
       "     'break_even_price': '196.450000',\n",
       "     'high_price': '8.920000',\n",
       "     'instrument': 'https://api.robinhood.com/options/instruments/d171f6d0-bc0d-47f7-bd1b-23f414616be3/',\n",
       "     'instrument_id': 'd171f6d0-bc0d-47f7-bd1b-23f414616be3',\n",
       "     'last_trade_price': '8.920000',\n",
       "     'last_trade_size': 1,\n",
       "     'low_price': '6.450000',\n",
       "     'mark_price': '8.550000',\n",
       "     'open_interest': 3914,\n",
       "     'previous_close_date': '2025-01-30',\n",
       "     'previous_close_price': '8.300000',\n",
       "     'volume': 1019,\n",
       "     'symbol': 'AAPL',\n",
       "     'occ_symbol': 'AAPL  260116P00205000',\n",
       "     'chance_of_profit_long': '0.239163',\n",
       "     'chance_of_profit_short': '0.760837',\n",
       "     'delta': '-0.215006',\n",
       "     'gamma': '0.004878',\n",
       "     'implied_volatility': '0.270531',\n",
       "     'rho': '-0.492311',\n",
       "     'theta': '-0.020078',\n",
       "     'vega': '0.670723',\n",
       "     'pricing_model': 'Bjerksund-Stensland 1993',\n",
       "     'high_fill_rate_buy_price': '8.611000',\n",
       "     'high_fill_rate_sell_price': '8.488000',\n",
       "     'low_fill_rate_buy_price': '8.515000',\n",
       "     'low_fill_rate_sell_price': '8.584000'}],\n",
       "   '20%_put': [{'chain_id': '7dd906e5-7d4b-4161-a3fe-2c3b62038482',\n",
       "     'chain_symbol': 'AAPL',\n",
       "     'created_at': '2023-09-09T01:40:39.922300Z',\n",
       "     'expiration_date': '2026-01-16',\n",
       "     'id': 'a43a0284-9ac6-435f-a47b-681e0924b45b',\n",
       "     'issue_date': '2023-09-11',\n",
       "     'min_ticks': {'above_tick': '0.05',\n",
       "      'below_tick': '0.01',\n",
       "      'cutoff_price': '3.00'},\n",
       "     'rhs_tradability': 'tradable',\n",
       "     'state': 'active',\n",
       "     'strike_price': '185.0000',\n",
       "     'tradability': 'tradable',\n",
       "     'type': 'put',\n",
       "     'updated_at': '2025-01-31T20:59:59.945536512Z',\n",
       "     'url': 'https://api.robinhood.com/options/instruments/a43a0284-9ac6-435f-a47b-681e0924b45b/',\n",
       "     'sellout_datetime': '2026-01-16T20:30:00+00:00',\n",
       "     'long_strategy_code': 'a43a0284-9ac6-435f-a47b-681e0924b45b_L1',\n",
       "     'short_strategy_code': 'a43a0284-9ac6-435f-a47b-681e0924b45b_S1',\n",
       "     'underlying_type': 'equity',\n",
       "     'adjusted_mark_price': '4.980000',\n",
       "     'adjusted_mark_price_round_down': '4.970000',\n",
       "     'ask_price': '5.350000',\n",
       "     'ask_size': 38,\n",
       "     'bid_price': '4.600000',\n",
       "     'bid_size': 42,\n",
       "     'break_even_price': '180.020000',\n",
       "     'high_price': '5.150000',\n",
       "     'instrument': 'https://api.robinhood.com/options/instruments/a43a0284-9ac6-435f-a47b-681e0924b45b/',\n",
       "     'instrument_id': 'a43a0284-9ac6-435f-a47b-681e0924b45b',\n",
       "     'last_trade_price': '4.900000',\n",
       "     'last_trade_size': 1,\n",
       "     'low_price': '3.700000',\n",
       "     'mark_price': '4.975000',\n",
       "     'open_interest': 6962,\n",
       "     'previous_close_date': '2025-01-30',\n",
       "     'previous_close_price': '4.730000',\n",
       "     'volume': 33,\n",
       "     'symbol': 'AAPL',\n",
       "     'occ_symbol': 'AAPL  260116P00185000',\n",
       "     'chance_of_profit_long': '0.172539',\n",
       "     'chance_of_profit_short': '0.827461',\n",
       "     'delta': '-0.131045',\n",
       "     'gamma': '0.003230',\n",
       "     'implied_volatility': '0.291541',\n",
       "     'rho': '-0.315216',\n",
       "     'theta': '-0.016664',\n",
       "     'vega': '0.489847',\n",
       "     'pricing_model': 'Bjerksund-Stensland 1993',\n",
       "     'high_fill_rate_buy_price': '5.226000',\n",
       "     'high_fill_rate_sell_price': '4.723000',\n",
       "     'low_fill_rate_buy_price': '4.886000',\n",
       "     'low_fill_rate_sell_price': '5.063000'}]}}}"
      ]
     },
     "execution_count": 40,
     "metadata": {},
     "output_type": "execute_result"
    }
   ],
   "source": [
    "all_option_data"
   ]
  },
  {
   "cell_type": "code",
   "execution_count": 30,
   "metadata": {},
   "outputs": [],
   "source": [
    "def create_option_plotly(all_option_data):\n",
    "    \"\"\"\n",
    "    Convert the nested Robinhood option data into a DataFrame, rank it,\n",
    "    and return a Plotly figure along with the ranked DataFrame.\n",
    "    Focus on 'mark_price', 'chance_of_profit_long', 'gamma', etc.\n",
    "    \"\"\"\n",
    "    records = []\n",
    "    for period, cp_data in all_option_data.items():\n",
    "        for call_put, pct_data in cp_data.items():\n",
    "            for pct_key, options_list in pct_data.items():\n",
    "                for opt in options_list:\n",
    "                    if not isinstance(opt, dict):\n",
    "                        continue\n",
    "                    record = {\n",
    "                        'period': period,\n",
    "                        'pct_key': pct_key,\n",
    "                        'type': call_put,  # 'call' or 'put'\n",
    "                        'mark_price': opt.get('mark_price'),\n",
    "                        'chance_of_profit_long': opt.get('chance_of_profit_long'),\n",
    "                        'chance_of_profit_short': opt.get('chance_of_profit_short'),\n",
    "                        'delta': opt.get('delta'),\n",
    "                        'gamma': opt.get('gamma'),\n",
    "                        'implied_volatility': opt.get('implied_volatility'),\n",
    "                        'rho': opt.get('rho'),\n",
    "                        'theta': opt.get('theta'),\n",
    "                        'vega': opt.get('vega'),\n",
    "                        'symbol': opt.get('chain_symbol'),\n",
    "                        'strike_price': opt.get('strike_price'),\n",
    "                        'expiration_date': opt.get('expiration_date')\n",
    "                    }\n",
    "                    records.append(record)\n",
    "\n",
    "    df = pd.DataFrame(records)\n",
    "\n",
    "    # Drop rows with missing data you care about (optional)\n",
    "    df.dropna(subset=['mark_price', 'chance_of_profit_long', 'gamma'], inplace=True)\n",
    "\n",
    "    # Convert mark_price and other metrics to numeric\n",
    "    df['mark_price'] = pd.to_numeric(df['mark_price'], errors='coerce')\n",
    "    df['chance_of_profit_long'] = pd.to_numeric(df['chance_of_profit_long'], errors='coerce')\n",
    "    df['chance_of_profit_short'] = pd.to_numeric(df['chance_of_profit_short'], errors='coerce')\n",
    "    df['delta'] = pd.to_numeric(df['delta'], errors='coerce')\n",
    "    df['gamma'] = pd.to_numeric(df['gamma'], errors='coerce')\n",
    "    df['implied_volatility'] = pd.to_numeric(df['implied_volatility'], errors='coerce')\n",
    "    df['rho'] = pd.to_numeric(df['rho'], errors='coerce')\n",
    "    df['theta'] = pd.to_numeric(df['theta'], errors='coerce')\n",
    "    df['vega'] = pd.to_numeric(df['vega'], errors='coerce')\n",
    "\n",
    "    # Rank by chance_of_profit_long (descending)\n",
    "    df['rank'] = df['chance_of_profit_long'].rank(ascending=False)\n",
    "    df.sort_values('rank', inplace=True)\n",
    "\n",
    "    # Create an interactive Plotly scatter plot\n",
    "    fig = px.scatter(\n",
    "        df,\n",
    "        x='gamma',\n",
    "        y='chance_of_profit_long',\n",
    "        size='mark_price',\n",
    "        color='type',\n",
    "        hover_data=['period', 'pct_key', 'strike_price', 'expiration_date', 'chance_of_profit_short', 'delta', 'implied_volatility', 'rho', 'theta', 'vega'],\n",
    "        title='Option Comparison'\n",
    "    )\n",
    "\n",
    "    return fig, df\n",
    "\n",
    "fig, df = create_option_plotly(all_option_data)"
   ]
  },
  {
   "cell_type": "code",
   "execution_count": 28,
   "metadata": {},
   "outputs": [
    {
     "data": {
      "text/html": [
       "<div>\n",
       "<style scoped>\n",
       "    .dataframe tbody tr th:only-of-type {\n",
       "        vertical-align: middle;\n",
       "    }\n",
       "\n",
       "    .dataframe tbody tr th {\n",
       "        vertical-align: top;\n",
       "    }\n",
       "\n",
       "    .dataframe thead th {\n",
       "        text-align: right;\n",
       "    }\n",
       "</style>\n",
       "<table border=\"1\" class=\"dataframe\">\n",
       "  <thead>\n",
       "    <tr style=\"text-align: right;\">\n",
       "      <th></th>\n",
       "      <th>period</th>\n",
       "      <th>pct_key</th>\n",
       "      <th>type</th>\n",
       "      <th>mark_price</th>\n",
       "      <th>chance_of_profit_long</th>\n",
       "      <th>chance_of_profit_short</th>\n",
       "      <th>delta</th>\n",
       "      <th>gamma</th>\n",
       "      <th>implied_volatility</th>\n",
       "      <th>rho</th>\n",
       "      <th>theta</th>\n",
       "      <th>vega</th>\n",
       "      <th>symbol</th>\n",
       "      <th>strike_price</th>\n",
       "      <th>rank</th>\n",
       "    </tr>\n",
       "  </thead>\n",
       "  <tbody>\n",
       "    <tr>\n",
       "      <th>3</th>\n",
       "      <td>1_month</td>\n",
       "      <td>10%_call</td>\n",
       "      <td>call</td>\n",
       "      <td>71.025</td>\n",
       "      <td>1.000000</td>\n",
       "      <td>0.000000</td>\n",
       "      <td>1.000143</td>\n",
       "      <td>-0.000009</td>\n",
       "      <td>0.000000</td>\n",
       "      <td>0.132612</td>\n",
       "      <td>-0.021212</td>\n",
       "      <td>-8222.318818</td>\n",
       "      <td>AAPL</td>\n",
       "      <td>165.0000</td>\n",
       "      <td>1.0</td>\n",
       "    </tr>\n",
       "    <tr>\n",
       "      <th>1</th>\n",
       "      <td>1_week</td>\n",
       "      <td>20%_call</td>\n",
       "      <td>call</td>\n",
       "      <td>56.100</td>\n",
       "      <td>0.475599</td>\n",
       "      <td>0.524401</td>\n",
       "      <td>0.990356</td>\n",
       "      <td>0.000919</td>\n",
       "      <td>0.880733</td>\n",
       "      <td>0.032332</td>\n",
       "      <td>-0.075977</td>\n",
       "      <td>0.008220</td>\n",
       "      <td>AAPL</td>\n",
       "      <td>180.0000</td>\n",
       "      <td>2.0</td>\n",
       "    </tr>\n",
       "    <tr>\n",
       "      <th>4</th>\n",
       "      <td>1_month</td>\n",
       "      <td>20%_call</td>\n",
       "      <td>call</td>\n",
       "      <td>56.650</td>\n",
       "      <td>0.473766</td>\n",
       "      <td>0.526234</td>\n",
       "      <td>0.983910</td>\n",
       "      <td>0.001299</td>\n",
       "      <td>0.478849</td>\n",
       "      <td>0.132879</td>\n",
       "      <td>-0.043899</td>\n",
       "      <td>0.026110</td>\n",
       "      <td>AAPL</td>\n",
       "      <td>180.0000</td>\n",
       "      <td>3.0</td>\n",
       "    </tr>\n",
       "    <tr>\n",
       "      <th>0</th>\n",
       "      <td>1_week</td>\n",
       "      <td>10%_call</td>\n",
       "      <td>call</td>\n",
       "      <td>71.100</td>\n",
       "      <td>0.468626</td>\n",
       "      <td>0.531374</td>\n",
       "      <td>0.991614</td>\n",
       "      <td>0.000624</td>\n",
       "      <td>1.146421</td>\n",
       "      <td>0.029654</td>\n",
       "      <td>-0.082449</td>\n",
       "      <td>0.007273</td>\n",
       "      <td>AAPL</td>\n",
       "      <td>165.0000</td>\n",
       "      <td>4.0</td>\n",
       "    </tr>\n",
       "    <tr>\n",
       "      <th>6</th>\n",
       "      <td>1_year</td>\n",
       "      <td>10%_call</td>\n",
       "      <td>call</td>\n",
       "      <td>79.750</td>\n",
       "      <td>0.444675</td>\n",
       "      <td>0.555325</td>\n",
       "      <td>0.930815</td>\n",
       "      <td>0.001893</td>\n",
       "      <td>0.304505</td>\n",
       "      <td>1.339145</td>\n",
       "      <td>-0.029347</td>\n",
       "      <td>0.307172</td>\n",
       "      <td>AAPL</td>\n",
       "      <td>165.0000</td>\n",
       "      <td>5.0</td>\n",
       "    </tr>\n",
       "    <tr>\n",
       "      <th>7</th>\n",
       "      <td>1_year</td>\n",
       "      <td>20%_call</td>\n",
       "      <td>call</td>\n",
       "      <td>66.975</td>\n",
       "      <td>0.434644</td>\n",
       "      <td>0.565356</td>\n",
       "      <td>0.889997</td>\n",
       "      <td>0.002784</td>\n",
       "      <td>0.292584</td>\n",
       "      <td>1.369206</td>\n",
       "      <td>-0.034491</td>\n",
       "      <td>0.434084</td>\n",
       "      <td>AAPL</td>\n",
       "      <td>180.0000</td>\n",
       "      <td>6.0</td>\n",
       "    </tr>\n",
       "    <tr>\n",
       "      <th>8</th>\n",
       "      <td>1_year</td>\n",
       "      <td>10%_put</td>\n",
       "      <td>put</td>\n",
       "      <td>1.175</td>\n",
       "      <td>0.063151</td>\n",
       "      <td>0.936849</td>\n",
       "      <td>-0.031675</td>\n",
       "      <td>0.000853</td>\n",
       "      <td>0.363216</td>\n",
       "      <td>-0.080566</td>\n",
       "      <td>-0.007571</td>\n",
       "      <td>0.164258</td>\n",
       "      <td>AAPL</td>\n",
       "      <td>135.0000</td>\n",
       "      <td>7.0</td>\n",
       "    </tr>\n",
       "    <tr>\n",
       "      <th>9</th>\n",
       "      <td>1_year</td>\n",
       "      <td>20%_put</td>\n",
       "      <td>put</td>\n",
       "      <td>0.800</td>\n",
       "      <td>0.047380</td>\n",
       "      <td>0.952620</td>\n",
       "      <td>-0.020728</td>\n",
       "      <td>0.000542</td>\n",
       "      <td>0.395849</td>\n",
       "      <td>-0.053346</td>\n",
       "      <td>-0.005885</td>\n",
       "      <td>0.115202</td>\n",
       "      <td>AAPL</td>\n",
       "      <td>120.0000</td>\n",
       "      <td>8.0</td>\n",
       "    </tr>\n",
       "    <tr>\n",
       "      <th>2</th>\n",
       "      <td>1_week</td>\n",
       "      <td>20%_put</td>\n",
       "      <td>put</td>\n",
       "      <td>0.005</td>\n",
       "      <td>0.001419</td>\n",
       "      <td>0.998581</td>\n",
       "      <td>-0.000680</td>\n",
       "      <td>0.000042</td>\n",
       "      <td>1.620278</td>\n",
       "      <td>-0.000031</td>\n",
       "      <td>-0.009136</td>\n",
       "      <td>0.000752</td>\n",
       "      <td>AAPL</td>\n",
       "      <td>120.0000</td>\n",
       "      <td>9.5</td>\n",
       "    </tr>\n",
       "    <tr>\n",
       "      <th>5</th>\n",
       "      <td>1_month</td>\n",
       "      <td>20%_put</td>\n",
       "      <td>put</td>\n",
       "      <td>0.010</td>\n",
       "      <td>0.001419</td>\n",
       "      <td>0.998581</td>\n",
       "      <td>-0.000678</td>\n",
       "      <td>0.000046</td>\n",
       "      <td>0.797436</td>\n",
       "      <td>-0.000129</td>\n",
       "      <td>-0.002183</td>\n",
       "      <td>0.001528</td>\n",
       "      <td>AAPL</td>\n",
       "      <td>120.0000</td>\n",
       "      <td>9.5</td>\n",
       "    </tr>\n",
       "  </tbody>\n",
       "</table>\n",
       "</div>"
      ],
      "text/plain": [
       "    period   pct_key  type  mark_price  chance_of_profit_long  \\\n",
       "3  1_month  10%_call  call      71.025               1.000000   \n",
       "1   1_week  20%_call  call      56.100               0.475599   \n",
       "4  1_month  20%_call  call      56.650               0.473766   \n",
       "0   1_week  10%_call  call      71.100               0.468626   \n",
       "6   1_year  10%_call  call      79.750               0.444675   \n",
       "7   1_year  20%_call  call      66.975               0.434644   \n",
       "8   1_year   10%_put   put       1.175               0.063151   \n",
       "9   1_year   20%_put   put       0.800               0.047380   \n",
       "2   1_week   20%_put   put       0.005               0.001419   \n",
       "5  1_month   20%_put   put       0.010               0.001419   \n",
       "\n",
       "   chance_of_profit_short     delta     gamma  implied_volatility       rho  \\\n",
       "3                0.000000  1.000143 -0.000009            0.000000  0.132612   \n",
       "1                0.524401  0.990356  0.000919            0.880733  0.032332   \n",
       "4                0.526234  0.983910  0.001299            0.478849  0.132879   \n",
       "0                0.531374  0.991614  0.000624            1.146421  0.029654   \n",
       "6                0.555325  0.930815  0.001893            0.304505  1.339145   \n",
       "7                0.565356  0.889997  0.002784            0.292584  1.369206   \n",
       "8                0.936849 -0.031675  0.000853            0.363216 -0.080566   \n",
       "9                0.952620 -0.020728  0.000542            0.395849 -0.053346   \n",
       "2                0.998581 -0.000680  0.000042            1.620278 -0.000031   \n",
       "5                0.998581 -0.000678  0.000046            0.797436 -0.000129   \n",
       "\n",
       "      theta         vega symbol strike_price  rank  \n",
       "3 -0.021212 -8222.318818   AAPL     165.0000   1.0  \n",
       "1 -0.075977     0.008220   AAPL     180.0000   2.0  \n",
       "4 -0.043899     0.026110   AAPL     180.0000   3.0  \n",
       "0 -0.082449     0.007273   AAPL     165.0000   4.0  \n",
       "6 -0.029347     0.307172   AAPL     165.0000   5.0  \n",
       "7 -0.034491     0.434084   AAPL     180.0000   6.0  \n",
       "8 -0.007571     0.164258   AAPL     135.0000   7.0  \n",
       "9 -0.005885     0.115202   AAPL     120.0000   8.0  \n",
       "2 -0.009136     0.000752   AAPL     120.0000   9.5  \n",
       "5 -0.002183     0.001528   AAPL     120.0000   9.5  "
      ]
     },
     "execution_count": 28,
     "metadata": {},
     "output_type": "execute_result"
    }
   ],
   "source": [
    "df"
   ]
  },
  {
   "cell_type": "code",
   "execution_count": 29,
   "metadata": {},
   "outputs": [
    {
     "data": {
      "application/vnd.plotly.v1+json": {
       "config": {
        "plotlyServerURL": "https://plot.ly"
       },
       "data": [
        {
         "customdata": [
          [
           "1_month",
           "10%_call",
           "165.0000",
           0,
           1.000143,
           0,
           0.132612,
           -0.021212,
           -8222.318818
          ],
          [
           "1_week",
           "20%_call",
           "180.0000",
           0.524401,
           0.990356,
           0.880733,
           0.032332,
           -0.075977,
           0.00822
          ],
          [
           "1_month",
           "20%_call",
           "180.0000",
           0.526234,
           0.98391,
           0.478849,
           0.132879,
           -0.043899,
           0.02611
          ],
          [
           "1_week",
           "10%_call",
           "165.0000",
           0.531374,
           0.991614,
           1.146421,
           0.029654,
           -0.082449,
           0.007273
          ],
          [
           "1_year",
           "10%_call",
           "165.0000",
           0.555325,
           0.930815,
           0.304505,
           1.339145,
           -0.029347,
           0.307172
          ],
          [
           "1_year",
           "20%_call",
           "180.0000",
           0.565356,
           0.889997,
           0.292584,
           1.369206,
           -0.034491,
           0.434084
          ]
         ],
         "hovertemplate": "type=call<br>gamma=%{x}<br>chance_of_profit_long=%{y}<br>mark_price=%{marker.size}<br>period=%{customdata[0]}<br>pct_key=%{customdata[1]}<br>strike_price=%{customdata[2]}<br>chance_of_profit_short=%{customdata[3]}<br>delta=%{customdata[4]}<br>implied_volatility=%{customdata[5]}<br>rho=%{customdata[6]}<br>theta=%{customdata[7]}<br>vega=%{customdata[8]}<extra></extra>",
         "legendgroup": "call",
         "marker": {
          "color": "#636efa",
          "size": [
           71.025,
           56.1,
           56.65,
           71.1,
           79.75,
           66.975
          ],
          "sizemode": "area",
          "sizeref": 0.199375,
          "symbol": "circle"
         },
         "mode": "markers",
         "name": "call",
         "orientation": "v",
         "showlegend": true,
         "type": "scatter",
         "x": [
          -0.000009,
          0.000919,
          0.001299,
          0.000624,
          0.001893,
          0.002784
         ],
         "xaxis": "x",
         "y": [
          1,
          0.475599,
          0.473766,
          0.468626,
          0.444675,
          0.434644
         ],
         "yaxis": "y"
        },
        {
         "customdata": [
          [
           "1_year",
           "10%_put",
           "135.0000",
           0.936849,
           -0.031675,
           0.363216,
           -0.080566,
           -0.007571,
           0.164258
          ],
          [
           "1_year",
           "20%_put",
           "120.0000",
           0.95262,
           -0.020728,
           0.395849,
           -0.053346,
           -0.005885,
           0.115202
          ],
          [
           "1_week",
           "20%_put",
           "120.0000",
           0.998581,
           -0.00068,
           1.620278,
           -0.000031,
           -0.009136,
           0.000752
          ],
          [
           "1_month",
           "20%_put",
           "120.0000",
           0.998581,
           -0.000678,
           0.797436,
           -0.000129,
           -0.002183,
           0.001528
          ]
         ],
         "hovertemplate": "type=put<br>gamma=%{x}<br>chance_of_profit_long=%{y}<br>mark_price=%{marker.size}<br>period=%{customdata[0]}<br>pct_key=%{customdata[1]}<br>strike_price=%{customdata[2]}<br>chance_of_profit_short=%{customdata[3]}<br>delta=%{customdata[4]}<br>implied_volatility=%{customdata[5]}<br>rho=%{customdata[6]}<br>theta=%{customdata[7]}<br>vega=%{customdata[8]}<extra></extra>",
         "legendgroup": "put",
         "marker": {
          "color": "#EF553B",
          "size": [
           1.175,
           0.8,
           0.005,
           0.01
          ],
          "sizemode": "area",
          "sizeref": 0.199375,
          "symbol": "circle"
         },
         "mode": "markers",
         "name": "put",
         "orientation": "v",
         "showlegend": true,
         "type": "scatter",
         "x": [
          0.000853,
          0.000542,
          0.000042,
          0.000046
         ],
         "xaxis": "x",
         "y": [
          0.063151,
          0.04738,
          0.001419,
          0.001419
         ],
         "yaxis": "y"
        }
       ],
       "layout": {
        "legend": {
         "itemsizing": "constant",
         "title": {
          "text": "type"
         },
         "tracegroupgap": 0
        },
        "template": {
         "data": {
          "bar": [
           {
            "error_x": {
             "color": "#2a3f5f"
            },
            "error_y": {
             "color": "#2a3f5f"
            },
            "marker": {
             "line": {
              "color": "#E5ECF6",
              "width": 0.5
             },
             "pattern": {
              "fillmode": "overlay",
              "size": 10,
              "solidity": 0.2
             }
            },
            "type": "bar"
           }
          ],
          "barpolar": [
           {
            "marker": {
             "line": {
              "color": "#E5ECF6",
              "width": 0.5
             },
             "pattern": {
              "fillmode": "overlay",
              "size": 10,
              "solidity": 0.2
             }
            },
            "type": "barpolar"
           }
          ],
          "carpet": [
           {
            "aaxis": {
             "endlinecolor": "#2a3f5f",
             "gridcolor": "white",
             "linecolor": "white",
             "minorgridcolor": "white",
             "startlinecolor": "#2a3f5f"
            },
            "baxis": {
             "endlinecolor": "#2a3f5f",
             "gridcolor": "white",
             "linecolor": "white",
             "minorgridcolor": "white",
             "startlinecolor": "#2a3f5f"
            },
            "type": "carpet"
           }
          ],
          "choropleth": [
           {
            "colorbar": {
             "outlinewidth": 0,
             "ticks": ""
            },
            "type": "choropleth"
           }
          ],
          "contour": [
           {
            "colorbar": {
             "outlinewidth": 0,
             "ticks": ""
            },
            "colorscale": [
             [
              0,
              "#0d0887"
             ],
             [
              0.1111111111111111,
              "#46039f"
             ],
             [
              0.2222222222222222,
              "#7201a8"
             ],
             [
              0.3333333333333333,
              "#9c179e"
             ],
             [
              0.4444444444444444,
              "#bd3786"
             ],
             [
              0.5555555555555556,
              "#d8576b"
             ],
             [
              0.6666666666666666,
              "#ed7953"
             ],
             [
              0.7777777777777778,
              "#fb9f3a"
             ],
             [
              0.8888888888888888,
              "#fdca26"
             ],
             [
              1,
              "#f0f921"
             ]
            ],
            "type": "contour"
           }
          ],
          "contourcarpet": [
           {
            "colorbar": {
             "outlinewidth": 0,
             "ticks": ""
            },
            "type": "contourcarpet"
           }
          ],
          "heatmap": [
           {
            "colorbar": {
             "outlinewidth": 0,
             "ticks": ""
            },
            "colorscale": [
             [
              0,
              "#0d0887"
             ],
             [
              0.1111111111111111,
              "#46039f"
             ],
             [
              0.2222222222222222,
              "#7201a8"
             ],
             [
              0.3333333333333333,
              "#9c179e"
             ],
             [
              0.4444444444444444,
              "#bd3786"
             ],
             [
              0.5555555555555556,
              "#d8576b"
             ],
             [
              0.6666666666666666,
              "#ed7953"
             ],
             [
              0.7777777777777778,
              "#fb9f3a"
             ],
             [
              0.8888888888888888,
              "#fdca26"
             ],
             [
              1,
              "#f0f921"
             ]
            ],
            "type": "heatmap"
           }
          ],
          "heatmapgl": [
           {
            "colorbar": {
             "outlinewidth": 0,
             "ticks": ""
            },
            "colorscale": [
             [
              0,
              "#0d0887"
             ],
             [
              0.1111111111111111,
              "#46039f"
             ],
             [
              0.2222222222222222,
              "#7201a8"
             ],
             [
              0.3333333333333333,
              "#9c179e"
             ],
             [
              0.4444444444444444,
              "#bd3786"
             ],
             [
              0.5555555555555556,
              "#d8576b"
             ],
             [
              0.6666666666666666,
              "#ed7953"
             ],
             [
              0.7777777777777778,
              "#fb9f3a"
             ],
             [
              0.8888888888888888,
              "#fdca26"
             ],
             [
              1,
              "#f0f921"
             ]
            ],
            "type": "heatmapgl"
           }
          ],
          "histogram": [
           {
            "marker": {
             "pattern": {
              "fillmode": "overlay",
              "size": 10,
              "solidity": 0.2
             }
            },
            "type": "histogram"
           }
          ],
          "histogram2d": [
           {
            "colorbar": {
             "outlinewidth": 0,
             "ticks": ""
            },
            "colorscale": [
             [
              0,
              "#0d0887"
             ],
             [
              0.1111111111111111,
              "#46039f"
             ],
             [
              0.2222222222222222,
              "#7201a8"
             ],
             [
              0.3333333333333333,
              "#9c179e"
             ],
             [
              0.4444444444444444,
              "#bd3786"
             ],
             [
              0.5555555555555556,
              "#d8576b"
             ],
             [
              0.6666666666666666,
              "#ed7953"
             ],
             [
              0.7777777777777778,
              "#fb9f3a"
             ],
             [
              0.8888888888888888,
              "#fdca26"
             ],
             [
              1,
              "#f0f921"
             ]
            ],
            "type": "histogram2d"
           }
          ],
          "histogram2dcontour": [
           {
            "colorbar": {
             "outlinewidth": 0,
             "ticks": ""
            },
            "colorscale": [
             [
              0,
              "#0d0887"
             ],
             [
              0.1111111111111111,
              "#46039f"
             ],
             [
              0.2222222222222222,
              "#7201a8"
             ],
             [
              0.3333333333333333,
              "#9c179e"
             ],
             [
              0.4444444444444444,
              "#bd3786"
             ],
             [
              0.5555555555555556,
              "#d8576b"
             ],
             [
              0.6666666666666666,
              "#ed7953"
             ],
             [
              0.7777777777777778,
              "#fb9f3a"
             ],
             [
              0.8888888888888888,
              "#fdca26"
             ],
             [
              1,
              "#f0f921"
             ]
            ],
            "type": "histogram2dcontour"
           }
          ],
          "mesh3d": [
           {
            "colorbar": {
             "outlinewidth": 0,
             "ticks": ""
            },
            "type": "mesh3d"
           }
          ],
          "parcoords": [
           {
            "line": {
             "colorbar": {
              "outlinewidth": 0,
              "ticks": ""
             }
            },
            "type": "parcoords"
           }
          ],
          "pie": [
           {
            "automargin": true,
            "type": "pie"
           }
          ],
          "scatter": [
           {
            "fillpattern": {
             "fillmode": "overlay",
             "size": 10,
             "solidity": 0.2
            },
            "type": "scatter"
           }
          ],
          "scatter3d": [
           {
            "line": {
             "colorbar": {
              "outlinewidth": 0,
              "ticks": ""
             }
            },
            "marker": {
             "colorbar": {
              "outlinewidth": 0,
              "ticks": ""
             }
            },
            "type": "scatter3d"
           }
          ],
          "scattercarpet": [
           {
            "marker": {
             "colorbar": {
              "outlinewidth": 0,
              "ticks": ""
             }
            },
            "type": "scattercarpet"
           }
          ],
          "scattergeo": [
           {
            "marker": {
             "colorbar": {
              "outlinewidth": 0,
              "ticks": ""
             }
            },
            "type": "scattergeo"
           }
          ],
          "scattergl": [
           {
            "marker": {
             "colorbar": {
              "outlinewidth": 0,
              "ticks": ""
             }
            },
            "type": "scattergl"
           }
          ],
          "scattermapbox": [
           {
            "marker": {
             "colorbar": {
              "outlinewidth": 0,
              "ticks": ""
             }
            },
            "type": "scattermapbox"
           }
          ],
          "scatterpolar": [
           {
            "marker": {
             "colorbar": {
              "outlinewidth": 0,
              "ticks": ""
             }
            },
            "type": "scatterpolar"
           }
          ],
          "scatterpolargl": [
           {
            "marker": {
             "colorbar": {
              "outlinewidth": 0,
              "ticks": ""
             }
            },
            "type": "scatterpolargl"
           }
          ],
          "scatterternary": [
           {
            "marker": {
             "colorbar": {
              "outlinewidth": 0,
              "ticks": ""
             }
            },
            "type": "scatterternary"
           }
          ],
          "surface": [
           {
            "colorbar": {
             "outlinewidth": 0,
             "ticks": ""
            },
            "colorscale": [
             [
              0,
              "#0d0887"
             ],
             [
              0.1111111111111111,
              "#46039f"
             ],
             [
              0.2222222222222222,
              "#7201a8"
             ],
             [
              0.3333333333333333,
              "#9c179e"
             ],
             [
              0.4444444444444444,
              "#bd3786"
             ],
             [
              0.5555555555555556,
              "#d8576b"
             ],
             [
              0.6666666666666666,
              "#ed7953"
             ],
             [
              0.7777777777777778,
              "#fb9f3a"
             ],
             [
              0.8888888888888888,
              "#fdca26"
             ],
             [
              1,
              "#f0f921"
             ]
            ],
            "type": "surface"
           }
          ],
          "table": [
           {
            "cells": {
             "fill": {
              "color": "#EBF0F8"
             },
             "line": {
              "color": "white"
             }
            },
            "header": {
             "fill": {
              "color": "#C8D4E3"
             },
             "line": {
              "color": "white"
             }
            },
            "type": "table"
           }
          ]
         },
         "layout": {
          "annotationdefaults": {
           "arrowcolor": "#2a3f5f",
           "arrowhead": 0,
           "arrowwidth": 1
          },
          "autotypenumbers": "strict",
          "coloraxis": {
           "colorbar": {
            "outlinewidth": 0,
            "ticks": ""
           }
          },
          "colorscale": {
           "diverging": [
            [
             0,
             "#8e0152"
            ],
            [
             0.1,
             "#c51b7d"
            ],
            [
             0.2,
             "#de77ae"
            ],
            [
             0.3,
             "#f1b6da"
            ],
            [
             0.4,
             "#fde0ef"
            ],
            [
             0.5,
             "#f7f7f7"
            ],
            [
             0.6,
             "#e6f5d0"
            ],
            [
             0.7,
             "#b8e186"
            ],
            [
             0.8,
             "#7fbc41"
            ],
            [
             0.9,
             "#4d9221"
            ],
            [
             1,
             "#276419"
            ]
           ],
           "sequential": [
            [
             0,
             "#0d0887"
            ],
            [
             0.1111111111111111,
             "#46039f"
            ],
            [
             0.2222222222222222,
             "#7201a8"
            ],
            [
             0.3333333333333333,
             "#9c179e"
            ],
            [
             0.4444444444444444,
             "#bd3786"
            ],
            [
             0.5555555555555556,
             "#d8576b"
            ],
            [
             0.6666666666666666,
             "#ed7953"
            ],
            [
             0.7777777777777778,
             "#fb9f3a"
            ],
            [
             0.8888888888888888,
             "#fdca26"
            ],
            [
             1,
             "#f0f921"
            ]
           ],
           "sequentialminus": [
            [
             0,
             "#0d0887"
            ],
            [
             0.1111111111111111,
             "#46039f"
            ],
            [
             0.2222222222222222,
             "#7201a8"
            ],
            [
             0.3333333333333333,
             "#9c179e"
            ],
            [
             0.4444444444444444,
             "#bd3786"
            ],
            [
             0.5555555555555556,
             "#d8576b"
            ],
            [
             0.6666666666666666,
             "#ed7953"
            ],
            [
             0.7777777777777778,
             "#fb9f3a"
            ],
            [
             0.8888888888888888,
             "#fdca26"
            ],
            [
             1,
             "#f0f921"
            ]
           ]
          },
          "colorway": [
           "#636efa",
           "#EF553B",
           "#00cc96",
           "#ab63fa",
           "#FFA15A",
           "#19d3f3",
           "#FF6692",
           "#B6E880",
           "#FF97FF",
           "#FECB52"
          ],
          "font": {
           "color": "#2a3f5f"
          },
          "geo": {
           "bgcolor": "white",
           "lakecolor": "white",
           "landcolor": "#E5ECF6",
           "showlakes": true,
           "showland": true,
           "subunitcolor": "white"
          },
          "hoverlabel": {
           "align": "left"
          },
          "hovermode": "closest",
          "mapbox": {
           "style": "light"
          },
          "paper_bgcolor": "white",
          "plot_bgcolor": "#E5ECF6",
          "polar": {
           "angularaxis": {
            "gridcolor": "white",
            "linecolor": "white",
            "ticks": ""
           },
           "bgcolor": "#E5ECF6",
           "radialaxis": {
            "gridcolor": "white",
            "linecolor": "white",
            "ticks": ""
           }
          },
          "scene": {
           "xaxis": {
            "backgroundcolor": "#E5ECF6",
            "gridcolor": "white",
            "gridwidth": 2,
            "linecolor": "white",
            "showbackground": true,
            "ticks": "",
            "zerolinecolor": "white"
           },
           "yaxis": {
            "backgroundcolor": "#E5ECF6",
            "gridcolor": "white",
            "gridwidth": 2,
            "linecolor": "white",
            "showbackground": true,
            "ticks": "",
            "zerolinecolor": "white"
           },
           "zaxis": {
            "backgroundcolor": "#E5ECF6",
            "gridcolor": "white",
            "gridwidth": 2,
            "linecolor": "white",
            "showbackground": true,
            "ticks": "",
            "zerolinecolor": "white"
           }
          },
          "shapedefaults": {
           "line": {
            "color": "#2a3f5f"
           }
          },
          "ternary": {
           "aaxis": {
            "gridcolor": "white",
            "linecolor": "white",
            "ticks": ""
           },
           "baxis": {
            "gridcolor": "white",
            "linecolor": "white",
            "ticks": ""
           },
           "bgcolor": "#E5ECF6",
           "caxis": {
            "gridcolor": "white",
            "linecolor": "white",
            "ticks": ""
           }
          },
          "title": {
           "x": 0.05
          },
          "xaxis": {
           "automargin": true,
           "gridcolor": "white",
           "linecolor": "white",
           "ticks": "",
           "title": {
            "standoff": 15
           },
           "zerolinecolor": "white",
           "zerolinewidth": 2
          },
          "yaxis": {
           "automargin": true,
           "gridcolor": "white",
           "linecolor": "white",
           "ticks": "",
           "title": {
            "standoff": 15
           },
           "zerolinecolor": "white",
           "zerolinewidth": 2
          }
         }
        },
        "title": {
         "text": "Option Comparison"
        },
        "xaxis": {
         "anchor": "y",
         "domain": [
          0,
          1
         ],
         "title": {
          "text": "gamma"
         }
        },
        "yaxis": {
         "anchor": "x",
         "domain": [
          0,
          1
         ],
         "title": {
          "text": "chance_of_profit_long"
         }
        }
       }
      },
      "text/html": [
       "<div>                            <div id=\"327c7bbf-596c-48b8-bff3-f79206d9c5e4\" class=\"plotly-graph-div\" style=\"height:525px; width:100%;\"></div>            <script type=\"text/javascript\">                require([\"plotly\"], function(Plotly) {                    window.PLOTLYENV=window.PLOTLYENV || {};                                    if (document.getElementById(\"327c7bbf-596c-48b8-bff3-f79206d9c5e4\")) {                    Plotly.newPlot(                        \"327c7bbf-596c-48b8-bff3-f79206d9c5e4\",                        [{\"customdata\":[[\"1_month\",\"10%_call\",\"165.0000\",0.0,1.000143,0.0,0.132612,-0.021212,-8222.318818],[\"1_week\",\"20%_call\",\"180.0000\",0.524401,0.990356,0.880733,0.032332,-0.075977,0.00822],[\"1_month\",\"20%_call\",\"180.0000\",0.526234,0.98391,0.478849,0.132879,-0.043899,0.02611],[\"1_week\",\"10%_call\",\"165.0000\",0.531374,0.991614,1.146421,0.029654,-0.082449,0.007273],[\"1_year\",\"10%_call\",\"165.0000\",0.555325,0.930815,0.304505,1.339145,-0.029347,0.307172],[\"1_year\",\"20%_call\",\"180.0000\",0.565356,0.889997,0.292584,1.369206,-0.034491,0.434084]],\"hovertemplate\":\"type=call\\u003cbr\\u003egamma=%{x}\\u003cbr\\u003echance_of_profit_long=%{y}\\u003cbr\\u003emark_price=%{marker.size}\\u003cbr\\u003eperiod=%{customdata[0]}\\u003cbr\\u003epct_key=%{customdata[1]}\\u003cbr\\u003estrike_price=%{customdata[2]}\\u003cbr\\u003echance_of_profit_short=%{customdata[3]}\\u003cbr\\u003edelta=%{customdata[4]}\\u003cbr\\u003eimplied_volatility=%{customdata[5]}\\u003cbr\\u003erho=%{customdata[6]}\\u003cbr\\u003etheta=%{customdata[7]}\\u003cbr\\u003evega=%{customdata[8]}\\u003cextra\\u003e\\u003c\\u002fextra\\u003e\",\"legendgroup\":\"call\",\"marker\":{\"color\":\"#636efa\",\"size\":[71.025,56.1,56.65,71.1,79.75,66.975],\"sizemode\":\"area\",\"sizeref\":0.199375,\"symbol\":\"circle\"},\"mode\":\"markers\",\"name\":\"call\",\"orientation\":\"v\",\"showlegend\":true,\"x\":[-9e-6,0.000919,0.001299,0.000624,0.001893,0.002784],\"xaxis\":\"x\",\"y\":[1.0,0.475599,0.473766,0.468626,0.444675,0.434644],\"yaxis\":\"y\",\"type\":\"scatter\"},{\"customdata\":[[\"1_year\",\"10%_put\",\"135.0000\",0.936849,-0.031675,0.363216,-0.080566,-0.007571,0.164258],[\"1_year\",\"20%_put\",\"120.0000\",0.95262,-0.020728,0.395849,-0.053346,-0.005885,0.115202],[\"1_week\",\"20%_put\",\"120.0000\",0.998581,-0.00068,1.620278,-0.000031,-0.009136,0.000752],[\"1_month\",\"20%_put\",\"120.0000\",0.998581,-0.000678,0.797436,-0.000129,-0.002183,0.001528]],\"hovertemplate\":\"type=put\\u003cbr\\u003egamma=%{x}\\u003cbr\\u003echance_of_profit_long=%{y}\\u003cbr\\u003emark_price=%{marker.size}\\u003cbr\\u003eperiod=%{customdata[0]}\\u003cbr\\u003epct_key=%{customdata[1]}\\u003cbr\\u003estrike_price=%{customdata[2]}\\u003cbr\\u003echance_of_profit_short=%{customdata[3]}\\u003cbr\\u003edelta=%{customdata[4]}\\u003cbr\\u003eimplied_volatility=%{customdata[5]}\\u003cbr\\u003erho=%{customdata[6]}\\u003cbr\\u003etheta=%{customdata[7]}\\u003cbr\\u003evega=%{customdata[8]}\\u003cextra\\u003e\\u003c\\u002fextra\\u003e\",\"legendgroup\":\"put\",\"marker\":{\"color\":\"#EF553B\",\"size\":[1.175,0.8,0.005,0.01],\"sizemode\":\"area\",\"sizeref\":0.199375,\"symbol\":\"circle\"},\"mode\":\"markers\",\"name\":\"put\",\"orientation\":\"v\",\"showlegend\":true,\"x\":[0.000853,0.000542,0.000042,0.000046],\"xaxis\":\"x\",\"y\":[0.063151,0.04738,0.001419,0.001419],\"yaxis\":\"y\",\"type\":\"scatter\"}],                        {\"template\":{\"data\":{\"histogram2dcontour\":[{\"type\":\"histogram2dcontour\",\"colorbar\":{\"outlinewidth\":0,\"ticks\":\"\"},\"colorscale\":[[0.0,\"#0d0887\"],[0.1111111111111111,\"#46039f\"],[0.2222222222222222,\"#7201a8\"],[0.3333333333333333,\"#9c179e\"],[0.4444444444444444,\"#bd3786\"],[0.5555555555555556,\"#d8576b\"],[0.6666666666666666,\"#ed7953\"],[0.7777777777777778,\"#fb9f3a\"],[0.8888888888888888,\"#fdca26\"],[1.0,\"#f0f921\"]]}],\"choropleth\":[{\"type\":\"choropleth\",\"colorbar\":{\"outlinewidth\":0,\"ticks\":\"\"}}],\"histogram2d\":[{\"type\":\"histogram2d\",\"colorbar\":{\"outlinewidth\":0,\"ticks\":\"\"},\"colorscale\":[[0.0,\"#0d0887\"],[0.1111111111111111,\"#46039f\"],[0.2222222222222222,\"#7201a8\"],[0.3333333333333333,\"#9c179e\"],[0.4444444444444444,\"#bd3786\"],[0.5555555555555556,\"#d8576b\"],[0.6666666666666666,\"#ed7953\"],[0.7777777777777778,\"#fb9f3a\"],[0.8888888888888888,\"#fdca26\"],[1.0,\"#f0f921\"]]}],\"heatmap\":[{\"type\":\"heatmap\",\"colorbar\":{\"outlinewidth\":0,\"ticks\":\"\"},\"colorscale\":[[0.0,\"#0d0887\"],[0.1111111111111111,\"#46039f\"],[0.2222222222222222,\"#7201a8\"],[0.3333333333333333,\"#9c179e\"],[0.4444444444444444,\"#bd3786\"],[0.5555555555555556,\"#d8576b\"],[0.6666666666666666,\"#ed7953\"],[0.7777777777777778,\"#fb9f3a\"],[0.8888888888888888,\"#fdca26\"],[1.0,\"#f0f921\"]]}],\"heatmapgl\":[{\"type\":\"heatmapgl\",\"colorbar\":{\"outlinewidth\":0,\"ticks\":\"\"},\"colorscale\":[[0.0,\"#0d0887\"],[0.1111111111111111,\"#46039f\"],[0.2222222222222222,\"#7201a8\"],[0.3333333333333333,\"#9c179e\"],[0.4444444444444444,\"#bd3786\"],[0.5555555555555556,\"#d8576b\"],[0.6666666666666666,\"#ed7953\"],[0.7777777777777778,\"#fb9f3a\"],[0.8888888888888888,\"#fdca26\"],[1.0,\"#f0f921\"]]}],\"contourcarpet\":[{\"type\":\"contourcarpet\",\"colorbar\":{\"outlinewidth\":0,\"ticks\":\"\"}}],\"contour\":[{\"type\":\"contour\",\"colorbar\":{\"outlinewidth\":0,\"ticks\":\"\"},\"colorscale\":[[0.0,\"#0d0887\"],[0.1111111111111111,\"#46039f\"],[0.2222222222222222,\"#7201a8\"],[0.3333333333333333,\"#9c179e\"],[0.4444444444444444,\"#bd3786\"],[0.5555555555555556,\"#d8576b\"],[0.6666666666666666,\"#ed7953\"],[0.7777777777777778,\"#fb9f3a\"],[0.8888888888888888,\"#fdca26\"],[1.0,\"#f0f921\"]]}],\"surface\":[{\"type\":\"surface\",\"colorbar\":{\"outlinewidth\":0,\"ticks\":\"\"},\"colorscale\":[[0.0,\"#0d0887\"],[0.1111111111111111,\"#46039f\"],[0.2222222222222222,\"#7201a8\"],[0.3333333333333333,\"#9c179e\"],[0.4444444444444444,\"#bd3786\"],[0.5555555555555556,\"#d8576b\"],[0.6666666666666666,\"#ed7953\"],[0.7777777777777778,\"#fb9f3a\"],[0.8888888888888888,\"#fdca26\"],[1.0,\"#f0f921\"]]}],\"mesh3d\":[{\"type\":\"mesh3d\",\"colorbar\":{\"outlinewidth\":0,\"ticks\":\"\"}}],\"scatter\":[{\"fillpattern\":{\"fillmode\":\"overlay\",\"size\":10,\"solidity\":0.2},\"type\":\"scatter\"}],\"parcoords\":[{\"type\":\"parcoords\",\"line\":{\"colorbar\":{\"outlinewidth\":0,\"ticks\":\"\"}}}],\"scatterpolargl\":[{\"type\":\"scatterpolargl\",\"marker\":{\"colorbar\":{\"outlinewidth\":0,\"ticks\":\"\"}}}],\"bar\":[{\"error_x\":{\"color\":\"#2a3f5f\"},\"error_y\":{\"color\":\"#2a3f5f\"},\"marker\":{\"line\":{\"color\":\"#E5ECF6\",\"width\":0.5},\"pattern\":{\"fillmode\":\"overlay\",\"size\":10,\"solidity\":0.2}},\"type\":\"bar\"}],\"scattergeo\":[{\"type\":\"scattergeo\",\"marker\":{\"colorbar\":{\"outlinewidth\":0,\"ticks\":\"\"}}}],\"scatterpolar\":[{\"type\":\"scatterpolar\",\"marker\":{\"colorbar\":{\"outlinewidth\":0,\"ticks\":\"\"}}}],\"histogram\":[{\"marker\":{\"pattern\":{\"fillmode\":\"overlay\",\"size\":10,\"solidity\":0.2}},\"type\":\"histogram\"}],\"scattergl\":[{\"type\":\"scattergl\",\"marker\":{\"colorbar\":{\"outlinewidth\":0,\"ticks\":\"\"}}}],\"scatter3d\":[{\"type\":\"scatter3d\",\"line\":{\"colorbar\":{\"outlinewidth\":0,\"ticks\":\"\"}},\"marker\":{\"colorbar\":{\"outlinewidth\":0,\"ticks\":\"\"}}}],\"scattermapbox\":[{\"type\":\"scattermapbox\",\"marker\":{\"colorbar\":{\"outlinewidth\":0,\"ticks\":\"\"}}}],\"scatterternary\":[{\"type\":\"scatterternary\",\"marker\":{\"colorbar\":{\"outlinewidth\":0,\"ticks\":\"\"}}}],\"scattercarpet\":[{\"type\":\"scattercarpet\",\"marker\":{\"colorbar\":{\"outlinewidth\":0,\"ticks\":\"\"}}}],\"carpet\":[{\"aaxis\":{\"endlinecolor\":\"#2a3f5f\",\"gridcolor\":\"white\",\"linecolor\":\"white\",\"minorgridcolor\":\"white\",\"startlinecolor\":\"#2a3f5f\"},\"baxis\":{\"endlinecolor\":\"#2a3f5f\",\"gridcolor\":\"white\",\"linecolor\":\"white\",\"minorgridcolor\":\"white\",\"startlinecolor\":\"#2a3f5f\"},\"type\":\"carpet\"}],\"table\":[{\"cells\":{\"fill\":{\"color\":\"#EBF0F8\"},\"line\":{\"color\":\"white\"}},\"header\":{\"fill\":{\"color\":\"#C8D4E3\"},\"line\":{\"color\":\"white\"}},\"type\":\"table\"}],\"barpolar\":[{\"marker\":{\"line\":{\"color\":\"#E5ECF6\",\"width\":0.5},\"pattern\":{\"fillmode\":\"overlay\",\"size\":10,\"solidity\":0.2}},\"type\":\"barpolar\"}],\"pie\":[{\"automargin\":true,\"type\":\"pie\"}]},\"layout\":{\"autotypenumbers\":\"strict\",\"colorway\":[\"#636efa\",\"#EF553B\",\"#00cc96\",\"#ab63fa\",\"#FFA15A\",\"#19d3f3\",\"#FF6692\",\"#B6E880\",\"#FF97FF\",\"#FECB52\"],\"font\":{\"color\":\"#2a3f5f\"},\"hovermode\":\"closest\",\"hoverlabel\":{\"align\":\"left\"},\"paper_bgcolor\":\"white\",\"plot_bgcolor\":\"#E5ECF6\",\"polar\":{\"bgcolor\":\"#E5ECF6\",\"angularaxis\":{\"gridcolor\":\"white\",\"linecolor\":\"white\",\"ticks\":\"\"},\"radialaxis\":{\"gridcolor\":\"white\",\"linecolor\":\"white\",\"ticks\":\"\"}},\"ternary\":{\"bgcolor\":\"#E5ECF6\",\"aaxis\":{\"gridcolor\":\"white\",\"linecolor\":\"white\",\"ticks\":\"\"},\"baxis\":{\"gridcolor\":\"white\",\"linecolor\":\"white\",\"ticks\":\"\"},\"caxis\":{\"gridcolor\":\"white\",\"linecolor\":\"white\",\"ticks\":\"\"}},\"coloraxis\":{\"colorbar\":{\"outlinewidth\":0,\"ticks\":\"\"}},\"colorscale\":{\"sequential\":[[0.0,\"#0d0887\"],[0.1111111111111111,\"#46039f\"],[0.2222222222222222,\"#7201a8\"],[0.3333333333333333,\"#9c179e\"],[0.4444444444444444,\"#bd3786\"],[0.5555555555555556,\"#d8576b\"],[0.6666666666666666,\"#ed7953\"],[0.7777777777777778,\"#fb9f3a\"],[0.8888888888888888,\"#fdca26\"],[1.0,\"#f0f921\"]],\"sequentialminus\":[[0.0,\"#0d0887\"],[0.1111111111111111,\"#46039f\"],[0.2222222222222222,\"#7201a8\"],[0.3333333333333333,\"#9c179e\"],[0.4444444444444444,\"#bd3786\"],[0.5555555555555556,\"#d8576b\"],[0.6666666666666666,\"#ed7953\"],[0.7777777777777778,\"#fb9f3a\"],[0.8888888888888888,\"#fdca26\"],[1.0,\"#f0f921\"]],\"diverging\":[[0,\"#8e0152\"],[0.1,\"#c51b7d\"],[0.2,\"#de77ae\"],[0.3,\"#f1b6da\"],[0.4,\"#fde0ef\"],[0.5,\"#f7f7f7\"],[0.6,\"#e6f5d0\"],[0.7,\"#b8e186\"],[0.8,\"#7fbc41\"],[0.9,\"#4d9221\"],[1,\"#276419\"]]},\"xaxis\":{\"gridcolor\":\"white\",\"linecolor\":\"white\",\"ticks\":\"\",\"title\":{\"standoff\":15},\"zerolinecolor\":\"white\",\"automargin\":true,\"zerolinewidth\":2},\"yaxis\":{\"gridcolor\":\"white\",\"linecolor\":\"white\",\"ticks\":\"\",\"title\":{\"standoff\":15},\"zerolinecolor\":\"white\",\"automargin\":true,\"zerolinewidth\":2},\"scene\":{\"xaxis\":{\"backgroundcolor\":\"#E5ECF6\",\"gridcolor\":\"white\",\"linecolor\":\"white\",\"showbackground\":true,\"ticks\":\"\",\"zerolinecolor\":\"white\",\"gridwidth\":2},\"yaxis\":{\"backgroundcolor\":\"#E5ECF6\",\"gridcolor\":\"white\",\"linecolor\":\"white\",\"showbackground\":true,\"ticks\":\"\",\"zerolinecolor\":\"white\",\"gridwidth\":2},\"zaxis\":{\"backgroundcolor\":\"#E5ECF6\",\"gridcolor\":\"white\",\"linecolor\":\"white\",\"showbackground\":true,\"ticks\":\"\",\"zerolinecolor\":\"white\",\"gridwidth\":2}},\"shapedefaults\":{\"line\":{\"color\":\"#2a3f5f\"}},\"annotationdefaults\":{\"arrowcolor\":\"#2a3f5f\",\"arrowhead\":0,\"arrowwidth\":1},\"geo\":{\"bgcolor\":\"white\",\"landcolor\":\"#E5ECF6\",\"subunitcolor\":\"white\",\"showland\":true,\"showlakes\":true,\"lakecolor\":\"white\"},\"title\":{\"x\":0.05},\"mapbox\":{\"style\":\"light\"}}},\"xaxis\":{\"anchor\":\"y\",\"domain\":[0.0,1.0],\"title\":{\"text\":\"gamma\"}},\"yaxis\":{\"anchor\":\"x\",\"domain\":[0.0,1.0],\"title\":{\"text\":\"chance_of_profit_long\"}},\"legend\":{\"title\":{\"text\":\"type\"},\"tracegroupgap\":0,\"itemsizing\":\"constant\"},\"title\":{\"text\":\"Option Comparison\"}},                        {\"responsive\": true}                    ).then(function(){\n",
       "                            \n",
       "var gd = document.getElementById('327c7bbf-596c-48b8-bff3-f79206d9c5e4');\n",
       "var x = new MutationObserver(function (mutations, observer) {{\n",
       "        var display = window.getComputedStyle(gd).display;\n",
       "        if (!display || display === 'none') {{\n",
       "            console.log([gd, 'removed!']);\n",
       "            Plotly.purge(gd);\n",
       "            observer.disconnect();\n",
       "        }}\n",
       "}});\n",
       "\n",
       "// Listen for the removal of the full notebook cells\n",
       "var notebookContainer = gd.closest('#notebook-container');\n",
       "if (notebookContainer) {{\n",
       "    x.observe(notebookContainer, {childList: true});\n",
       "}}\n",
       "\n",
       "// Listen for the clearing of the current output cell\n",
       "var outputEl = gd.closest('.output');\n",
       "if (outputEl) {{\n",
       "    x.observe(outputEl, {childList: true});\n",
       "}}\n",
       "\n",
       "                        })                };                });            </script>        </div>"
      ]
     },
     "metadata": {},
     "output_type": "display_data"
    }
   ],
   "source": [
    "fig.show()"
   ]
  },
  {
   "cell_type": "code",
   "execution_count": 12,
   "metadata": {},
   "outputs": [
    {
     "name": "stdout",
     "output_type": "stream",
     "text": [
      "404 Client Error: Not Found for url: https://api.robinhood.com/options/instruments/7dd906e5-7d4b-4161-a3fe-2c3b62038482/\n",
      "Empty DataFrame\n",
      "Columns: []\n",
      "Index: []\n"
     ]
    },
    {
     "ename": "KeyError",
     "evalue": "'strike_price'",
     "output_type": "error",
     "traceback": [
      "\u001b[0;31m---------------------------------------------------------------------------\u001b[0m",
      "\u001b[0;31mKeyError\u001b[0m                                  Traceback (most recent call last)",
      "File \u001b[0;32m/anaconda/envs/azureml_py38/lib/python3.9/site-packages/pandas/core/indexes/base.py:3361\u001b[0m, in \u001b[0;36mIndex.get_loc\u001b[0;34m(self, key, method, tolerance)\u001b[0m\n\u001b[1;32m   3360\u001b[0m \u001b[38;5;28;01mtry\u001b[39;00m:\n\u001b[0;32m-> 3361\u001b[0m     \u001b[38;5;28;01mreturn\u001b[39;00m \u001b[38;5;28;43mself\u001b[39;49m\u001b[38;5;241;43m.\u001b[39;49m\u001b[43m_engine\u001b[49m\u001b[38;5;241;43m.\u001b[39;49m\u001b[43mget_loc\u001b[49m\u001b[43m(\u001b[49m\u001b[43mcasted_key\u001b[49m\u001b[43m)\u001b[49m\n\u001b[1;32m   3362\u001b[0m \u001b[38;5;28;01mexcept\u001b[39;00m \u001b[38;5;167;01mKeyError\u001b[39;00m \u001b[38;5;28;01mas\u001b[39;00m err:\n",
      "File \u001b[0;32m/anaconda/envs/azureml_py38/lib/python3.9/site-packages/pandas/_libs/index.pyx:76\u001b[0m, in \u001b[0;36mpandas._libs.index.IndexEngine.get_loc\u001b[0;34m()\u001b[0m\n",
      "File \u001b[0;32m/anaconda/envs/azureml_py38/lib/python3.9/site-packages/pandas/_libs/index.pyx:108\u001b[0m, in \u001b[0;36mpandas._libs.index.IndexEngine.get_loc\u001b[0;34m()\u001b[0m\n",
      "File \u001b[0;32mpandas/_libs/hashtable_class_helper.pxi:5198\u001b[0m, in \u001b[0;36mpandas._libs.hashtable.PyObjectHashTable.get_item\u001b[0;34m()\u001b[0m\n",
      "File \u001b[0;32mpandas/_libs/hashtable_class_helper.pxi:5206\u001b[0m, in \u001b[0;36mpandas._libs.hashtable.PyObjectHashTable.get_item\u001b[0;34m()\u001b[0m\n",
      "\u001b[0;31mKeyError\u001b[0m: 'strike_price'",
      "\nThe above exception was the direct cause of the following exception:\n",
      "\u001b[0;31mKeyError\u001b[0m                                  Traceback (most recent call last)",
      "Cell \u001b[0;32mIn[12], line 1\u001b[0m\n\u001b[0;32m----> 1\u001b[0m optimal_option \u001b[38;5;241m=\u001b[39m \u001b[43mfind_optimal_option\u001b[49m\u001b[43m(\u001b[49m\u001b[43mr\u001b[49m\u001b[43m,\u001b[49m\u001b[43m \u001b[49m\u001b[43mticker\u001b[49m\u001b[43m)\u001b[49m\n\u001b[1;32m      2\u001b[0m \u001b[38;5;28mprint\u001b[39m(optimal_option)\n",
      "Cell \u001b[0;32mIn[11], line 32\u001b[0m, in \u001b[0;36mfind_optimal_option\u001b[0;34m(r, ticker)\u001b[0m\n\u001b[1;32m     30\u001b[0m df \u001b[38;5;241m=\u001b[39m pd\u001b[38;5;241m.\u001b[39mDataFrame(options)\n\u001b[1;32m     31\u001b[0m \u001b[38;5;28mprint\u001b[39m(df)\n\u001b[0;32m---> 32\u001b[0m df[\u001b[38;5;124m'\u001b[39m\u001b[38;5;124mstrike_price\u001b[39m\u001b[38;5;124m'\u001b[39m] \u001b[38;5;241m=\u001b[39m \u001b[43mdf\u001b[49m\u001b[43m[\u001b[49m\u001b[38;5;124;43m'\u001b[39;49m\u001b[38;5;124;43mstrike_price\u001b[39;49m\u001b[38;5;124;43m'\u001b[39;49m\u001b[43m]\u001b[49m\u001b[38;5;241m.\u001b[39mastype(\u001b[38;5;28mfloat\u001b[39m)\n\u001b[1;32m     34\u001b[0m \u001b[38;5;66;03m# Calculate distance from current price\u001b[39;00m\n\u001b[1;32m     35\u001b[0m df[\u001b[38;5;124m'\u001b[39m\u001b[38;5;124mdistance\u001b[39m\u001b[38;5;124m'\u001b[39m] \u001b[38;5;241m=\u001b[39m \u001b[38;5;28mabs\u001b[39m(df[\u001b[38;5;124m'\u001b[39m\u001b[38;5;124mstrike_price\u001b[39m\u001b[38;5;124m'\u001b[39m] \u001b[38;5;241m-\u001b[39m current_price)\n",
      "File \u001b[0;32m/anaconda/envs/azureml_py38/lib/python3.9/site-packages/pandas/core/frame.py:3458\u001b[0m, in \u001b[0;36mDataFrame.__getitem__\u001b[0;34m(self, key)\u001b[0m\n\u001b[1;32m   3456\u001b[0m \u001b[38;5;28;01mif\u001b[39;00m \u001b[38;5;28mself\u001b[39m\u001b[38;5;241m.\u001b[39mcolumns\u001b[38;5;241m.\u001b[39mnlevels \u001b[38;5;241m>\u001b[39m \u001b[38;5;241m1\u001b[39m:\n\u001b[1;32m   3457\u001b[0m     \u001b[38;5;28;01mreturn\u001b[39;00m \u001b[38;5;28mself\u001b[39m\u001b[38;5;241m.\u001b[39m_getitem_multilevel(key)\n\u001b[0;32m-> 3458\u001b[0m indexer \u001b[38;5;241m=\u001b[39m \u001b[38;5;28;43mself\u001b[39;49m\u001b[38;5;241;43m.\u001b[39;49m\u001b[43mcolumns\u001b[49m\u001b[38;5;241;43m.\u001b[39;49m\u001b[43mget_loc\u001b[49m\u001b[43m(\u001b[49m\u001b[43mkey\u001b[49m\u001b[43m)\u001b[49m\n\u001b[1;32m   3459\u001b[0m \u001b[38;5;28;01mif\u001b[39;00m is_integer(indexer):\n\u001b[1;32m   3460\u001b[0m     indexer \u001b[38;5;241m=\u001b[39m [indexer]\n",
      "File \u001b[0;32m/anaconda/envs/azureml_py38/lib/python3.9/site-packages/pandas/core/indexes/base.py:3363\u001b[0m, in \u001b[0;36mIndex.get_loc\u001b[0;34m(self, key, method, tolerance)\u001b[0m\n\u001b[1;32m   3361\u001b[0m         \u001b[38;5;28;01mreturn\u001b[39;00m \u001b[38;5;28mself\u001b[39m\u001b[38;5;241m.\u001b[39m_engine\u001b[38;5;241m.\u001b[39mget_loc(casted_key)\n\u001b[1;32m   3362\u001b[0m     \u001b[38;5;28;01mexcept\u001b[39;00m \u001b[38;5;167;01mKeyError\u001b[39;00m \u001b[38;5;28;01mas\u001b[39;00m err:\n\u001b[0;32m-> 3363\u001b[0m         \u001b[38;5;28;01mraise\u001b[39;00m \u001b[38;5;167;01mKeyError\u001b[39;00m(key) \u001b[38;5;28;01mfrom\u001b[39;00m \u001b[38;5;21;01merr\u001b[39;00m\n\u001b[1;32m   3365\u001b[0m \u001b[38;5;28;01mif\u001b[39;00m is_scalar(key) \u001b[38;5;129;01mand\u001b[39;00m isna(key) \u001b[38;5;129;01mand\u001b[39;00m \u001b[38;5;129;01mnot\u001b[39;00m \u001b[38;5;28mself\u001b[39m\u001b[38;5;241m.\u001b[39mhasnans:\n\u001b[1;32m   3366\u001b[0m     \u001b[38;5;28;01mraise\u001b[39;00m \u001b[38;5;167;01mKeyError\u001b[39;00m(key)\n",
      "\u001b[0;31mKeyError\u001b[0m: 'strike_price'"
     ]
    }
   ],
   "source": [
    "optimal_option = find_optimal_option(r, ticker)\n",
    "print(optimal_option)"
   ]
  },
  {
   "cell_type": "code",
   "execution_count": null,
   "metadata": {},
   "outputs": [],
   "source": []
  }
 ],
 "metadata": {
  "kernelspec": {
   "display_name": "Python 3.8 - AzureML",
   "language": "python",
   "name": "python38-azureml"
  },
  "language_info": {
   "codemirror_mode": {
    "name": "ipython",
    "version": 3
   },
   "file_extension": ".py",
   "mimetype": "text/x-python",
   "name": "python",
   "nbconvert_exporter": "python",
   "pygments_lexer": "ipython3",
   "version": "3.9.19"
  }
 },
 "nbformat": 4,
 "nbformat_minor": 2
}
