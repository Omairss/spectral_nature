{
 "cells": [
  {
   "cell_type": "markdown",
   "metadata": {},
   "source": [
    "# Import Required Libraries\n",
    "Import the necessary libraries, including requests, pandas, numpy, scipy, and sklearn."
   ]
  },
  {
   "cell_type": "code",
   "execution_count": 6,
   "metadata": {},
   "outputs": [],
   "source": [
    "# Import Required Libraries\n",
    "import requests\n",
    "import plotly.express as px\n",
    "import pandas as pd\n",
    "import numpy as np\n",
    "from scipy.optimize import curve_fit\n",
    "from sklearn.metrics import mean_squared_error"
   ]
  },
  {
   "cell_type": "markdown",
   "metadata": {},
   "source": [
    "# Authenticate and Retrieve Portfolio\n",
    "Authenticate with the Robinhood API and retrieve the current portfolio tickers."
   ]
  },
  {
   "cell_type": "code",
   "execution_count": 3,
   "metadata": {},
   "outputs": [
    {
     "name": "stdout",
     "output_type": "stream",
     "text": [
      "['META', 'AAPL', 'SPOT', 'NVDA', 'SHOP', 'GOOGL', 'BRK.B', 'RBLX', 'GS', 'Z', 'LLY', 'AVAV', 'ARM', 'SMR', 'VRSK', 'JPM', 'TGS', 'MU', 'CEG']\n"
     ]
    }
   ],
   "source": [
    "# Authenticate and Retrieve Portfolio\n",
    "\n",
    "import robin_stocks.robinhood as r\n",
    "\n",
    "# Define a function to authenticate with Robinhood API\n",
    "def authenticate_robinhood(username, password):\n",
    "    login = r.login(username, password)\n",
    "    return login\n",
    "\n",
    "# Define a function to retrieve the current portfolio tickers\n",
    "def get_portfolio_tickers():\n",
    "    positions_data = r.account.build_holdings()\n",
    "    tickers = list(positions_data.keys())\n",
    "    return tickers\n",
    "\n",
    "# Example usage\n",
    "username = input(\"Enter your Robinhood username: \")\n",
    "password = input(\"Enter your Robinhood password: \")\n",
    "authenticate_robinhood(username, password)\n",
    "tickers = get_portfolio_tickers()\n",
    "print(tickers)\n"
   ]
  },
  {
   "cell_type": "markdown",
   "metadata": {},
   "source": [
    "# Fetch Historical Data\n",
    "Fetch historical data for each ticker in the portfolio using an appropriate API."
   ]
  },
  {
   "cell_type": "code",
   "execution_count": 64,
   "metadata": {},
   "outputs": [],
   "source": [
    "import os\n",
    "import pickle\n",
    "from datetime import datetime, timedelta\n",
    "\n",
    "# Fetch Historical Data\n",
    "\n",
    "# Define a function to fetch historical data for a given ticker\n",
    "def fetch_historical_data(ticker, interval='day', span='5year'):\n",
    "    historical_data = r.stocks.get_stock_historicals(ticker, interval=interval, span=span)\n",
    "    historical_data = pd.DataFrame(historical_data)\n",
    "    \n",
    "    return historical_data\n",
    "\n",
    "# Define a function to load data from cache if it exists and is younger than 1 day\n",
    "def load_from_cache(ticker):\n",
    "    cache_file = f\"{ticker}_historical_data.pkl\"\n",
    "    if os.path.exists(cache_file):\n",
    "        file_time = datetime.fromtimestamp(os.path.getmtime(cache_file))\n",
    "        if datetime.now() - file_time < timedelta(days=1):\n",
    "            with open(cache_file, 'rb') as f:\n",
    "                return pickle.load(f)\n",
    "    return None\n",
    "\n",
    "# Define a function to save data to cache\n",
    "def save_to_cache(ticker, data):\n",
    "    cache_file = f\"{ticker}_historical_data.pkl\"\n",
    "    with open(cache_file, 'wb') as f:\n",
    "        pickle.dump(data, f)\n",
    "\n",
    "\n"
   ]
  },
  {
   "cell_type": "markdown",
   "metadata": {},
   "source": [
    "# Calculate Metrics\n",
    "Calculate the slope, variance, standard deviation, and maximum drawdown for each ticker."
   ]
  },
  {
   "cell_type": "code",
   "execution_count": null,
   "metadata": {},
   "outputs": [
    {
     "name": "stderr",
     "output_type": "stream",
     "text": [
      "/tmp/ipykernel_1168345/2133515577.py:51: SettingWithCopyWarning:\n",
      "\n",
      "\n",
      "A value is trying to be set on a copy of a slice from a DataFrame.\n",
      "Try using .loc[row_indexer,col_indexer] = value instead\n",
      "\n",
      "See the caveats in the documentation: https://pandas.pydata.org/pandas-docs/stable/user_guide/indexing.html#returning-a-view-versus-a-copy\n",
      "\n",
      "/anaconda/envs/azureml_py38/lib/python3.9/site-packages/pandas/core/arraylike.py:364: RuntimeWarning:\n",
      "\n",
      "overflow encountered in exp\n",
      "\n",
      "/anaconda/envs/azureml_py38/lib/python3.9/site-packages/scipy/optimize/minpack.py:828: OptimizeWarning:\n",
      "\n",
      "Covariance of the parameters could not be estimated\n",
      "\n"
     ]
    }
   ],
   "source": [
    "from datetime import timezone\n",
    "\n",
    "\n",
    "def linear_func(x, m, c):\n",
    "    return m * x + c\n",
    "\n",
    "def exponential_func(x, a, b):\n",
    "    return a * np.exp(b * x)\n",
    "\n",
    "\n",
    "# Define a function to calculate metrics for multiple time ranges\n",
    "def calculate_metrics_for_multiple_ranges(historical_data):\n",
    "    time_ranges = {\n",
    "        '5_years': datetime.now() - timedelta(days=5*365),\n",
    "        '3_years': datetime.now() - timedelta(days=3*365),\n",
    "        '1_year': datetime.now() - timedelta(days=365),\n",
    "        '6_months': datetime.now() - timedelta(days=6*30),\n",
    "        '3_months': datetime.now() - timedelta(days=3*30)\n",
    "    }\n",
    "    \n",
    "    aggregated_results = pd.DataFrame()\n",
    "    \n",
    "    for range_name, start_date in time_ranges.items():\n",
    "        metrics_df = calculate_regression_metrics_for_range(historical_data, start_date)\n",
    "        metrics_df['time_range'] = range_name\n",
    "        aggregated_results = pd.concat([aggregated_results, metrics_df], ignore_index=True)\n",
    "    \n",
    "    return aggregated_results\n",
    "\n",
    "def linear_func(x, m, c):\n",
    "    return m * x + c\n",
    "\n",
    "def exponential_func(x, a, b):\n",
    "    return a * np.exp(b * x)\n",
    "\n",
    "#Define a function to calculate metrics for each ticker for a given time range\n",
    "def calculate_regression_metrics_for_range(historical_data, start_date):\n",
    "    results = []\n",
    "    for ticker, data in historical_data.items():\n",
    "        \n",
    "        # Convert start_date to the same timezone as data.index\n",
    "        start_date = pd.to_datetime(start_date).tz_convert(data.index.tz)\n",
    "        \n",
    "        # Filter data for the given time range\n",
    "        data_range = data[data.index >= start_date]\n",
    "        \n",
    "        if data_range.empty:\n",
    "            continue\n",
    "        \n",
    "        # Convert date to ordinal for fitting\n",
    "        data_range['date'] = data_range.index.to_series().apply(lambda date: date.toordinal())\n",
    "        x_data = data_range['date']\n",
    "        y_data = data_range['close_price'].astype(float)\n",
    "\n",
    "        # Fit the linear curve\n",
    "        popt_linear = np.polyfit(x_data, y_data, 1)\n",
    "        \n",
    "        # Fit the exponential curve\n",
    "        popt_exp, _ = curve_fit(exponential_func, x_data, y_data, maxfev=10000)\n",
    "        \n",
    "        # Calculate metrics for linear fit\n",
    "        y_pred_linear = linear_func(x_data, *popt_linear)\n",
    "        slope = popt_linear[0]\n",
    "        variance = np.var(y_pred_linear)\n",
    "        std_dev = np.std(y_pred_linear)\n",
    "        max_drawdown = np.min(y_pred_linear) - np.max(y_pred_linear)\n",
    "        \n",
    "        # Calculate metrics for exponential fit\n",
    "        exp_param = popt_exp[1]  # Exponential growth rate\n",
    "        \n",
    "        # Append results\n",
    "        results.append({\n",
    "            'ticker': ticker,\n",
    "            'slope': slope,\n",
    "            'exp_param': exp_param,\n",
    "            'variance': variance,\n",
    "            'standard_deviation': std_dev,\n",
    "            'maximum_drawdown': max_drawdown\n",
    "        })\n",
    "    \n",
    "\n",
    "    \n",
    "    return pd.DataFrame(results)\n",
    "\n",
    "# Define a function to calculate metrics for multiple time ranges\n",
    "def calculate_metrics_for_multiple_ranges(historical_data):\n",
    "    time_ranges = {\n",
    "        '5_years': datetime.now(tz=timezone.utc) - timedelta(days=5*365),\n",
    "        '3_years': datetime.now(tz=timezone.utc) - timedelta(days=3*365),\n",
    "        '1_year': datetime.now(tz=timezone.utc) - timedelta(days=365),\n",
    "        '6_months': datetime.now(tz=timezone.utc) - timedelta(days=6*30),\n",
    "        '3_months': datetime.now(tz=timezone.utc) - timedelta(days=3*30)\n",
    "    }\n",
    "    aggregated_results = pd.DataFrame()\n",
    "    \n",
    "    for range_name, start_date in time_ranges.items():\n",
    "        metrics_df = calculate_regression_metrics_for_range(historical_data, start_date)\n",
    "        metrics_df['time_range'] = range_name\n",
    "        aggregated_results = pd.concat([aggregated_results, metrics_df], ignore_index=True)\n",
    "    \n",
    "    return aggregated_results\n",
    "\n",
    "\n",
    "\n"
   ]
  },
  {
   "cell_type": "code",
   "execution_count": 58,
   "metadata": {},
   "outputs": [
    {
     "data": {
      "text/html": [
       "<div>\n",
       "<style scoped>\n",
       "    .dataframe tbody tr th:only-of-type {\n",
       "        vertical-align: middle;\n",
       "    }\n",
       "\n",
       "    .dataframe tbody tr th {\n",
       "        vertical-align: top;\n",
       "    }\n",
       "\n",
       "    .dataframe thead tr th {\n",
       "        text-align: left;\n",
       "    }\n",
       "\n",
       "    .dataframe thead tr:last-of-type th {\n",
       "        text-align: right;\n",
       "    }\n",
       "</style>\n",
       "<table border=\"1\" class=\"dataframe\">\n",
       "  <thead>\n",
       "    <tr>\n",
       "      <th></th>\n",
       "      <th colspan=\"5\" halign=\"left\">slope</th>\n",
       "      <th colspan=\"5\" halign=\"left\">exp_param</th>\n",
       "      <th>...</th>\n",
       "      <th colspan=\"5\" halign=\"left\">standard_deviation</th>\n",
       "      <th colspan=\"5\" halign=\"left\">maximum_drawdown</th>\n",
       "    </tr>\n",
       "    <tr>\n",
       "      <th>time_range</th>\n",
       "      <th>1_year</th>\n",
       "      <th>3_months</th>\n",
       "      <th>3_years</th>\n",
       "      <th>5_years</th>\n",
       "      <th>6_months</th>\n",
       "      <th>1_year</th>\n",
       "      <th>3_months</th>\n",
       "      <th>3_years</th>\n",
       "      <th>5_years</th>\n",
       "      <th>6_months</th>\n",
       "      <th>...</th>\n",
       "      <th>1_year</th>\n",
       "      <th>3_months</th>\n",
       "      <th>3_years</th>\n",
       "      <th>5_years</th>\n",
       "      <th>6_months</th>\n",
       "      <th>1_year</th>\n",
       "      <th>3_months</th>\n",
       "      <th>3_years</th>\n",
       "      <th>5_years</th>\n",
       "      <th>6_months</th>\n",
       "    </tr>\n",
       "    <tr>\n",
       "      <th>ticker</th>\n",
       "      <th></th>\n",
       "      <th></th>\n",
       "      <th></th>\n",
       "      <th></th>\n",
       "      <th></th>\n",
       "      <th></th>\n",
       "      <th></th>\n",
       "      <th></th>\n",
       "      <th></th>\n",
       "      <th></th>\n",
       "      <th></th>\n",
       "      <th></th>\n",
       "      <th></th>\n",
       "      <th></th>\n",
       "      <th></th>\n",
       "      <th></th>\n",
       "      <th></th>\n",
       "      <th></th>\n",
       "      <th></th>\n",
       "      <th></th>\n",
       "      <th></th>\n",
       "    </tr>\n",
       "  </thead>\n",
       "  <tbody>\n",
       "    <tr>\n",
       "      <th>AAPL</th>\n",
       "      <td>0.223789</td>\n",
       "      <td>0.154475</td>\n",
       "      <td>0.079731</td>\n",
       "      <td>0.071666</td>\n",
       "      <td>0.145273</td>\n",
       "      <td>1.0</td>\n",
       "      <td>1.0</td>\n",
       "      <td>1.0</td>\n",
       "      <td>1.0</td>\n",
       "      <td>1.0</td>\n",
       "      <td>...</td>\n",
       "      <td>23.216240</td>\n",
       "      <td>3.876692</td>\n",
       "      <td>25.088725</td>\n",
       "      <td>37.640972</td>\n",
       "      <td>7.295974</td>\n",
       "      <td>-80.564037</td>\n",
       "      <td>-13.130415</td>\n",
       "      <td>-86.827566</td>\n",
       "      <td>-130.432588</td>\n",
       "      <td>-25.422713</td>\n",
       "    </tr>\n",
       "    <tr>\n",
       "      <th>ARM</th>\n",
       "      <td>0.086434</td>\n",
       "      <td>0.133196</td>\n",
       "      <td>0.106394</td>\n",
       "      <td>0.045635</td>\n",
       "      <td>0.109620</td>\n",
       "      <td>1.0</td>\n",
       "      <td>1.0</td>\n",
       "      <td>1.0</td>\n",
       "      <td>1.0</td>\n",
       "      <td>1.0</td>\n",
       "      <td>...</td>\n",
       "      <td>8.966773</td>\n",
       "      <td>3.342676</td>\n",
       "      <td>33.478634</td>\n",
       "      <td>23.968913</td>\n",
       "      <td>5.505398</td>\n",
       "      <td>-31.116126</td>\n",
       "      <td>-11.321694</td>\n",
       "      <td>-115.863534</td>\n",
       "      <td>-83.056499</td>\n",
       "      <td>-19.183478</td>\n",
       "    </tr>\n",
       "    <tr>\n",
       "      <th>AVAV</th>\n",
       "      <td>0.136736</td>\n",
       "      <td>-0.718977</td>\n",
       "      <td>0.121194</td>\n",
       "      <td>0.057946</td>\n",
       "      <td>-0.123619</td>\n",
       "      <td>1.0</td>\n",
       "      <td>1.0</td>\n",
       "      <td>1.0</td>\n",
       "      <td>1.0</td>\n",
       "      <td>1.0</td>\n",
       "      <td>...</td>\n",
       "      <td>14.185198</td>\n",
       "      <td>18.043342</td>\n",
       "      <td>38.135596</td>\n",
       "      <td>30.434846</td>\n",
       "      <td>6.208485</td>\n",
       "      <td>-49.224886</td>\n",
       "      <td>-61.113079</td>\n",
       "      <td>-131.980440</td>\n",
       "      <td>-105.462093</td>\n",
       "      <td>-21.633374</td>\n",
       "    </tr>\n",
       "    <tr>\n",
       "      <th>BRK.B</th>\n",
       "      <td>0.223771</td>\n",
       "      <td>-0.132681</td>\n",
       "      <td>0.168472</td>\n",
       "      <td>0.140429</td>\n",
       "      <td>0.091331</td>\n",
       "      <td>1.0</td>\n",
       "      <td>1.0</td>\n",
       "      <td>1.0</td>\n",
       "      <td>1.0</td>\n",
       "      <td>1.0</td>\n",
       "      <td>...</td>\n",
       "      <td>23.214388</td>\n",
       "      <td>3.329729</td>\n",
       "      <td>53.012278</td>\n",
       "      <td>73.756692</td>\n",
       "      <td>4.586868</td>\n",
       "      <td>-80.557609</td>\n",
       "      <td>-11.277843</td>\n",
       "      <td>-183.465963</td>\n",
       "      <td>-255.579907</td>\n",
       "      <td>-15.982872</td>\n",
       "    </tr>\n",
       "    <tr>\n",
       "      <th>CEG</th>\n",
       "      <td>0.332586</td>\n",
       "      <td>0.781764</td>\n",
       "      <td>0.193706</td>\n",
       "      <td>0.102284</td>\n",
       "      <td>0.530993</td>\n",
       "      <td>1.0</td>\n",
       "      <td>1.0</td>\n",
       "      <td>1.0</td>\n",
       "      <td>1.0</td>\n",
       "      <td>1.0</td>\n",
       "      <td>...</td>\n",
       "      <td>34.503069</td>\n",
       "      <td>19.619032</td>\n",
       "      <td>60.952687</td>\n",
       "      <td>53.722103</td>\n",
       "      <td>26.667843</td>\n",
       "      <td>-119.731122</td>\n",
       "      <td>-66.449967</td>\n",
       "      <td>-210.946291</td>\n",
       "      <td>-186.156532</td>\n",
       "      <td>-92.923703</td>\n",
       "    </tr>\n",
       "    <tr>\n",
       "      <th>GOOGL</th>\n",
       "      <td>0.108011</td>\n",
       "      <td>0.352636</td>\n",
       "      <td>0.071813</td>\n",
       "      <td>0.049584</td>\n",
       "      <td>0.234325</td>\n",
       "      <td>1.0</td>\n",
       "      <td>1.0</td>\n",
       "      <td>1.0</td>\n",
       "      <td>1.0</td>\n",
       "      <td>1.0</td>\n",
       "      <td>...</td>\n",
       "      <td>11.205239</td>\n",
       "      <td>8.849700</td>\n",
       "      <td>22.597135</td>\n",
       "      <td>26.042767</td>\n",
       "      <td>11.768402</td>\n",
       "      <td>-38.883959</td>\n",
       "      <td>-29.974071</td>\n",
       "      <td>-78.204622</td>\n",
       "      <td>-90.242767</td>\n",
       "      <td>-41.006823</td>\n",
       "    </tr>\n",
       "    <tr>\n",
       "      <th>GS</th>\n",
       "      <td>0.641326</td>\n",
       "      <td>0.389513</td>\n",
       "      <td>0.211872</td>\n",
       "      <td>0.144978</td>\n",
       "      <td>0.852285</td>\n",
       "      <td>1.0</td>\n",
       "      <td>1.0</td>\n",
       "      <td>1.0</td>\n",
       "      <td>1.0</td>\n",
       "      <td>1.0</td>\n",
       "      <td>...</td>\n",
       "      <td>66.532243</td>\n",
       "      <td>9.775155</td>\n",
       "      <td>66.668776</td>\n",
       "      <td>76.146131</td>\n",
       "      <td>42.803983</td>\n",
       "      <td>-230.877439</td>\n",
       "      <td>-33.108603</td>\n",
       "      <td>-230.728647</td>\n",
       "      <td>-263.859733</td>\n",
       "      <td>-149.149846</td>\n",
       "    </tr>\n",
       "    <tr>\n",
       "      <th>JPM</th>\n",
       "      <td>0.195807</td>\n",
       "      <td>0.211988</td>\n",
       "      <td>0.111691</td>\n",
       "      <td>0.054717</td>\n",
       "      <td>0.299068</td>\n",
       "      <td>1.0</td>\n",
       "      <td>1.0</td>\n",
       "      <td>1.0</td>\n",
       "      <td>1.0</td>\n",
       "      <td>1.0</td>\n",
       "      <td>...</td>\n",
       "      <td>20.313332</td>\n",
       "      <td>5.320010</td>\n",
       "      <td>35.145153</td>\n",
       "      <td>28.738627</td>\n",
       "      <td>15.019968</td>\n",
       "      <td>-70.490487</td>\n",
       "      <td>-18.018957</td>\n",
       "      <td>-121.631056</td>\n",
       "      <td>-99.584397</td>\n",
       "      <td>-52.336857</td>\n",
       "    </tr>\n",
       "    <tr>\n",
       "      <th>LLY</th>\n",
       "      <td>0.222644</td>\n",
       "      <td>-0.426864</td>\n",
       "      <td>0.674020</td>\n",
       "      <td>0.433744</td>\n",
       "      <td>-1.082885</td>\n",
       "      <td>1.0</td>\n",
       "      <td>1.0</td>\n",
       "      <td>1.0</td>\n",
       "      <td>1.0</td>\n",
       "      <td>1.0</td>\n",
       "      <td>...</td>\n",
       "      <td>23.097436</td>\n",
       "      <td>10.712512</td>\n",
       "      <td>212.090630</td>\n",
       "      <td>227.813350</td>\n",
       "      <td>54.385329</td>\n",
       "      <td>-80.151768</td>\n",
       "      <td>-36.283444</td>\n",
       "      <td>-734.007536</td>\n",
       "      <td>-789.413314</td>\n",
       "      <td>-189.504874</td>\n",
       "    </tr>\n",
       "    <tr>\n",
       "      <th>META</th>\n",
       "      <td>0.445278</td>\n",
       "      <td>0.680924</td>\n",
       "      <td>0.462670</td>\n",
       "      <td>0.147592</td>\n",
       "      <td>0.668180</td>\n",
       "      <td>1.0</td>\n",
       "      <td>1.0</td>\n",
       "      <td>1.0</td>\n",
       "      <td>1.0</td>\n",
       "      <td>1.0</td>\n",
       "      <td>...</td>\n",
       "      <td>46.193900</td>\n",
       "      <td>17.088369</td>\n",
       "      <td>145.586092</td>\n",
       "      <td>77.518959</td>\n",
       "      <td>33.557776</td>\n",
       "      <td>-160.300163</td>\n",
       "      <td>-57.878571</td>\n",
       "      <td>-503.847288</td>\n",
       "      <td>-268.616823</td>\n",
       "      <td>-116.931575</td>\n",
       "    </tr>\n",
       "    <tr>\n",
       "      <th>MU</th>\n",
       "      <td>-0.024019</td>\n",
       "      <td>-0.063542</td>\n",
       "      <td>0.050940</td>\n",
       "      <td>0.024640</td>\n",
       "      <td>0.021502</td>\n",
       "      <td>1.0</td>\n",
       "      <td>1.0</td>\n",
       "      <td>1.0</td>\n",
       "      <td>1.0</td>\n",
       "      <td>1.0</td>\n",
       "      <td>...</td>\n",
       "      <td>2.491802</td>\n",
       "      <td>1.594638</td>\n",
       "      <td>16.029009</td>\n",
       "      <td>12.941562</td>\n",
       "      <td>1.079878</td>\n",
       "      <td>-8.646947</td>\n",
       "      <td>-5.401063</td>\n",
       "      <td>-55.473520</td>\n",
       "      <td>-44.844789</td>\n",
       "      <td>-3.762820</td>\n",
       "    </tr>\n",
       "    <tr>\n",
       "      <th>NVDA</th>\n",
       "      <td>0.204188</td>\n",
       "      <td>-0.048926</td>\n",
       "      <td>0.126729</td>\n",
       "      <td>0.061946</td>\n",
       "      <td>0.188153</td>\n",
       "      <td>1.0</td>\n",
       "      <td>1.0</td>\n",
       "      <td>1.0</td>\n",
       "      <td>1.0</td>\n",
       "      <td>1.0</td>\n",
       "      <td>...</td>\n",
       "      <td>21.182792</td>\n",
       "      <td>1.227836</td>\n",
       "      <td>39.877066</td>\n",
       "      <td>32.535394</td>\n",
       "      <td>9.449556</td>\n",
       "      <td>-73.507651</td>\n",
       "      <td>-4.158699</td>\n",
       "      <td>-138.007357</td>\n",
       "      <td>-112.740862</td>\n",
       "      <td>-32.926838</td>\n",
       "    </tr>\n",
       "    <tr>\n",
       "      <th>RBLX</th>\n",
       "      <td>0.062325</td>\n",
       "      <td>0.188655</td>\n",
       "      <td>0.005449</td>\n",
       "      <td>-0.022265</td>\n",
       "      <td>0.152707</td>\n",
       "      <td>1.0</td>\n",
       "      <td>1.0</td>\n",
       "      <td>1.0</td>\n",
       "      <td>1.0</td>\n",
       "      <td>1.0</td>\n",
       "      <td>...</td>\n",
       "      <td>6.465659</td>\n",
       "      <td>4.734451</td>\n",
       "      <td>1.714680</td>\n",
       "      <td>11.694358</td>\n",
       "      <td>7.669345</td>\n",
       "      <td>-22.436862</td>\n",
       "      <td>-16.035660</td>\n",
       "      <td>-5.934198</td>\n",
       "      <td>-40.523008</td>\n",
       "      <td>-26.723720</td>\n",
       "    </tr>\n",
       "    <tr>\n",
       "      <th>SHOP</th>\n",
       "      <td>0.100139</td>\n",
       "      <td>0.168251</td>\n",
       "      <td>0.047297</td>\n",
       "      <td>-0.020403</td>\n",
       "      <td>0.309997</td>\n",
       "      <td>1.0</td>\n",
       "      <td>1.0</td>\n",
       "      <td>1.0</td>\n",
       "      <td>1.0</td>\n",
       "      <td>1.0</td>\n",
       "      <td>...</td>\n",
       "      <td>10.388601</td>\n",
       "      <td>4.222407</td>\n",
       "      <td>14.882780</td>\n",
       "      <td>10.716238</td>\n",
       "      <td>15.568865</td>\n",
       "      <td>-36.050094</td>\n",
       "      <td>-14.301359</td>\n",
       "      <td>-51.506626</td>\n",
       "      <td>-37.133648</td>\n",
       "      <td>-54.249479</td>\n",
       "    </tr>\n",
       "    <tr>\n",
       "      <th>SMR</th>\n",
       "      <td>0.061466</td>\n",
       "      <td>-0.023929</td>\n",
       "      <td>0.002248</td>\n",
       "      <td>0.005007</td>\n",
       "      <td>0.112061</td>\n",
       "      <td>1.0</td>\n",
       "      <td>1.0</td>\n",
       "      <td>1.0</td>\n",
       "      <td>1.0</td>\n",
       "      <td>1.0</td>\n",
       "      <td>...</td>\n",
       "      <td>6.376636</td>\n",
       "      <td>0.600507</td>\n",
       "      <td>0.707244</td>\n",
       "      <td>2.629943</td>\n",
       "      <td>5.628002</td>\n",
       "      <td>-22.127937</td>\n",
       "      <td>-2.033927</td>\n",
       "      <td>-2.447646</td>\n",
       "      <td>-9.113214</td>\n",
       "      <td>-19.610689</td>\n",
       "    </tr>\n",
       "    <tr>\n",
       "      <th>SPOT</th>\n",
       "      <td>0.688579</td>\n",
       "      <td>0.774393</td>\n",
       "      <td>0.312019</td>\n",
       "      <td>0.042941</td>\n",
       "      <td>1.103576</td>\n",
       "      <td>1.0</td>\n",
       "      <td>1.0</td>\n",
       "      <td>1.0</td>\n",
       "      <td>1.0</td>\n",
       "      <td>1.0</td>\n",
       "      <td>...</td>\n",
       "      <td>71.434325</td>\n",
       "      <td>19.434031</td>\n",
       "      <td>98.181660</td>\n",
       "      <td>22.553706</td>\n",
       "      <td>55.424504</td>\n",
       "      <td>-247.888441</td>\n",
       "      <td>-65.823367</td>\n",
       "      <td>-339.789072</td>\n",
       "      <td>-78.152556</td>\n",
       "      <td>-193.125865</td>\n",
       "    </tr>\n",
       "    <tr>\n",
       "      <th>TGS</th>\n",
       "      <td>0.045203</td>\n",
       "      <td>0.074888</td>\n",
       "      <td>0.018187</td>\n",
       "      <td>0.010275</td>\n",
       "      <td>0.087803</td>\n",
       "      <td>1.0</td>\n",
       "      <td>1.0</td>\n",
       "      <td>1.0</td>\n",
       "      <td>1.0</td>\n",
       "      <td>1.0</td>\n",
       "      <td>...</td>\n",
       "      <td>4.689476</td>\n",
       "      <td>1.879375</td>\n",
       "      <td>5.722928</td>\n",
       "      <td>5.396603</td>\n",
       "      <td>4.409688</td>\n",
       "      <td>-16.273227</td>\n",
       "      <td>-6.365474</td>\n",
       "      <td>-19.806026</td>\n",
       "      <td>-18.700178</td>\n",
       "      <td>-15.365494</td>\n",
       "    </tr>\n",
       "    <tr>\n",
       "      <th>VRSK</th>\n",
       "      <td>0.150589</td>\n",
       "      <td>-0.120509</td>\n",
       "      <td>0.103681</td>\n",
       "      <td>0.056436</td>\n",
       "      <td>0.103905</td>\n",
       "      <td>1.0</td>\n",
       "      <td>1.0</td>\n",
       "      <td>1.0</td>\n",
       "      <td>1.0</td>\n",
       "      <td>1.0</td>\n",
       "      <td>...</td>\n",
       "      <td>15.622328</td>\n",
       "      <td>3.024287</td>\n",
       "      <td>32.624753</td>\n",
       "      <td>29.641520</td>\n",
       "      <td>5.218371</td>\n",
       "      <td>-54.211958</td>\n",
       "      <td>-10.243307</td>\n",
       "      <td>-112.908404</td>\n",
       "      <td>-102.713079</td>\n",
       "      <td>-18.183336</td>\n",
       "    </tr>\n",
       "    <tr>\n",
       "      <th>Z</th>\n",
       "      <td>0.090924</td>\n",
       "      <td>0.061837</td>\n",
       "      <td>0.023842</td>\n",
       "      <td>-0.025944</td>\n",
       "      <td>0.185669</td>\n",
       "      <td>1.0</td>\n",
       "      <td>1.0</td>\n",
       "      <td>1.0</td>\n",
       "      <td>1.0</td>\n",
       "      <td>1.0</td>\n",
       "      <td>...</td>\n",
       "      <td>9.432584</td>\n",
       "      <td>1.551847</td>\n",
       "      <td>7.502185</td>\n",
       "      <td>13.626199</td>\n",
       "      <td>9.324775</td>\n",
       "      <td>-32.732562</td>\n",
       "      <td>-5.256131</td>\n",
       "      <td>-25.963713</td>\n",
       "      <td>-47.217174</td>\n",
       "      <td>-32.492042</td>\n",
       "    </tr>\n",
       "  </tbody>\n",
       "</table>\n",
       "<p>19 rows × 25 columns</p>\n",
       "</div>"
      ],
      "text/plain": [
       "               slope                                         exp_param  \\\n",
       "time_range    1_year  3_months   3_years   5_years  6_months    1_year   \n",
       "ticker                                                                   \n",
       "AAPL        0.223789  0.154475  0.079731  0.071666  0.145273       1.0   \n",
       "ARM         0.086434  0.133196  0.106394  0.045635  0.109620       1.0   \n",
       "AVAV        0.136736 -0.718977  0.121194  0.057946 -0.123619       1.0   \n",
       "BRK.B       0.223771 -0.132681  0.168472  0.140429  0.091331       1.0   \n",
       "CEG         0.332586  0.781764  0.193706  0.102284  0.530993       1.0   \n",
       "GOOGL       0.108011  0.352636  0.071813  0.049584  0.234325       1.0   \n",
       "GS          0.641326  0.389513  0.211872  0.144978  0.852285       1.0   \n",
       "JPM         0.195807  0.211988  0.111691  0.054717  0.299068       1.0   \n",
       "LLY         0.222644 -0.426864  0.674020  0.433744 -1.082885       1.0   \n",
       "META        0.445278  0.680924  0.462670  0.147592  0.668180       1.0   \n",
       "MU         -0.024019 -0.063542  0.050940  0.024640  0.021502       1.0   \n",
       "NVDA        0.204188 -0.048926  0.126729  0.061946  0.188153       1.0   \n",
       "RBLX        0.062325  0.188655  0.005449 -0.022265  0.152707       1.0   \n",
       "SHOP        0.100139  0.168251  0.047297 -0.020403  0.309997       1.0   \n",
       "SMR         0.061466 -0.023929  0.002248  0.005007  0.112061       1.0   \n",
       "SPOT        0.688579  0.774393  0.312019  0.042941  1.103576       1.0   \n",
       "TGS         0.045203  0.074888  0.018187  0.010275  0.087803       1.0   \n",
       "VRSK        0.150589 -0.120509  0.103681  0.056436  0.103905       1.0   \n",
       "Z           0.090924  0.061837  0.023842 -0.025944  0.185669       1.0   \n",
       "\n",
       "                                              ... standard_deviation  \\\n",
       "time_range 3_months 3_years 5_years 6_months  ...             1_year   \n",
       "ticker                                        ...                      \n",
       "AAPL            1.0     1.0     1.0      1.0  ...          23.216240   \n",
       "ARM             1.0     1.0     1.0      1.0  ...           8.966773   \n",
       "AVAV            1.0     1.0     1.0      1.0  ...          14.185198   \n",
       "BRK.B           1.0     1.0     1.0      1.0  ...          23.214388   \n",
       "CEG             1.0     1.0     1.0      1.0  ...          34.503069   \n",
       "GOOGL           1.0     1.0     1.0      1.0  ...          11.205239   \n",
       "GS              1.0     1.0     1.0      1.0  ...          66.532243   \n",
       "JPM             1.0     1.0     1.0      1.0  ...          20.313332   \n",
       "LLY             1.0     1.0     1.0      1.0  ...          23.097436   \n",
       "META            1.0     1.0     1.0      1.0  ...          46.193900   \n",
       "MU              1.0     1.0     1.0      1.0  ...           2.491802   \n",
       "NVDA            1.0     1.0     1.0      1.0  ...          21.182792   \n",
       "RBLX            1.0     1.0     1.0      1.0  ...           6.465659   \n",
       "SHOP            1.0     1.0     1.0      1.0  ...          10.388601   \n",
       "SMR             1.0     1.0     1.0      1.0  ...           6.376636   \n",
       "SPOT            1.0     1.0     1.0      1.0  ...          71.434325   \n",
       "TGS             1.0     1.0     1.0      1.0  ...           4.689476   \n",
       "VRSK            1.0     1.0     1.0      1.0  ...          15.622328   \n",
       "Z               1.0     1.0     1.0      1.0  ...           9.432584   \n",
       "\n",
       "                                                         maximum_drawdown  \\\n",
       "time_range   3_months     3_years     5_years   6_months           1_year   \n",
       "ticker                                                                      \n",
       "AAPL         3.876692   25.088725   37.640972   7.295974       -80.564037   \n",
       "ARM          3.342676   33.478634   23.968913   5.505398       -31.116126   \n",
       "AVAV        18.043342   38.135596   30.434846   6.208485       -49.224886   \n",
       "BRK.B        3.329729   53.012278   73.756692   4.586868       -80.557609   \n",
       "CEG         19.619032   60.952687   53.722103  26.667843      -119.731122   \n",
       "GOOGL        8.849700   22.597135   26.042767  11.768402       -38.883959   \n",
       "GS           9.775155   66.668776   76.146131  42.803983      -230.877439   \n",
       "JPM          5.320010   35.145153   28.738627  15.019968       -70.490487   \n",
       "LLY         10.712512  212.090630  227.813350  54.385329       -80.151768   \n",
       "META        17.088369  145.586092   77.518959  33.557776      -160.300163   \n",
       "MU           1.594638   16.029009   12.941562   1.079878        -8.646947   \n",
       "NVDA         1.227836   39.877066   32.535394   9.449556       -73.507651   \n",
       "RBLX         4.734451    1.714680   11.694358   7.669345       -22.436862   \n",
       "SHOP         4.222407   14.882780   10.716238  15.568865       -36.050094   \n",
       "SMR          0.600507    0.707244    2.629943   5.628002       -22.127937   \n",
       "SPOT        19.434031   98.181660   22.553706  55.424504      -247.888441   \n",
       "TGS          1.879375    5.722928    5.396603   4.409688       -16.273227   \n",
       "VRSK         3.024287   32.624753   29.641520   5.218371       -54.211958   \n",
       "Z            1.551847    7.502185   13.626199   9.324775       -32.732562   \n",
       "\n",
       "                                                           \n",
       "time_range   3_months     3_years     5_years    6_months  \n",
       "ticker                                                     \n",
       "AAPL       -13.130415  -86.827566 -130.432588  -25.422713  \n",
       "ARM        -11.321694 -115.863534  -83.056499  -19.183478  \n",
       "AVAV       -61.113079 -131.980440 -105.462093  -21.633374  \n",
       "BRK.B      -11.277843 -183.465963 -255.579907  -15.982872  \n",
       "CEG        -66.449967 -210.946291 -186.156532  -92.923703  \n",
       "GOOGL      -29.974071  -78.204622  -90.242767  -41.006823  \n",
       "GS         -33.108603 -230.728647 -263.859733 -149.149846  \n",
       "JPM        -18.018957 -121.631056  -99.584397  -52.336857  \n",
       "LLY        -36.283444 -734.007536 -789.413314 -189.504874  \n",
       "META       -57.878571 -503.847288 -268.616823 -116.931575  \n",
       "MU          -5.401063  -55.473520  -44.844789   -3.762820  \n",
       "NVDA        -4.158699 -138.007357 -112.740862  -32.926838  \n",
       "RBLX       -16.035660   -5.934198  -40.523008  -26.723720  \n",
       "SHOP       -14.301359  -51.506626  -37.133648  -54.249479  \n",
       "SMR         -2.033927   -2.447646   -9.113214  -19.610689  \n",
       "SPOT       -65.823367 -339.789072  -78.152556 -193.125865  \n",
       "TGS         -6.365474  -19.806026  -18.700178  -15.365494  \n",
       "VRSK       -10.243307 -112.908404 -102.713079  -18.183336  \n",
       "Z           -5.256131  -25.963713  -47.217174  -32.492042  \n",
       "\n",
       "[19 rows x 25 columns]"
      ]
     },
     "execution_count": 58,
     "metadata": {},
     "output_type": "execute_result"
    }
   ],
   "source": [
    "# Example usage\n",
    "historical_data = {}\n",
    "for ticker in tickers:\n",
    "    data = load_from_cache(ticker)\n",
    "    data = None\n",
    "    if data is None:\n",
    "        data = fetch_historical_data(ticker)\n",
    "        save_to_cache(ticker, data)\n",
    "    historical_data[ticker] = data\n",
    "    print(f\"Fetched data for {ticker}\")\n",
    "\n",
    "# Display the first few rows of historical data for the first ticker\n",
    "first_ticker = tickers[0]\n",
    "historical_data[first_ticker].head()\n",
    "\n",
    "# Calculate metrics for multiple time ranges\n",
    "aggregated_results = calculate_metrics_for_multiple_ranges(historical_data)\n",
    "\n",
    "pivoted_results = aggregated_results.pivot(index='ticker', columns='time_range', values=['slope', 'exp_param', 'variance', 'standard_deviation', 'maximum_drawdown'])\n",
    "pivoted_results"
   ]
  },
  {
   "cell_type": "code",
   "execution_count": 57,
   "metadata": {},
   "outputs": [
    {
     "data": {
      "text/html": [
       "<div>\n",
       "<style scoped>\n",
       "    .dataframe tbody tr th:only-of-type {\n",
       "        vertical-align: middle;\n",
       "    }\n",
       "\n",
       "    .dataframe tbody tr th {\n",
       "        vertical-align: top;\n",
       "    }\n",
       "\n",
       "    .dataframe thead th {\n",
       "        text-align: right;\n",
       "    }\n",
       "</style>\n",
       "<table border=\"1\" class=\"dataframe\">\n",
       "  <thead>\n",
       "    <tr style=\"text-align: right;\">\n",
       "      <th></th>\n",
       "      <th>ticker</th>\n",
       "      <th>slope</th>\n",
       "      <th>exp_param</th>\n",
       "      <th>variance</th>\n",
       "      <th>standard_deviation</th>\n",
       "      <th>maximum_drawdown</th>\n",
       "      <th>time_range</th>\n",
       "    </tr>\n",
       "  </thead>\n",
       "  <tbody>\n",
       "    <tr>\n",
       "      <th>59</th>\n",
       "      <td>SPOT</td>\n",
       "      <td>1.103576</td>\n",
       "      <td>1.0</td>\n",
       "      <td>3071.875645</td>\n",
       "      <td>55.424504</td>\n",
       "      <td>-193.125865</td>\n",
       "      <td>6_months</td>\n",
       "    </tr>\n",
       "    <tr>\n",
       "      <th>65</th>\n",
       "      <td>GS</td>\n",
       "      <td>0.852285</td>\n",
       "      <td>1.0</td>\n",
       "      <td>1832.180962</td>\n",
       "      <td>42.803983</td>\n",
       "      <td>-149.149846</td>\n",
       "      <td>6_months</td>\n",
       "    </tr>\n",
       "    <tr>\n",
       "      <th>94</th>\n",
       "      <td>CEG</td>\n",
       "      <td>0.781764</td>\n",
       "      <td>1.0</td>\n",
       "      <td>384.906417</td>\n",
       "      <td>19.619032</td>\n",
       "      <td>-66.449967</td>\n",
       "      <td>3_months</td>\n",
       "    </tr>\n",
       "    <tr>\n",
       "      <th>78</th>\n",
       "      <td>SPOT</td>\n",
       "      <td>0.774393</td>\n",
       "      <td>1.0</td>\n",
       "      <td>377.681572</td>\n",
       "      <td>19.434031</td>\n",
       "      <td>-65.823367</td>\n",
       "      <td>3_months</td>\n",
       "    </tr>\n",
       "    <tr>\n",
       "      <th>40</th>\n",
       "      <td>SPOT</td>\n",
       "      <td>0.688579</td>\n",
       "      <td>1.0</td>\n",
       "      <td>5102.862761</td>\n",
       "      <td>71.434325</td>\n",
       "      <td>-247.888441</td>\n",
       "      <td>1_year</td>\n",
       "    </tr>\n",
       "    <tr>\n",
       "      <th>...</th>\n",
       "      <td>...</td>\n",
       "      <td>...</td>\n",
       "      <td>...</td>\n",
       "      <td>...</td>\n",
       "      <td>...</td>\n",
       "      <td>...</td>\n",
       "      <td>...</td>\n",
       "    </tr>\n",
       "    <tr>\n",
       "      <th>68</th>\n",
       "      <td>AVAV</td>\n",
       "      <td>-0.123619</td>\n",
       "      <td>1.0</td>\n",
       "      <td>38.545287</td>\n",
       "      <td>6.208485</td>\n",
       "      <td>-21.633374</td>\n",
       "      <td>6_months</td>\n",
       "    </tr>\n",
       "    <tr>\n",
       "      <th>82</th>\n",
       "      <td>BRK.B</td>\n",
       "      <td>-0.132681</td>\n",
       "      <td>1.0</td>\n",
       "      <td>11.087094</td>\n",
       "      <td>3.329729</td>\n",
       "      <td>-11.277843</td>\n",
       "      <td>3_months</td>\n",
       "    </tr>\n",
       "    <tr>\n",
       "      <th>86</th>\n",
       "      <td>LLY</td>\n",
       "      <td>-0.426864</td>\n",
       "      <td>1.0</td>\n",
       "      <td>114.757905</td>\n",
       "      <td>10.712512</td>\n",
       "      <td>-36.283444</td>\n",
       "      <td>3_months</td>\n",
       "    </tr>\n",
       "    <tr>\n",
       "      <th>87</th>\n",
       "      <td>AVAV</td>\n",
       "      <td>-0.718977</td>\n",
       "      <td>1.0</td>\n",
       "      <td>325.562174</td>\n",
       "      <td>18.043342</td>\n",
       "      <td>-61.113079</td>\n",
       "      <td>3_months</td>\n",
       "    </tr>\n",
       "    <tr>\n",
       "      <th>67</th>\n",
       "      <td>LLY</td>\n",
       "      <td>-1.082885</td>\n",
       "      <td>1.0</td>\n",
       "      <td>2957.763978</td>\n",
       "      <td>54.385329</td>\n",
       "      <td>-189.504874</td>\n",
       "      <td>6_months</td>\n",
       "    </tr>\n",
       "  </tbody>\n",
       "</table>\n",
       "<p>95 rows × 7 columns</p>\n",
       "</div>"
      ],
      "text/plain": [
       "   ticker     slope  exp_param     variance  standard_deviation  \\\n",
       "59   SPOT  1.103576        1.0  3071.875645           55.424504   \n",
       "65     GS  0.852285        1.0  1832.180962           42.803983   \n",
       "94    CEG  0.781764        1.0   384.906417           19.619032   \n",
       "78   SPOT  0.774393        1.0   377.681572           19.434031   \n",
       "40   SPOT  0.688579        1.0  5102.862761           71.434325   \n",
       "..    ...       ...        ...          ...                 ...   \n",
       "68   AVAV -0.123619        1.0    38.545287            6.208485   \n",
       "82  BRK.B -0.132681        1.0    11.087094            3.329729   \n",
       "86    LLY -0.426864        1.0   114.757905           10.712512   \n",
       "87   AVAV -0.718977        1.0   325.562174           18.043342   \n",
       "67    LLY -1.082885        1.0  2957.763978           54.385329   \n",
       "\n",
       "    maximum_drawdown time_range  \n",
       "59       -193.125865   6_months  \n",
       "65       -149.149846   6_months  \n",
       "94        -66.449967   3_months  \n",
       "78        -65.823367   3_months  \n",
       "40       -247.888441     1_year  \n",
       "..               ...        ...  \n",
       "68        -21.633374   6_months  \n",
       "82        -11.277843   3_months  \n",
       "86        -36.283444   3_months  \n",
       "87        -61.113079   3_months  \n",
       "67       -189.504874   6_months  \n",
       "\n",
       "[95 rows x 7 columns]"
      ]
     },
     "execution_count": 57,
     "metadata": {},
     "output_type": "execute_result"
    }
   ],
   "source": [
    "aggregated_results.sort_values('slope', ascending=False)\n"
   ]
  },
  {
   "cell_type": "code",
   "execution_count": 63,
   "metadata": {},
   "outputs": [
    {
     "data": {
      "application/vnd.plotly.v1+json": {
       "config": {
        "plotlyServerURL": "https://plot.ly"
       },
       "data": [
        {
         "hovertemplate": "ticker=META<br>time_range=%{x}<br>slope=%{y}<extra></extra>",
         "legendgroup": "META",
         "line": {
          "color": "#636efa",
          "dash": "solid"
         },
         "marker": {
          "symbol": "circle"
         },
         "mode": "lines+markers",
         "name": "META",
         "orientation": "v",
         "showlegend": true,
         "type": "scatter",
         "x": [
          "5_years",
          "3_years",
          "1_year",
          "6_months",
          "3_months"
         ],
         "xaxis": "x",
         "y": [
          0.14759166077108088,
          0.46266968557985294,
          0.4452782300132678,
          0.6681804278127214,
          0.6809243611635986
         ],
         "yaxis": "y"
        },
        {
         "hovertemplate": "ticker=LLY<br>time_range=%{x}<br>slope=%{y}<extra></extra>",
         "legendgroup": "LLY",
         "line": {
          "color": "#EF553B",
          "dash": "solid"
         },
         "marker": {
          "symbol": "circle"
         },
         "mode": "lines+markers",
         "name": "LLY",
         "orientation": "v",
         "showlegend": true,
         "type": "scatter",
         "x": [
          "5_years",
          "3_years",
          "1_year",
          "6_months",
          "3_months"
         ],
         "xaxis": "x",
         "y": [
          0.43374357906199756,
          0.6740197756045735,
          0.2226437997196528,
          -1.082884993970198,
          -0.42686404323337923
         ],
         "yaxis": "y"
        },
        {
         "hovertemplate": "ticker=AAPL<br>time_range=%{x}<br>slope=%{y}<extra></extra>",
         "legendgroup": "AAPL",
         "line": {
          "color": "#00cc96",
          "dash": "solid"
         },
         "marker": {
          "symbol": "circle"
         },
         "mode": "lines+markers",
         "name": "AAPL",
         "orientation": "v",
         "showlegend": true,
         "type": "scatter",
         "x": [
          "5_years",
          "3_years",
          "1_year",
          "6_months",
          "3_months"
         ],
         "xaxis": "x",
         "y": [
          0.07166625697832202,
          0.0797314653687461,
          0.22378899043375844,
          0.14527264335494203,
          0.15447546798393802
         ],
         "yaxis": "y"
        },
        {
         "hovertemplate": "ticker=CEG<br>time_range=%{x}<br>slope=%{y}<extra></extra>",
         "legendgroup": "CEG",
         "line": {
          "color": "#ab63fa",
          "dash": "solid"
         },
         "marker": {
          "symbol": "circle"
         },
         "mode": "lines+markers",
         "name": "CEG",
         "orientation": "v",
         "showlegend": true,
         "type": "scatter",
         "x": [
          "5_years",
          "3_years",
          "1_year",
          "6_months",
          "3_months"
         ],
         "xaxis": "x",
         "y": [
          0.10228380853276435,
          0.19370641948358724,
          0.33258644976282686,
          0.5309925912333443,
          0.7817643180768113
         ],
         "yaxis": "y"
        },
        {
         "hovertemplate": "ticker=MU<br>time_range=%{x}<br>slope=%{y}<extra></extra>",
         "legendgroup": "MU",
         "line": {
          "color": "#FFA15A",
          "dash": "solid"
         },
         "marker": {
          "symbol": "circle"
         },
         "mode": "lines+markers",
         "name": "MU",
         "orientation": "v",
         "showlegend": true,
         "type": "scatter",
         "x": [
          "5_years",
          "3_years",
          "1_year",
          "6_months",
          "3_months"
         ],
         "xaxis": "x",
         "y": [
          0.02463999368641419,
          0.05093987118281442,
          -0.02401929725725244,
          0.02150182801848764,
          -0.06354191427697421
         ],
         "yaxis": "y"
        },
        {
         "hovertemplate": "ticker=TGS<br>time_range=%{x}<br>slope=%{y}<extra></extra>",
         "legendgroup": "TGS",
         "line": {
          "color": "#19d3f3",
          "dash": "solid"
         },
         "marker": {
          "symbol": "circle"
         },
         "mode": "lines+markers",
         "name": "TGS",
         "orientation": "v",
         "showlegend": true,
         "type": "scatter",
         "x": [
          "5_years",
          "3_years",
          "1_year",
          "6_months",
          "3_months"
         ],
         "xaxis": "x",
         "y": [
          0.010274823177983668,
          0.018187351594747627,
          0.04520340735887502,
          0.087802821793543,
          0.07488792527113824
         ],
         "yaxis": "y"
        },
        {
         "hovertemplate": "ticker=JPM<br>time_range=%{x}<br>slope=%{y}<extra></extra>",
         "legendgroup": "JPM",
         "line": {
          "color": "#FF6692",
          "dash": "solid"
         },
         "marker": {
          "symbol": "circle"
         },
         "mode": "lines+markers",
         "name": "JPM",
         "orientation": "v",
         "showlegend": true,
         "type": "scatter",
         "x": [
          "5_years",
          "3_years",
          "1_year",
          "6_months",
          "3_months"
         ],
         "xaxis": "x",
         "y": [
          0.05471670166242262,
          0.11169059335486624,
          0.19580690710200424,
          0.29906775463064955,
          0.21198772470676058
         ],
         "yaxis": "y"
        },
        {
         "hovertemplate": "ticker=SMR<br>time_range=%{x}<br>slope=%{y}<extra></extra>",
         "legendgroup": "SMR",
         "line": {
          "color": "#B6E880",
          "dash": "solid"
         },
         "marker": {
          "symbol": "circle"
         },
         "mode": "lines+markers",
         "name": "SMR",
         "orientation": "v",
         "showlegend": true,
         "type": "scatter",
         "x": [
          "5_years",
          "3_years",
          "1_year",
          "6_months",
          "3_months"
         ],
         "xaxis": "x",
         "y": [
          0.005007260324682237,
          0.002247608367287497,
          0.06146649190278835,
          0.11206108174106374,
          -0.023928558163443442
         ],
         "yaxis": "y"
        },
        {
         "hovertemplate": "ticker=ARM<br>time_range=%{x}<br>slope=%{y}<extra></extra>",
         "legendgroup": "ARM",
         "line": {
          "color": "#FF97FF",
          "dash": "solid"
         },
         "marker": {
          "symbol": "circle"
         },
         "mode": "lines+markers",
         "name": "ARM",
         "orientation": "v",
         "showlegend": true,
         "type": "scatter",
         "x": [
          "5_years",
          "3_years",
          "1_year",
          "6_months",
          "3_months"
         ],
         "xaxis": "x",
         "y": [
          0.045635438954052865,
          0.10639442932893517,
          0.08643368355151441,
          0.10961987424681183,
          0.13319640469406802
         ],
         "yaxis": "y"
        },
        {
         "hovertemplate": "ticker=AVAV<br>time_range=%{x}<br>slope=%{y}<extra></extra>",
         "legendgroup": "AVAV",
         "line": {
          "color": "#FECB52",
          "dash": "solid"
         },
         "marker": {
          "symbol": "circle"
         },
         "mode": "lines+markers",
         "name": "AVAV",
         "orientation": "v",
         "showlegend": true,
         "type": "scatter",
         "x": [
          "5_years",
          "3_years",
          "1_year",
          "6_months",
          "3_months"
         ],
         "xaxis": "x",
         "y": [
          0.05794620473788617,
          0.121194160165775,
          0.13673579468827968,
          -0.12361928274782007,
          -0.7189773993451417
         ],
         "yaxis": "y"
        },
        {
         "hovertemplate": "ticker=VRSK<br>time_range=%{x}<br>slope=%{y}<extra></extra>",
         "legendgroup": "VRSK",
         "line": {
          "color": "#636efa",
          "dash": "solid"
         },
         "marker": {
          "symbol": "circle"
         },
         "mode": "lines+markers",
         "name": "VRSK",
         "orientation": "v",
         "showlegend": true,
         "type": "scatter",
         "x": [
          "5_years",
          "3_years",
          "1_year",
          "6_months",
          "3_months"
         ],
         "xaxis": "x",
         "y": [
          0.05643575787414116,
          0.10368081166450793,
          0.15058877343808688,
          0.10390477696603277,
          -0.1205094896738546
         ],
         "yaxis": "y"
        },
        {
         "hovertemplate": "ticker=Z<br>time_range=%{x}<br>slope=%{y}<extra></extra>",
         "legendgroup": "Z",
         "line": {
          "color": "#EF553B",
          "dash": "solid"
         },
         "marker": {
          "symbol": "circle"
         },
         "mode": "lines+markers",
         "name": "Z",
         "orientation": "v",
         "showlegend": true,
         "type": "scatter",
         "x": [
          "5_years",
          "3_years",
          "1_year",
          "6_months",
          "3_months"
         ],
         "xaxis": "x",
         "y": [
          -0.025943502132356938,
          0.02384179344857437,
          0.0909237829819669,
          0.18566881093662266,
          0.061836837023259546
         ],
         "yaxis": "y"
        },
        {
         "hovertemplate": "ticker=SPOT<br>time_range=%{x}<br>slope=%{y}<extra></extra>",
         "legendgroup": "SPOT",
         "line": {
          "color": "#00cc96",
          "dash": "solid"
         },
         "marker": {
          "symbol": "circle"
         },
         "mode": "lines+markers",
         "name": "SPOT",
         "orientation": "v",
         "showlegend": true,
         "type": "scatter",
         "x": [
          "5_years",
          "3_years",
          "1_year",
          "6_months",
          "3_months"
         ],
         "xaxis": "x",
         "y": [
          0.04294096473504481,
          0.31201934987643815,
          0.6885790021278817,
          1.1035763712829114,
          0.7743925493990085
         ],
         "yaxis": "y"
        },
        {
         "hovertemplate": "ticker=RBLX<br>time_range=%{x}<br>slope=%{y}<extra></extra>",
         "legendgroup": "RBLX",
         "line": {
          "color": "#ab63fa",
          "dash": "solid"
         },
         "marker": {
          "symbol": "circle"
         },
         "mode": "lines+markers",
         "name": "RBLX",
         "orientation": "v",
         "showlegend": true,
         "type": "scatter",
         "x": [
          "5_years",
          "3_years",
          "1_year",
          "6_months",
          "3_months"
         ],
         "xaxis": "x",
         "y": [
          -0.022265389179206996,
          0.005449217367329738,
          0.06232461752434291,
          0.15270697279074275,
          0.18865482469125355
         ],
         "yaxis": "y"
        },
        {
         "hovertemplate": "ticker=BRK.B<br>time_range=%{x}<br>slope=%{y}<extra></extra>",
         "legendgroup": "BRK.B",
         "line": {
          "color": "#FFA15A",
          "dash": "solid"
         },
         "marker": {
          "symbol": "circle"
         },
         "mode": "lines+markers",
         "name": "BRK.B",
         "orientation": "v",
         "showlegend": true,
         "type": "scatter",
         "x": [
          "5_years",
          "3_years",
          "1_year",
          "6_months",
          "3_months"
         ],
         "xaxis": "x",
         "y": [
          0.14042852025934605,
          0.16847195880105334,
          0.22377113696481288,
          0.09133069921297769,
          -0.13268050809594967
         ],
         "yaxis": "y"
        },
        {
         "hovertemplate": "ticker=GOOGL<br>time_range=%{x}<br>slope=%{y}<extra></extra>",
         "legendgroup": "GOOGL",
         "line": {
          "color": "#19d3f3",
          "dash": "solid"
         },
         "marker": {
          "symbol": "circle"
         },
         "mode": "lines+markers",
         "name": "GOOGL",
         "orientation": "v",
         "showlegend": true,
         "type": "scatter",
         "x": [
          "5_years",
          "3_years",
          "1_year",
          "6_months",
          "3_months"
         ],
         "xaxis": "x",
         "y": [
          0.04958393805308097,
          0.07181324335820784,
          0.10801099617268745,
          0.23432470140914463,
          0.35263612390360277
         ],
         "yaxis": "y"
        },
        {
         "hovertemplate": "ticker=SHOP<br>time_range=%{x}<br>slope=%{y}<extra></extra>",
         "legendgroup": "SHOP",
         "line": {
          "color": "#FF6692",
          "dash": "solid"
         },
         "marker": {
          "symbol": "circle"
         },
         "mode": "lines+markers",
         "name": "SHOP",
         "orientation": "v",
         "showlegend": true,
         "type": "scatter",
         "x": [
          "5_years",
          "3_years",
          "1_year",
          "6_months",
          "3_months"
         ],
         "xaxis": "x",
         "y": [
          -0.020403103302545442,
          0.047297177169901033,
          0.10013914994247657,
          0.30999702213257124,
          0.16825128138537346
         ],
         "yaxis": "y"
        },
        {
         "hovertemplate": "ticker=NVDA<br>time_range=%{x}<br>slope=%{y}<extra></extra>",
         "legendgroup": "NVDA",
         "line": {
          "color": "#B6E880",
          "dash": "solid"
         },
         "marker": {
          "symbol": "circle"
         },
         "mode": "lines+markers",
         "name": "NVDA",
         "orientation": "v",
         "showlegend": true,
         "type": "scatter",
         "x": [
          "5_years",
          "3_years",
          "1_year",
          "6_months",
          "3_months"
         ],
         "xaxis": "x",
         "y": [
          0.061945528714791885,
          0.12672851889107656,
          0.2041879185465507,
          0.18815335719293297,
          -0.04892586539837182
         ],
         "yaxis": "y"
        },
        {
         "hovertemplate": "ticker=GS<br>time_range=%{x}<br>slope=%{y}<extra></extra>",
         "legendgroup": "GS",
         "line": {
          "color": "#FF97FF",
          "dash": "solid"
         },
         "marker": {
          "symbol": "circle"
         },
         "mode": "lines+markers",
         "name": "GS",
         "orientation": "v",
         "showlegend": true,
         "type": "scatter",
         "x": [
          "5_years",
          "3_years",
          "1_year",
          "6_months",
          "3_months"
         ],
         "xaxis": "x",
         "y": [
          0.14497787525406225,
          0.2118720357574435,
          0.6413262203850242,
          0.8522848347697395,
          0.38951298098515547
         ],
         "yaxis": "y"
        }
       ],
       "layout": {
        "legend": {
         "title": {
          "text": "ticker"
         },
         "tracegroupgap": 0
        },
        "margin": {
         "t": 60
        },
        "template": {
         "data": {
          "bar": [
           {
            "error_x": {
             "color": "#2a3f5f"
            },
            "error_y": {
             "color": "#2a3f5f"
            },
            "marker": {
             "line": {
              "color": "#E5ECF6",
              "width": 0.5
             },
             "pattern": {
              "fillmode": "overlay",
              "size": 10,
              "solidity": 0.2
             }
            },
            "type": "bar"
           }
          ],
          "barpolar": [
           {
            "marker": {
             "line": {
              "color": "#E5ECF6",
              "width": 0.5
             },
             "pattern": {
              "fillmode": "overlay",
              "size": 10,
              "solidity": 0.2
             }
            },
            "type": "barpolar"
           }
          ],
          "carpet": [
           {
            "aaxis": {
             "endlinecolor": "#2a3f5f",
             "gridcolor": "white",
             "linecolor": "white",
             "minorgridcolor": "white",
             "startlinecolor": "#2a3f5f"
            },
            "baxis": {
             "endlinecolor": "#2a3f5f",
             "gridcolor": "white",
             "linecolor": "white",
             "minorgridcolor": "white",
             "startlinecolor": "#2a3f5f"
            },
            "type": "carpet"
           }
          ],
          "choropleth": [
           {
            "colorbar": {
             "outlinewidth": 0,
             "ticks": ""
            },
            "type": "choropleth"
           }
          ],
          "contour": [
           {
            "colorbar": {
             "outlinewidth": 0,
             "ticks": ""
            },
            "colorscale": [
             [
              0,
              "#0d0887"
             ],
             [
              0.1111111111111111,
              "#46039f"
             ],
             [
              0.2222222222222222,
              "#7201a8"
             ],
             [
              0.3333333333333333,
              "#9c179e"
             ],
             [
              0.4444444444444444,
              "#bd3786"
             ],
             [
              0.5555555555555556,
              "#d8576b"
             ],
             [
              0.6666666666666666,
              "#ed7953"
             ],
             [
              0.7777777777777778,
              "#fb9f3a"
             ],
             [
              0.8888888888888888,
              "#fdca26"
             ],
             [
              1,
              "#f0f921"
             ]
            ],
            "type": "contour"
           }
          ],
          "contourcarpet": [
           {
            "colorbar": {
             "outlinewidth": 0,
             "ticks": ""
            },
            "type": "contourcarpet"
           }
          ],
          "heatmap": [
           {
            "colorbar": {
             "outlinewidth": 0,
             "ticks": ""
            },
            "colorscale": [
             [
              0,
              "#0d0887"
             ],
             [
              0.1111111111111111,
              "#46039f"
             ],
             [
              0.2222222222222222,
              "#7201a8"
             ],
             [
              0.3333333333333333,
              "#9c179e"
             ],
             [
              0.4444444444444444,
              "#bd3786"
             ],
             [
              0.5555555555555556,
              "#d8576b"
             ],
             [
              0.6666666666666666,
              "#ed7953"
             ],
             [
              0.7777777777777778,
              "#fb9f3a"
             ],
             [
              0.8888888888888888,
              "#fdca26"
             ],
             [
              1,
              "#f0f921"
             ]
            ],
            "type": "heatmap"
           }
          ],
          "heatmapgl": [
           {
            "colorbar": {
             "outlinewidth": 0,
             "ticks": ""
            },
            "colorscale": [
             [
              0,
              "#0d0887"
             ],
             [
              0.1111111111111111,
              "#46039f"
             ],
             [
              0.2222222222222222,
              "#7201a8"
             ],
             [
              0.3333333333333333,
              "#9c179e"
             ],
             [
              0.4444444444444444,
              "#bd3786"
             ],
             [
              0.5555555555555556,
              "#d8576b"
             ],
             [
              0.6666666666666666,
              "#ed7953"
             ],
             [
              0.7777777777777778,
              "#fb9f3a"
             ],
             [
              0.8888888888888888,
              "#fdca26"
             ],
             [
              1,
              "#f0f921"
             ]
            ],
            "type": "heatmapgl"
           }
          ],
          "histogram": [
           {
            "marker": {
             "pattern": {
              "fillmode": "overlay",
              "size": 10,
              "solidity": 0.2
             }
            },
            "type": "histogram"
           }
          ],
          "histogram2d": [
           {
            "colorbar": {
             "outlinewidth": 0,
             "ticks": ""
            },
            "colorscale": [
             [
              0,
              "#0d0887"
             ],
             [
              0.1111111111111111,
              "#46039f"
             ],
             [
              0.2222222222222222,
              "#7201a8"
             ],
             [
              0.3333333333333333,
              "#9c179e"
             ],
             [
              0.4444444444444444,
              "#bd3786"
             ],
             [
              0.5555555555555556,
              "#d8576b"
             ],
             [
              0.6666666666666666,
              "#ed7953"
             ],
             [
              0.7777777777777778,
              "#fb9f3a"
             ],
             [
              0.8888888888888888,
              "#fdca26"
             ],
             [
              1,
              "#f0f921"
             ]
            ],
            "type": "histogram2d"
           }
          ],
          "histogram2dcontour": [
           {
            "colorbar": {
             "outlinewidth": 0,
             "ticks": ""
            },
            "colorscale": [
             [
              0,
              "#0d0887"
             ],
             [
              0.1111111111111111,
              "#46039f"
             ],
             [
              0.2222222222222222,
              "#7201a8"
             ],
             [
              0.3333333333333333,
              "#9c179e"
             ],
             [
              0.4444444444444444,
              "#bd3786"
             ],
             [
              0.5555555555555556,
              "#d8576b"
             ],
             [
              0.6666666666666666,
              "#ed7953"
             ],
             [
              0.7777777777777778,
              "#fb9f3a"
             ],
             [
              0.8888888888888888,
              "#fdca26"
             ],
             [
              1,
              "#f0f921"
             ]
            ],
            "type": "histogram2dcontour"
           }
          ],
          "mesh3d": [
           {
            "colorbar": {
             "outlinewidth": 0,
             "ticks": ""
            },
            "type": "mesh3d"
           }
          ],
          "parcoords": [
           {
            "line": {
             "colorbar": {
              "outlinewidth": 0,
              "ticks": ""
             }
            },
            "type": "parcoords"
           }
          ],
          "pie": [
           {
            "automargin": true,
            "type": "pie"
           }
          ],
          "scatter": [
           {
            "fillpattern": {
             "fillmode": "overlay",
             "size": 10,
             "solidity": 0.2
            },
            "type": "scatter"
           }
          ],
          "scatter3d": [
           {
            "line": {
             "colorbar": {
              "outlinewidth": 0,
              "ticks": ""
             }
            },
            "marker": {
             "colorbar": {
              "outlinewidth": 0,
              "ticks": ""
             }
            },
            "type": "scatter3d"
           }
          ],
          "scattercarpet": [
           {
            "marker": {
             "colorbar": {
              "outlinewidth": 0,
              "ticks": ""
             }
            },
            "type": "scattercarpet"
           }
          ],
          "scattergeo": [
           {
            "marker": {
             "colorbar": {
              "outlinewidth": 0,
              "ticks": ""
             }
            },
            "type": "scattergeo"
           }
          ],
          "scattergl": [
           {
            "marker": {
             "colorbar": {
              "outlinewidth": 0,
              "ticks": ""
             }
            },
            "type": "scattergl"
           }
          ],
          "scattermapbox": [
           {
            "marker": {
             "colorbar": {
              "outlinewidth": 0,
              "ticks": ""
             }
            },
            "type": "scattermapbox"
           }
          ],
          "scatterpolar": [
           {
            "marker": {
             "colorbar": {
              "outlinewidth": 0,
              "ticks": ""
             }
            },
            "type": "scatterpolar"
           }
          ],
          "scatterpolargl": [
           {
            "marker": {
             "colorbar": {
              "outlinewidth": 0,
              "ticks": ""
             }
            },
            "type": "scatterpolargl"
           }
          ],
          "scatterternary": [
           {
            "marker": {
             "colorbar": {
              "outlinewidth": 0,
              "ticks": ""
             }
            },
            "type": "scatterternary"
           }
          ],
          "surface": [
           {
            "colorbar": {
             "outlinewidth": 0,
             "ticks": ""
            },
            "colorscale": [
             [
              0,
              "#0d0887"
             ],
             [
              0.1111111111111111,
              "#46039f"
             ],
             [
              0.2222222222222222,
              "#7201a8"
             ],
             [
              0.3333333333333333,
              "#9c179e"
             ],
             [
              0.4444444444444444,
              "#bd3786"
             ],
             [
              0.5555555555555556,
              "#d8576b"
             ],
             [
              0.6666666666666666,
              "#ed7953"
             ],
             [
              0.7777777777777778,
              "#fb9f3a"
             ],
             [
              0.8888888888888888,
              "#fdca26"
             ],
             [
              1,
              "#f0f921"
             ]
            ],
            "type": "surface"
           }
          ],
          "table": [
           {
            "cells": {
             "fill": {
              "color": "#EBF0F8"
             },
             "line": {
              "color": "white"
             }
            },
            "header": {
             "fill": {
              "color": "#C8D4E3"
             },
             "line": {
              "color": "white"
             }
            },
            "type": "table"
           }
          ]
         },
         "layout": {
          "annotationdefaults": {
           "arrowcolor": "#2a3f5f",
           "arrowhead": 0,
           "arrowwidth": 1
          },
          "autotypenumbers": "strict",
          "coloraxis": {
           "colorbar": {
            "outlinewidth": 0,
            "ticks": ""
           }
          },
          "colorscale": {
           "diverging": [
            [
             0,
             "#8e0152"
            ],
            [
             0.1,
             "#c51b7d"
            ],
            [
             0.2,
             "#de77ae"
            ],
            [
             0.3,
             "#f1b6da"
            ],
            [
             0.4,
             "#fde0ef"
            ],
            [
             0.5,
             "#f7f7f7"
            ],
            [
             0.6,
             "#e6f5d0"
            ],
            [
             0.7,
             "#b8e186"
            ],
            [
             0.8,
             "#7fbc41"
            ],
            [
             0.9,
             "#4d9221"
            ],
            [
             1,
             "#276419"
            ]
           ],
           "sequential": [
            [
             0,
             "#0d0887"
            ],
            [
             0.1111111111111111,
             "#46039f"
            ],
            [
             0.2222222222222222,
             "#7201a8"
            ],
            [
             0.3333333333333333,
             "#9c179e"
            ],
            [
             0.4444444444444444,
             "#bd3786"
            ],
            [
             0.5555555555555556,
             "#d8576b"
            ],
            [
             0.6666666666666666,
             "#ed7953"
            ],
            [
             0.7777777777777778,
             "#fb9f3a"
            ],
            [
             0.8888888888888888,
             "#fdca26"
            ],
            [
             1,
             "#f0f921"
            ]
           ],
           "sequentialminus": [
            [
             0,
             "#0d0887"
            ],
            [
             0.1111111111111111,
             "#46039f"
            ],
            [
             0.2222222222222222,
             "#7201a8"
            ],
            [
             0.3333333333333333,
             "#9c179e"
            ],
            [
             0.4444444444444444,
             "#bd3786"
            ],
            [
             0.5555555555555556,
             "#d8576b"
            ],
            [
             0.6666666666666666,
             "#ed7953"
            ],
            [
             0.7777777777777778,
             "#fb9f3a"
            ],
            [
             0.8888888888888888,
             "#fdca26"
            ],
            [
             1,
             "#f0f921"
            ]
           ]
          },
          "colorway": [
           "#636efa",
           "#EF553B",
           "#00cc96",
           "#ab63fa",
           "#FFA15A",
           "#19d3f3",
           "#FF6692",
           "#B6E880",
           "#FF97FF",
           "#FECB52"
          ],
          "font": {
           "color": "#2a3f5f"
          },
          "geo": {
           "bgcolor": "white",
           "lakecolor": "white",
           "landcolor": "#E5ECF6",
           "showlakes": true,
           "showland": true,
           "subunitcolor": "white"
          },
          "hoverlabel": {
           "align": "left"
          },
          "hovermode": "closest",
          "mapbox": {
           "style": "light"
          },
          "paper_bgcolor": "white",
          "plot_bgcolor": "#E5ECF6",
          "polar": {
           "angularaxis": {
            "gridcolor": "white",
            "linecolor": "white",
            "ticks": ""
           },
           "bgcolor": "#E5ECF6",
           "radialaxis": {
            "gridcolor": "white",
            "linecolor": "white",
            "ticks": ""
           }
          },
          "scene": {
           "xaxis": {
            "backgroundcolor": "#E5ECF6",
            "gridcolor": "white",
            "gridwidth": 2,
            "linecolor": "white",
            "showbackground": true,
            "ticks": "",
            "zerolinecolor": "white"
           },
           "yaxis": {
            "backgroundcolor": "#E5ECF6",
            "gridcolor": "white",
            "gridwidth": 2,
            "linecolor": "white",
            "showbackground": true,
            "ticks": "",
            "zerolinecolor": "white"
           },
           "zaxis": {
            "backgroundcolor": "#E5ECF6",
            "gridcolor": "white",
            "gridwidth": 2,
            "linecolor": "white",
            "showbackground": true,
            "ticks": "",
            "zerolinecolor": "white"
           }
          },
          "shapedefaults": {
           "line": {
            "color": "#2a3f5f"
           }
          },
          "ternary": {
           "aaxis": {
            "gridcolor": "white",
            "linecolor": "white",
            "ticks": ""
           },
           "baxis": {
            "gridcolor": "white",
            "linecolor": "white",
            "ticks": ""
           },
           "bgcolor": "#E5ECF6",
           "caxis": {
            "gridcolor": "white",
            "linecolor": "white",
            "ticks": ""
           }
          },
          "title": {
           "x": 0.05
          },
          "xaxis": {
           "automargin": true,
           "gridcolor": "white",
           "linecolor": "white",
           "ticks": "",
           "title": {
            "standoff": 15
           },
           "zerolinecolor": "white",
           "zerolinewidth": 2
          },
          "yaxis": {
           "automargin": true,
           "gridcolor": "white",
           "linecolor": "white",
           "ticks": "",
           "title": {
            "standoff": 15
           },
           "zerolinecolor": "white",
           "zerolinewidth": 2
          }
         }
        },
        "title": {
         "text": "Slope of Different Tickers Over Various Time Ranges"
        },
        "xaxis": {
         "anchor": "y",
         "domain": [
          0,
          1
         ],
         "title": {
          "text": "Time Range"
         }
        },
        "yaxis": {
         "anchor": "x",
         "domain": [
          0,
          1
         ],
         "title": {
          "text": "Slope"
         }
        }
       }
      },
      "text/html": [
       "<div>                            <div id=\"c6f7cc7b-dbf6-416d-8468-d87fb78829f5\" class=\"plotly-graph-div\" style=\"height:525px; width:100%;\"></div>            <script type=\"text/javascript\">                require([\"plotly\"], function(Plotly) {                    window.PLOTLYENV=window.PLOTLYENV || {};                                    if (document.getElementById(\"c6f7cc7b-dbf6-416d-8468-d87fb78829f5\")) {                    Plotly.newPlot(                        \"c6f7cc7b-dbf6-416d-8468-d87fb78829f5\",                        [{\"hovertemplate\":\"ticker=META\\u003cbr\\u003etime_range=%{x}\\u003cbr\\u003eslope=%{y}\\u003cextra\\u003e\\u003c\\u002fextra\\u003e\",\"legendgroup\":\"META\",\"line\":{\"color\":\"#636efa\",\"dash\":\"solid\"},\"marker\":{\"symbol\":\"circle\"},\"mode\":\"lines+markers\",\"name\":\"META\",\"orientation\":\"v\",\"showlegend\":true,\"x\":[\"5_years\",\"3_years\",\"1_year\",\"6_months\",\"3_months\"],\"xaxis\":\"x\",\"y\":[0.14759166077108088,0.46266968557985294,0.4452782300132678,0.6681804278127214,0.6809243611635986],\"yaxis\":\"y\",\"type\":\"scatter\"},{\"hovertemplate\":\"ticker=LLY\\u003cbr\\u003etime_range=%{x}\\u003cbr\\u003eslope=%{y}\\u003cextra\\u003e\\u003c\\u002fextra\\u003e\",\"legendgroup\":\"LLY\",\"line\":{\"color\":\"#EF553B\",\"dash\":\"solid\"},\"marker\":{\"symbol\":\"circle\"},\"mode\":\"lines+markers\",\"name\":\"LLY\",\"orientation\":\"v\",\"showlegend\":true,\"x\":[\"5_years\",\"3_years\",\"1_year\",\"6_months\",\"3_months\"],\"xaxis\":\"x\",\"y\":[0.43374357906199756,0.6740197756045735,0.2226437997196528,-1.082884993970198,-0.42686404323337923],\"yaxis\":\"y\",\"type\":\"scatter\"},{\"hovertemplate\":\"ticker=AAPL\\u003cbr\\u003etime_range=%{x}\\u003cbr\\u003eslope=%{y}\\u003cextra\\u003e\\u003c\\u002fextra\\u003e\",\"legendgroup\":\"AAPL\",\"line\":{\"color\":\"#00cc96\",\"dash\":\"solid\"},\"marker\":{\"symbol\":\"circle\"},\"mode\":\"lines+markers\",\"name\":\"AAPL\",\"orientation\":\"v\",\"showlegend\":true,\"x\":[\"5_years\",\"3_years\",\"1_year\",\"6_months\",\"3_months\"],\"xaxis\":\"x\",\"y\":[0.07166625697832202,0.0797314653687461,0.22378899043375844,0.14527264335494203,0.15447546798393802],\"yaxis\":\"y\",\"type\":\"scatter\"},{\"hovertemplate\":\"ticker=CEG\\u003cbr\\u003etime_range=%{x}\\u003cbr\\u003eslope=%{y}\\u003cextra\\u003e\\u003c\\u002fextra\\u003e\",\"legendgroup\":\"CEG\",\"line\":{\"color\":\"#ab63fa\",\"dash\":\"solid\"},\"marker\":{\"symbol\":\"circle\"},\"mode\":\"lines+markers\",\"name\":\"CEG\",\"orientation\":\"v\",\"showlegend\":true,\"x\":[\"5_years\",\"3_years\",\"1_year\",\"6_months\",\"3_months\"],\"xaxis\":\"x\",\"y\":[0.10228380853276435,0.19370641948358724,0.33258644976282686,0.5309925912333443,0.7817643180768113],\"yaxis\":\"y\",\"type\":\"scatter\"},{\"hovertemplate\":\"ticker=MU\\u003cbr\\u003etime_range=%{x}\\u003cbr\\u003eslope=%{y}\\u003cextra\\u003e\\u003c\\u002fextra\\u003e\",\"legendgroup\":\"MU\",\"line\":{\"color\":\"#FFA15A\",\"dash\":\"solid\"},\"marker\":{\"symbol\":\"circle\"},\"mode\":\"lines+markers\",\"name\":\"MU\",\"orientation\":\"v\",\"showlegend\":true,\"x\":[\"5_years\",\"3_years\",\"1_year\",\"6_months\",\"3_months\"],\"xaxis\":\"x\",\"y\":[0.02463999368641419,0.05093987118281442,-0.02401929725725244,0.02150182801848764,-0.06354191427697421],\"yaxis\":\"y\",\"type\":\"scatter\"},{\"hovertemplate\":\"ticker=TGS\\u003cbr\\u003etime_range=%{x}\\u003cbr\\u003eslope=%{y}\\u003cextra\\u003e\\u003c\\u002fextra\\u003e\",\"legendgroup\":\"TGS\",\"line\":{\"color\":\"#19d3f3\",\"dash\":\"solid\"},\"marker\":{\"symbol\":\"circle\"},\"mode\":\"lines+markers\",\"name\":\"TGS\",\"orientation\":\"v\",\"showlegend\":true,\"x\":[\"5_years\",\"3_years\",\"1_year\",\"6_months\",\"3_months\"],\"xaxis\":\"x\",\"y\":[0.010274823177983668,0.018187351594747627,0.04520340735887502,0.087802821793543,0.07488792527113824],\"yaxis\":\"y\",\"type\":\"scatter\"},{\"hovertemplate\":\"ticker=JPM\\u003cbr\\u003etime_range=%{x}\\u003cbr\\u003eslope=%{y}\\u003cextra\\u003e\\u003c\\u002fextra\\u003e\",\"legendgroup\":\"JPM\",\"line\":{\"color\":\"#FF6692\",\"dash\":\"solid\"},\"marker\":{\"symbol\":\"circle\"},\"mode\":\"lines+markers\",\"name\":\"JPM\",\"orientation\":\"v\",\"showlegend\":true,\"x\":[\"5_years\",\"3_years\",\"1_year\",\"6_months\",\"3_months\"],\"xaxis\":\"x\",\"y\":[0.05471670166242262,0.11169059335486624,0.19580690710200424,0.29906775463064955,0.21198772470676058],\"yaxis\":\"y\",\"type\":\"scatter\"},{\"hovertemplate\":\"ticker=SMR\\u003cbr\\u003etime_range=%{x}\\u003cbr\\u003eslope=%{y}\\u003cextra\\u003e\\u003c\\u002fextra\\u003e\",\"legendgroup\":\"SMR\",\"line\":{\"color\":\"#B6E880\",\"dash\":\"solid\"},\"marker\":{\"symbol\":\"circle\"},\"mode\":\"lines+markers\",\"name\":\"SMR\",\"orientation\":\"v\",\"showlegend\":true,\"x\":[\"5_years\",\"3_years\",\"1_year\",\"6_months\",\"3_months\"],\"xaxis\":\"x\",\"y\":[0.005007260324682237,0.002247608367287497,0.06146649190278835,0.11206108174106374,-0.023928558163443442],\"yaxis\":\"y\",\"type\":\"scatter\"},{\"hovertemplate\":\"ticker=ARM\\u003cbr\\u003etime_range=%{x}\\u003cbr\\u003eslope=%{y}\\u003cextra\\u003e\\u003c\\u002fextra\\u003e\",\"legendgroup\":\"ARM\",\"line\":{\"color\":\"#FF97FF\",\"dash\":\"solid\"},\"marker\":{\"symbol\":\"circle\"},\"mode\":\"lines+markers\",\"name\":\"ARM\",\"orientation\":\"v\",\"showlegend\":true,\"x\":[\"5_years\",\"3_years\",\"1_year\",\"6_months\",\"3_months\"],\"xaxis\":\"x\",\"y\":[0.045635438954052865,0.10639442932893517,0.08643368355151441,0.10961987424681183,0.13319640469406802],\"yaxis\":\"y\",\"type\":\"scatter\"},{\"hovertemplate\":\"ticker=AVAV\\u003cbr\\u003etime_range=%{x}\\u003cbr\\u003eslope=%{y}\\u003cextra\\u003e\\u003c\\u002fextra\\u003e\",\"legendgroup\":\"AVAV\",\"line\":{\"color\":\"#FECB52\",\"dash\":\"solid\"},\"marker\":{\"symbol\":\"circle\"},\"mode\":\"lines+markers\",\"name\":\"AVAV\",\"orientation\":\"v\",\"showlegend\":true,\"x\":[\"5_years\",\"3_years\",\"1_year\",\"6_months\",\"3_months\"],\"xaxis\":\"x\",\"y\":[0.05794620473788617,0.121194160165775,0.13673579468827968,-0.12361928274782007,-0.7189773993451417],\"yaxis\":\"y\",\"type\":\"scatter\"},{\"hovertemplate\":\"ticker=VRSK\\u003cbr\\u003etime_range=%{x}\\u003cbr\\u003eslope=%{y}\\u003cextra\\u003e\\u003c\\u002fextra\\u003e\",\"legendgroup\":\"VRSK\",\"line\":{\"color\":\"#636efa\",\"dash\":\"solid\"},\"marker\":{\"symbol\":\"circle\"},\"mode\":\"lines+markers\",\"name\":\"VRSK\",\"orientation\":\"v\",\"showlegend\":true,\"x\":[\"5_years\",\"3_years\",\"1_year\",\"6_months\",\"3_months\"],\"xaxis\":\"x\",\"y\":[0.05643575787414116,0.10368081166450793,0.15058877343808688,0.10390477696603277,-0.1205094896738546],\"yaxis\":\"y\",\"type\":\"scatter\"},{\"hovertemplate\":\"ticker=Z\\u003cbr\\u003etime_range=%{x}\\u003cbr\\u003eslope=%{y}\\u003cextra\\u003e\\u003c\\u002fextra\\u003e\",\"legendgroup\":\"Z\",\"line\":{\"color\":\"#EF553B\",\"dash\":\"solid\"},\"marker\":{\"symbol\":\"circle\"},\"mode\":\"lines+markers\",\"name\":\"Z\",\"orientation\":\"v\",\"showlegend\":true,\"x\":[\"5_years\",\"3_years\",\"1_year\",\"6_months\",\"3_months\"],\"xaxis\":\"x\",\"y\":[-0.025943502132356938,0.02384179344857437,0.0909237829819669,0.18566881093662266,0.061836837023259546],\"yaxis\":\"y\",\"type\":\"scatter\"},{\"hovertemplate\":\"ticker=SPOT\\u003cbr\\u003etime_range=%{x}\\u003cbr\\u003eslope=%{y}\\u003cextra\\u003e\\u003c\\u002fextra\\u003e\",\"legendgroup\":\"SPOT\",\"line\":{\"color\":\"#00cc96\",\"dash\":\"solid\"},\"marker\":{\"symbol\":\"circle\"},\"mode\":\"lines+markers\",\"name\":\"SPOT\",\"orientation\":\"v\",\"showlegend\":true,\"x\":[\"5_years\",\"3_years\",\"1_year\",\"6_months\",\"3_months\"],\"xaxis\":\"x\",\"y\":[0.04294096473504481,0.31201934987643815,0.6885790021278817,1.1035763712829114,0.7743925493990085],\"yaxis\":\"y\",\"type\":\"scatter\"},{\"hovertemplate\":\"ticker=RBLX\\u003cbr\\u003etime_range=%{x}\\u003cbr\\u003eslope=%{y}\\u003cextra\\u003e\\u003c\\u002fextra\\u003e\",\"legendgroup\":\"RBLX\",\"line\":{\"color\":\"#ab63fa\",\"dash\":\"solid\"},\"marker\":{\"symbol\":\"circle\"},\"mode\":\"lines+markers\",\"name\":\"RBLX\",\"orientation\":\"v\",\"showlegend\":true,\"x\":[\"5_years\",\"3_years\",\"1_year\",\"6_months\",\"3_months\"],\"xaxis\":\"x\",\"y\":[-0.022265389179206996,0.005449217367329738,0.06232461752434291,0.15270697279074275,0.18865482469125355],\"yaxis\":\"y\",\"type\":\"scatter\"},{\"hovertemplate\":\"ticker=BRK.B\\u003cbr\\u003etime_range=%{x}\\u003cbr\\u003eslope=%{y}\\u003cextra\\u003e\\u003c\\u002fextra\\u003e\",\"legendgroup\":\"BRK.B\",\"line\":{\"color\":\"#FFA15A\",\"dash\":\"solid\"},\"marker\":{\"symbol\":\"circle\"},\"mode\":\"lines+markers\",\"name\":\"BRK.B\",\"orientation\":\"v\",\"showlegend\":true,\"x\":[\"5_years\",\"3_years\",\"1_year\",\"6_months\",\"3_months\"],\"xaxis\":\"x\",\"y\":[0.14042852025934605,0.16847195880105334,0.22377113696481288,0.09133069921297769,-0.13268050809594967],\"yaxis\":\"y\",\"type\":\"scatter\"},{\"hovertemplate\":\"ticker=GOOGL\\u003cbr\\u003etime_range=%{x}\\u003cbr\\u003eslope=%{y}\\u003cextra\\u003e\\u003c\\u002fextra\\u003e\",\"legendgroup\":\"GOOGL\",\"line\":{\"color\":\"#19d3f3\",\"dash\":\"solid\"},\"marker\":{\"symbol\":\"circle\"},\"mode\":\"lines+markers\",\"name\":\"GOOGL\",\"orientation\":\"v\",\"showlegend\":true,\"x\":[\"5_years\",\"3_years\",\"1_year\",\"6_months\",\"3_months\"],\"xaxis\":\"x\",\"y\":[0.04958393805308097,0.07181324335820784,0.10801099617268745,0.23432470140914463,0.35263612390360277],\"yaxis\":\"y\",\"type\":\"scatter\"},{\"hovertemplate\":\"ticker=SHOP\\u003cbr\\u003etime_range=%{x}\\u003cbr\\u003eslope=%{y}\\u003cextra\\u003e\\u003c\\u002fextra\\u003e\",\"legendgroup\":\"SHOP\",\"line\":{\"color\":\"#FF6692\",\"dash\":\"solid\"},\"marker\":{\"symbol\":\"circle\"},\"mode\":\"lines+markers\",\"name\":\"SHOP\",\"orientation\":\"v\",\"showlegend\":true,\"x\":[\"5_years\",\"3_years\",\"1_year\",\"6_months\",\"3_months\"],\"xaxis\":\"x\",\"y\":[-0.020403103302545442,0.047297177169901033,0.10013914994247657,0.30999702213257124,0.16825128138537346],\"yaxis\":\"y\",\"type\":\"scatter\"},{\"hovertemplate\":\"ticker=NVDA\\u003cbr\\u003etime_range=%{x}\\u003cbr\\u003eslope=%{y}\\u003cextra\\u003e\\u003c\\u002fextra\\u003e\",\"legendgroup\":\"NVDA\",\"line\":{\"color\":\"#B6E880\",\"dash\":\"solid\"},\"marker\":{\"symbol\":\"circle\"},\"mode\":\"lines+markers\",\"name\":\"NVDA\",\"orientation\":\"v\",\"showlegend\":true,\"x\":[\"5_years\",\"3_years\",\"1_year\",\"6_months\",\"3_months\"],\"xaxis\":\"x\",\"y\":[0.061945528714791885,0.12672851889107656,0.2041879185465507,0.18815335719293297,-0.04892586539837182],\"yaxis\":\"y\",\"type\":\"scatter\"},{\"hovertemplate\":\"ticker=GS\\u003cbr\\u003etime_range=%{x}\\u003cbr\\u003eslope=%{y}\\u003cextra\\u003e\\u003c\\u002fextra\\u003e\",\"legendgroup\":\"GS\",\"line\":{\"color\":\"#FF97FF\",\"dash\":\"solid\"},\"marker\":{\"symbol\":\"circle\"},\"mode\":\"lines+markers\",\"name\":\"GS\",\"orientation\":\"v\",\"showlegend\":true,\"x\":[\"5_years\",\"3_years\",\"1_year\",\"6_months\",\"3_months\"],\"xaxis\":\"x\",\"y\":[0.14497787525406225,0.2118720357574435,0.6413262203850242,0.8522848347697395,0.38951298098515547],\"yaxis\":\"y\",\"type\":\"scatter\"}],                        {\"template\":{\"data\":{\"histogram2dcontour\":[{\"type\":\"histogram2dcontour\",\"colorbar\":{\"outlinewidth\":0,\"ticks\":\"\"},\"colorscale\":[[0.0,\"#0d0887\"],[0.1111111111111111,\"#46039f\"],[0.2222222222222222,\"#7201a8\"],[0.3333333333333333,\"#9c179e\"],[0.4444444444444444,\"#bd3786\"],[0.5555555555555556,\"#d8576b\"],[0.6666666666666666,\"#ed7953\"],[0.7777777777777778,\"#fb9f3a\"],[0.8888888888888888,\"#fdca26\"],[1.0,\"#f0f921\"]]}],\"choropleth\":[{\"type\":\"choropleth\",\"colorbar\":{\"outlinewidth\":0,\"ticks\":\"\"}}],\"histogram2d\":[{\"type\":\"histogram2d\",\"colorbar\":{\"outlinewidth\":0,\"ticks\":\"\"},\"colorscale\":[[0.0,\"#0d0887\"],[0.1111111111111111,\"#46039f\"],[0.2222222222222222,\"#7201a8\"],[0.3333333333333333,\"#9c179e\"],[0.4444444444444444,\"#bd3786\"],[0.5555555555555556,\"#d8576b\"],[0.6666666666666666,\"#ed7953\"],[0.7777777777777778,\"#fb9f3a\"],[0.8888888888888888,\"#fdca26\"],[1.0,\"#f0f921\"]]}],\"heatmap\":[{\"type\":\"heatmap\",\"colorbar\":{\"outlinewidth\":0,\"ticks\":\"\"},\"colorscale\":[[0.0,\"#0d0887\"],[0.1111111111111111,\"#46039f\"],[0.2222222222222222,\"#7201a8\"],[0.3333333333333333,\"#9c179e\"],[0.4444444444444444,\"#bd3786\"],[0.5555555555555556,\"#d8576b\"],[0.6666666666666666,\"#ed7953\"],[0.7777777777777778,\"#fb9f3a\"],[0.8888888888888888,\"#fdca26\"],[1.0,\"#f0f921\"]]}],\"heatmapgl\":[{\"type\":\"heatmapgl\",\"colorbar\":{\"outlinewidth\":0,\"ticks\":\"\"},\"colorscale\":[[0.0,\"#0d0887\"],[0.1111111111111111,\"#46039f\"],[0.2222222222222222,\"#7201a8\"],[0.3333333333333333,\"#9c179e\"],[0.4444444444444444,\"#bd3786\"],[0.5555555555555556,\"#d8576b\"],[0.6666666666666666,\"#ed7953\"],[0.7777777777777778,\"#fb9f3a\"],[0.8888888888888888,\"#fdca26\"],[1.0,\"#f0f921\"]]}],\"contourcarpet\":[{\"type\":\"contourcarpet\",\"colorbar\":{\"outlinewidth\":0,\"ticks\":\"\"}}],\"contour\":[{\"type\":\"contour\",\"colorbar\":{\"outlinewidth\":0,\"ticks\":\"\"},\"colorscale\":[[0.0,\"#0d0887\"],[0.1111111111111111,\"#46039f\"],[0.2222222222222222,\"#7201a8\"],[0.3333333333333333,\"#9c179e\"],[0.4444444444444444,\"#bd3786\"],[0.5555555555555556,\"#d8576b\"],[0.6666666666666666,\"#ed7953\"],[0.7777777777777778,\"#fb9f3a\"],[0.8888888888888888,\"#fdca26\"],[1.0,\"#f0f921\"]]}],\"surface\":[{\"type\":\"surface\",\"colorbar\":{\"outlinewidth\":0,\"ticks\":\"\"},\"colorscale\":[[0.0,\"#0d0887\"],[0.1111111111111111,\"#46039f\"],[0.2222222222222222,\"#7201a8\"],[0.3333333333333333,\"#9c179e\"],[0.4444444444444444,\"#bd3786\"],[0.5555555555555556,\"#d8576b\"],[0.6666666666666666,\"#ed7953\"],[0.7777777777777778,\"#fb9f3a\"],[0.8888888888888888,\"#fdca26\"],[1.0,\"#f0f921\"]]}],\"mesh3d\":[{\"type\":\"mesh3d\",\"colorbar\":{\"outlinewidth\":0,\"ticks\":\"\"}}],\"scatter\":[{\"fillpattern\":{\"fillmode\":\"overlay\",\"size\":10,\"solidity\":0.2},\"type\":\"scatter\"}],\"parcoords\":[{\"type\":\"parcoords\",\"line\":{\"colorbar\":{\"outlinewidth\":0,\"ticks\":\"\"}}}],\"scatterpolargl\":[{\"type\":\"scatterpolargl\",\"marker\":{\"colorbar\":{\"outlinewidth\":0,\"ticks\":\"\"}}}],\"bar\":[{\"error_x\":{\"color\":\"#2a3f5f\"},\"error_y\":{\"color\":\"#2a3f5f\"},\"marker\":{\"line\":{\"color\":\"#E5ECF6\",\"width\":0.5},\"pattern\":{\"fillmode\":\"overlay\",\"size\":10,\"solidity\":0.2}},\"type\":\"bar\"}],\"scattergeo\":[{\"type\":\"scattergeo\",\"marker\":{\"colorbar\":{\"outlinewidth\":0,\"ticks\":\"\"}}}],\"scatterpolar\":[{\"type\":\"scatterpolar\",\"marker\":{\"colorbar\":{\"outlinewidth\":0,\"ticks\":\"\"}}}],\"histogram\":[{\"marker\":{\"pattern\":{\"fillmode\":\"overlay\",\"size\":10,\"solidity\":0.2}},\"type\":\"histogram\"}],\"scattergl\":[{\"type\":\"scattergl\",\"marker\":{\"colorbar\":{\"outlinewidth\":0,\"ticks\":\"\"}}}],\"scatter3d\":[{\"type\":\"scatter3d\",\"line\":{\"colorbar\":{\"outlinewidth\":0,\"ticks\":\"\"}},\"marker\":{\"colorbar\":{\"outlinewidth\":0,\"ticks\":\"\"}}}],\"scattermapbox\":[{\"type\":\"scattermapbox\",\"marker\":{\"colorbar\":{\"outlinewidth\":0,\"ticks\":\"\"}}}],\"scatterternary\":[{\"type\":\"scatterternary\",\"marker\":{\"colorbar\":{\"outlinewidth\":0,\"ticks\":\"\"}}}],\"scattercarpet\":[{\"type\":\"scattercarpet\",\"marker\":{\"colorbar\":{\"outlinewidth\":0,\"ticks\":\"\"}}}],\"carpet\":[{\"aaxis\":{\"endlinecolor\":\"#2a3f5f\",\"gridcolor\":\"white\",\"linecolor\":\"white\",\"minorgridcolor\":\"white\",\"startlinecolor\":\"#2a3f5f\"},\"baxis\":{\"endlinecolor\":\"#2a3f5f\",\"gridcolor\":\"white\",\"linecolor\":\"white\",\"minorgridcolor\":\"white\",\"startlinecolor\":\"#2a3f5f\"},\"type\":\"carpet\"}],\"table\":[{\"cells\":{\"fill\":{\"color\":\"#EBF0F8\"},\"line\":{\"color\":\"white\"}},\"header\":{\"fill\":{\"color\":\"#C8D4E3\"},\"line\":{\"color\":\"white\"}},\"type\":\"table\"}],\"barpolar\":[{\"marker\":{\"line\":{\"color\":\"#E5ECF6\",\"width\":0.5},\"pattern\":{\"fillmode\":\"overlay\",\"size\":10,\"solidity\":0.2}},\"type\":\"barpolar\"}],\"pie\":[{\"automargin\":true,\"type\":\"pie\"}]},\"layout\":{\"autotypenumbers\":\"strict\",\"colorway\":[\"#636efa\",\"#EF553B\",\"#00cc96\",\"#ab63fa\",\"#FFA15A\",\"#19d3f3\",\"#FF6692\",\"#B6E880\",\"#FF97FF\",\"#FECB52\"],\"font\":{\"color\":\"#2a3f5f\"},\"hovermode\":\"closest\",\"hoverlabel\":{\"align\":\"left\"},\"paper_bgcolor\":\"white\",\"plot_bgcolor\":\"#E5ECF6\",\"polar\":{\"bgcolor\":\"#E5ECF6\",\"angularaxis\":{\"gridcolor\":\"white\",\"linecolor\":\"white\",\"ticks\":\"\"},\"radialaxis\":{\"gridcolor\":\"white\",\"linecolor\":\"white\",\"ticks\":\"\"}},\"ternary\":{\"bgcolor\":\"#E5ECF6\",\"aaxis\":{\"gridcolor\":\"white\",\"linecolor\":\"white\",\"ticks\":\"\"},\"baxis\":{\"gridcolor\":\"white\",\"linecolor\":\"white\",\"ticks\":\"\"},\"caxis\":{\"gridcolor\":\"white\",\"linecolor\":\"white\",\"ticks\":\"\"}},\"coloraxis\":{\"colorbar\":{\"outlinewidth\":0,\"ticks\":\"\"}},\"colorscale\":{\"sequential\":[[0.0,\"#0d0887\"],[0.1111111111111111,\"#46039f\"],[0.2222222222222222,\"#7201a8\"],[0.3333333333333333,\"#9c179e\"],[0.4444444444444444,\"#bd3786\"],[0.5555555555555556,\"#d8576b\"],[0.6666666666666666,\"#ed7953\"],[0.7777777777777778,\"#fb9f3a\"],[0.8888888888888888,\"#fdca26\"],[1.0,\"#f0f921\"]],\"sequentialminus\":[[0.0,\"#0d0887\"],[0.1111111111111111,\"#46039f\"],[0.2222222222222222,\"#7201a8\"],[0.3333333333333333,\"#9c179e\"],[0.4444444444444444,\"#bd3786\"],[0.5555555555555556,\"#d8576b\"],[0.6666666666666666,\"#ed7953\"],[0.7777777777777778,\"#fb9f3a\"],[0.8888888888888888,\"#fdca26\"],[1.0,\"#f0f921\"]],\"diverging\":[[0,\"#8e0152\"],[0.1,\"#c51b7d\"],[0.2,\"#de77ae\"],[0.3,\"#f1b6da\"],[0.4,\"#fde0ef\"],[0.5,\"#f7f7f7\"],[0.6,\"#e6f5d0\"],[0.7,\"#b8e186\"],[0.8,\"#7fbc41\"],[0.9,\"#4d9221\"],[1,\"#276419\"]]},\"xaxis\":{\"gridcolor\":\"white\",\"linecolor\":\"white\",\"ticks\":\"\",\"title\":{\"standoff\":15},\"zerolinecolor\":\"white\",\"automargin\":true,\"zerolinewidth\":2},\"yaxis\":{\"gridcolor\":\"white\",\"linecolor\":\"white\",\"ticks\":\"\",\"title\":{\"standoff\":15},\"zerolinecolor\":\"white\",\"automargin\":true,\"zerolinewidth\":2},\"scene\":{\"xaxis\":{\"backgroundcolor\":\"#E5ECF6\",\"gridcolor\":\"white\",\"linecolor\":\"white\",\"showbackground\":true,\"ticks\":\"\",\"zerolinecolor\":\"white\",\"gridwidth\":2},\"yaxis\":{\"backgroundcolor\":\"#E5ECF6\",\"gridcolor\":\"white\",\"linecolor\":\"white\",\"showbackground\":true,\"ticks\":\"\",\"zerolinecolor\":\"white\",\"gridwidth\":2},\"zaxis\":{\"backgroundcolor\":\"#E5ECF6\",\"gridcolor\":\"white\",\"linecolor\":\"white\",\"showbackground\":true,\"ticks\":\"\",\"zerolinecolor\":\"white\",\"gridwidth\":2}},\"shapedefaults\":{\"line\":{\"color\":\"#2a3f5f\"}},\"annotationdefaults\":{\"arrowcolor\":\"#2a3f5f\",\"arrowhead\":0,\"arrowwidth\":1},\"geo\":{\"bgcolor\":\"white\",\"landcolor\":\"#E5ECF6\",\"subunitcolor\":\"white\",\"showland\":true,\"showlakes\":true,\"lakecolor\":\"white\"},\"title\":{\"x\":0.05},\"mapbox\":{\"style\":\"light\"}}},\"xaxis\":{\"anchor\":\"y\",\"domain\":[0.0,1.0],\"title\":{\"text\":\"Time Range\"}},\"yaxis\":{\"anchor\":\"x\",\"domain\":[0.0,1.0],\"title\":{\"text\":\"Slope\"}},\"legend\":{\"title\":{\"text\":\"ticker\"},\"tracegroupgap\":0},\"margin\":{\"t\":60},\"title\":{\"text\":\"Slope of Different Tickers Over Various Time Ranges\"}},                        {\"responsive\": true}                    ).then(function(){\n",
       "                            \n",
       "var gd = document.getElementById('c6f7cc7b-dbf6-416d-8468-d87fb78829f5');\n",
       "var x = new MutationObserver(function (mutations, observer) {{\n",
       "        var display = window.getComputedStyle(gd).display;\n",
       "        if (!display || display === 'none') {{\n",
       "            console.log([gd, 'removed!']);\n",
       "            Plotly.purge(gd);\n",
       "            observer.disconnect();\n",
       "        }}\n",
       "}});\n",
       "\n",
       "// Listen for the removal of the full notebook cells\n",
       "var notebookContainer = gd.closest('#notebook-container');\n",
       "if (notebookContainer) {{\n",
       "    x.observe(notebookContainer, {childList: true});\n",
       "}}\n",
       "\n",
       "// Listen for the clearing of the current output cell\n",
       "var outputEl = gd.closest('.output');\n",
       "if (outputEl) {{\n",
       "    x.observe(outputEl, {childList: true});\n",
       "}}\n",
       "\n",
       "                        })                };                });            </script>        </div>"
      ]
     },
     "metadata": {},
     "output_type": "display_data"
    }
   ],
   "source": [
    "import plotly.express as px\n",
    "\n",
    "# Sort the time ranges\n",
    "time_ranges_order = ['3_months', '6_months', '1_year', '3_years', '5_years']\n",
    "aggregated_results['time_range'] = pd.Categorical(aggregated_results['time_range'], categories=time_ranges_order, ordered=True)\n",
    "sorted_results = aggregated_results.sort_values('time_range', ascending=False)\n",
    "\n",
    "# Create the plot\n",
    "fig = px.line(sorted_results, x='time_range', y='slope', color='ticker', markers=True)\n",
    "\n",
    "fig.update_layout(\n",
    "    title=\"Slope of Different Tickers Over Various Time Ranges\",\n",
    "    xaxis_title=\"Time Range\",\n",
    "    yaxis_title=\"Slope\"\n",
    ")\n",
    "\n",
    "fig.show()\n"
   ]
  },
  {
   "cell_type": "code",
   "execution_count": null,
   "metadata": {},
   "outputs": [],
   "source": []
  }
 ],
 "metadata": {
  "kernelspec": {
   "display_name": "Python 3.8 - AzureML",
   "language": "python",
   "name": "python38-azureml"
  },
  "language_info": {
   "codemirror_mode": {
    "name": "ipython",
    "version": 3
   },
   "file_extension": ".py",
   "mimetype": "text/x-python",
   "name": "python",
   "nbconvert_exporter": "python",
   "pygments_lexer": "ipython3",
   "version": "3.9.19"
  }
 },
 "nbformat": 4,
 "nbformat_minor": 2
}
